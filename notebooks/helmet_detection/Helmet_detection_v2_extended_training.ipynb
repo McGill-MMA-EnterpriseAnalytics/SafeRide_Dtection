{
  "cells": [
    {
      "cell_type": "markdown",
      "metadata": {
        "id": "vG7zfCT4VUEB"
      },
      "source": [
        "# Installing libraries"
      ]
    },
    {
      "cell_type": "code",
      "execution_count": null,
      "metadata": {
        "colab": {
          "base_uri": "https://localhost:8080/",
          "height": 1000
        },
        "id": "e8KJgM8Vx_wh",
        "outputId": "c5fe2b84-3d1b-4918-b5f1-bd8d816b074d"
      },
      "outputs": [
        {
          "name": "stdout",
          "output_type": "stream",
          "text": [
            "Ignoring colorama: markers 'python_version >= \"3.11\" and python_version < \"4.0\" and platform_system == \"Windows\"' don't match your environment\n",
            "Ignoring pywin32: markers 'python_version >= \"3.11\" and python_version < \"4.0\" and sys_platform == \"win32\"' don't match your environment\n",
            "Ignoring waitress: markers 'python_version >= \"3.11\" and python_version < \"4.0\" and platform_system == \"Windows\"' don't match your environment\n",
            "Collecting alembic==1.15.2 (from -r https://raw.githubusercontent.com/McGill-MMA-EnterpriseAnalytics/SafeRide_Dtection/refs/heads/main/requirements.txt (line 1))\n",
            "  Downloading alembic-1.15.2-py3-none-any.whl.metadata (7.3 kB)\n",
            "Requirement already satisfied: annotated-types==0.7.0 in /usr/local/lib/python3.11/dist-packages (from -r https://raw.githubusercontent.com/McGill-MMA-EnterpriseAnalytics/SafeRide_Dtection/refs/heads/main/requirements.txt (line 2)) (0.7.0)\n",
            "Requirement already satisfied: anyio==4.9.0 in /usr/local/lib/python3.11/dist-packages (from -r https://raw.githubusercontent.com/McGill-MMA-EnterpriseAnalytics/SafeRide_Dtection/refs/heads/main/requirements.txt (line 3)) (4.9.0)\n",
            "Requirement already satisfied: bleach==6.2.0 in /usr/local/lib/python3.11/dist-packages (from -r https://raw.githubusercontent.com/McGill-MMA-EnterpriseAnalytics/SafeRide_Dtection/refs/heads/main/requirements.txt (line 4)) (6.2.0)\n",
            "Requirement already satisfied: blinker==1.9.0 in /usr/local/lib/python3.11/dist-packages (from -r https://raw.githubusercontent.com/McGill-MMA-EnterpriseAnalytics/SafeRide_Dtection/refs/heads/main/requirements.txt (line 5)) (1.9.0)\n",
            "Requirement already satisfied: cachetools==5.5.2 in /usr/local/lib/python3.11/dist-packages (from -r https://raw.githubusercontent.com/McGill-MMA-EnterpriseAnalytics/SafeRide_Dtection/refs/heads/main/requirements.txt (line 6)) (5.5.2)\n",
            "Collecting certifi==2025.4.26 (from -r https://raw.githubusercontent.com/McGill-MMA-EnterpriseAnalytics/SafeRide_Dtection/refs/heads/main/requirements.txt (line 7))\n",
            "  Downloading certifi-2025.4.26-py3-none-any.whl.metadata (2.5 kB)\n",
            "Requirement already satisfied: charset-normalizer==3.4.1 in /usr/local/lib/python3.11/dist-packages (from -r https://raw.githubusercontent.com/McGill-MMA-EnterpriseAnalytics/SafeRide_Dtection/refs/heads/main/requirements.txt (line 8)) (3.4.1)\n",
            "Requirement already satisfied: click==8.1.8 in /usr/local/lib/python3.11/dist-packages (from -r https://raw.githubusercontent.com/McGill-MMA-EnterpriseAnalytics/SafeRide_Dtection/refs/heads/main/requirements.txt (line 9)) (8.1.8)\n",
            "Requirement already satisfied: cloudpickle==3.1.1 in /usr/local/lib/python3.11/dist-packages (from -r https://raw.githubusercontent.com/McGill-MMA-EnterpriseAnalytics/SafeRide_Dtection/refs/heads/main/requirements.txt (line 10)) (3.1.1)\n",
            "Requirement already satisfied: contourpy==1.3.2 in /usr/local/lib/python3.11/dist-packages (from -r https://raw.githubusercontent.com/McGill-MMA-EnterpriseAnalytics/SafeRide_Dtection/refs/heads/main/requirements.txt (line 12)) (1.3.2)\n",
            "Requirement already satisfied: cycler==0.12.1 in /usr/local/lib/python3.11/dist-packages (from -r https://raw.githubusercontent.com/McGill-MMA-EnterpriseAnalytics/SafeRide_Dtection/refs/heads/main/requirements.txt (line 13)) (0.12.1)\n",
            "Collecting databricks-sdk==0.50.0 (from -r https://raw.githubusercontent.com/McGill-MMA-EnterpriseAnalytics/SafeRide_Dtection/refs/heads/main/requirements.txt (line 14))\n",
            "  Downloading databricks_sdk-0.50.0-py3-none-any.whl.metadata (38 kB)\n",
            "Requirement already satisfied: deprecated==1.2.18 in /usr/local/lib/python3.11/dist-packages (from -r https://raw.githubusercontent.com/McGill-MMA-EnterpriseAnalytics/SafeRide_Dtection/refs/heads/main/requirements.txt (line 15)) (1.2.18)\n",
            "Collecting docker==7.1.0 (from -r https://raw.githubusercontent.com/McGill-MMA-EnterpriseAnalytics/SafeRide_Dtection/refs/heads/main/requirements.txt (line 16))\n",
            "  Downloading docker-7.1.0-py3-none-any.whl.metadata (3.8 kB)\n",
            "Collecting easyocr==1.7.2 (from -r https://raw.githubusercontent.com/McGill-MMA-EnterpriseAnalytics/SafeRide_Dtection/refs/heads/main/requirements.txt (line 17))\n",
            "  Downloading easyocr-1.7.2-py3-none-any.whl.metadata (10 kB)\n",
            "Collecting fastapi==0.115.12 (from -r https://raw.githubusercontent.com/McGill-MMA-EnterpriseAnalytics/SafeRide_Dtection/refs/heads/main/requirements.txt (line 18))\n",
            "  Downloading fastapi-0.115.12-py3-none-any.whl.metadata (27 kB)\n",
            "Requirement already satisfied: filelock==3.18.0 in /usr/local/lib/python3.11/dist-packages (from -r https://raw.githubusercontent.com/McGill-MMA-EnterpriseAnalytics/SafeRide_Dtection/refs/heads/main/requirements.txt (line 19)) (3.18.0)\n",
            "Requirement already satisfied: flask==3.1.0 in /usr/local/lib/python3.11/dist-packages (from -r https://raw.githubusercontent.com/McGill-MMA-EnterpriseAnalytics/SafeRide_Dtection/refs/heads/main/requirements.txt (line 20)) (3.1.0)\n",
            "Requirement already satisfied: fonttools==4.57.0 in /usr/local/lib/python3.11/dist-packages (from -r https://raw.githubusercontent.com/McGill-MMA-EnterpriseAnalytics/SafeRide_Dtection/refs/heads/main/requirements.txt (line 21)) (4.57.0)\n",
            "Requirement already satisfied: fsspec==2025.3.2 in /usr/local/lib/python3.11/dist-packages (from -r https://raw.githubusercontent.com/McGill-MMA-EnterpriseAnalytics/SafeRide_Dtection/refs/heads/main/requirements.txt (line 22)) (2025.3.2)\n",
            "Requirement already satisfied: gitdb==4.0.12 in /usr/local/lib/python3.11/dist-packages (from -r https://raw.githubusercontent.com/McGill-MMA-EnterpriseAnalytics/SafeRide_Dtection/refs/heads/main/requirements.txt (line 23)) (4.0.12)\n",
            "Requirement already satisfied: gitpython==3.1.44 in /usr/local/lib/python3.11/dist-packages (from -r https://raw.githubusercontent.com/McGill-MMA-EnterpriseAnalytics/SafeRide_Dtection/refs/heads/main/requirements.txt (line 24)) (3.1.44)\n",
            "Collecting google-auth==2.39.0 (from -r https://raw.githubusercontent.com/McGill-MMA-EnterpriseAnalytics/SafeRide_Dtection/refs/heads/main/requirements.txt (line 25))\n",
            "  Downloading google_auth-2.39.0-py2.py3-none-any.whl.metadata (6.2 kB)\n",
            "Collecting graphene==3.4.3 (from -r https://raw.githubusercontent.com/McGill-MMA-EnterpriseAnalytics/SafeRide_Dtection/refs/heads/main/requirements.txt (line 26))\n",
            "  Downloading graphene-3.4.3-py2.py3-none-any.whl.metadata (6.9 kB)\n",
            "Collecting graphql-core==3.2.6 (from -r https://raw.githubusercontent.com/McGill-MMA-EnterpriseAnalytics/SafeRide_Dtection/refs/heads/main/requirements.txt (line 27))\n",
            "  Downloading graphql_core-3.2.6-py3-none-any.whl.metadata (11 kB)\n",
            "Collecting graphql-relay==3.2.0 (from -r https://raw.githubusercontent.com/McGill-MMA-EnterpriseAnalytics/SafeRide_Dtection/refs/heads/main/requirements.txt (line 28))\n",
            "  Downloading graphql_relay-3.2.0-py3-none-any.whl.metadata (12 kB)\n",
            "Requirement already satisfied: greenlet==3.2.1 in /usr/local/lib/python3.11/dist-packages (from -r https://raw.githubusercontent.com/McGill-MMA-EnterpriseAnalytics/SafeRide_Dtection/refs/heads/main/requirements.txt (line 29)) (3.2.1)\n",
            "Collecting gunicorn==23.0.0 (from -r https://raw.githubusercontent.com/McGill-MMA-EnterpriseAnalytics/SafeRide_Dtection/refs/heads/main/requirements.txt (line 30))\n",
            "  Downloading gunicorn-23.0.0-py3-none-any.whl.metadata (4.4 kB)\n",
            "Requirement already satisfied: h11==0.16.0 in /usr/local/lib/python3.11/dist-packages (from -r https://raw.githubusercontent.com/McGill-MMA-EnterpriseAnalytics/SafeRide_Dtection/refs/heads/main/requirements.txt (line 31)) (0.16.0)\n",
            "Requirement already satisfied: idna==3.10 in /usr/local/lib/python3.11/dist-packages (from -r https://raw.githubusercontent.com/McGill-MMA-EnterpriseAnalytics/SafeRide_Dtection/refs/heads/main/requirements.txt (line 32)) (3.10)\n",
            "Requirement already satisfied: imageio==2.37.0 in /usr/local/lib/python3.11/dist-packages (from -r https://raw.githubusercontent.com/McGill-MMA-EnterpriseAnalytics/SafeRide_Dtection/refs/heads/main/requirements.txt (line 33)) (2.37.0)\n",
            "Requirement already satisfied: importlib-metadata==8.6.1 in /usr/local/lib/python3.11/dist-packages (from -r https://raw.githubusercontent.com/McGill-MMA-EnterpriseAnalytics/SafeRide_Dtection/refs/heads/main/requirements.txt (line 34)) (8.6.1)\n",
            "Requirement already satisfied: itsdangerous==2.2.0 in /usr/local/lib/python3.11/dist-packages (from -r https://raw.githubusercontent.com/McGill-MMA-EnterpriseAnalytics/SafeRide_Dtection/refs/heads/main/requirements.txt (line 35)) (2.2.0)\n",
            "Requirement already satisfied: jinja2==3.1.6 in /usr/local/lib/python3.11/dist-packages (from -r https://raw.githubusercontent.com/McGill-MMA-EnterpriseAnalytics/SafeRide_Dtection/refs/heads/main/requirements.txt (line 36)) (3.1.6)\n",
            "Requirement already satisfied: joblib==1.4.2 in /usr/local/lib/python3.11/dist-packages (from -r https://raw.githubusercontent.com/McGill-MMA-EnterpriseAnalytics/SafeRide_Dtection/refs/heads/main/requirements.txt (line 37)) (1.4.2)\n",
            "Requirement already satisfied: kaggle==1.7.4.2 in /usr/local/lib/python3.11/dist-packages (from -r https://raw.githubusercontent.com/McGill-MMA-EnterpriseAnalytics/SafeRide_Dtection/refs/heads/main/requirements.txt (line 38)) (1.7.4.2)\n",
            "Requirement already satisfied: kiwisolver==1.4.8 in /usr/local/lib/python3.11/dist-packages (from -r https://raw.githubusercontent.com/McGill-MMA-EnterpriseAnalytics/SafeRide_Dtection/refs/heads/main/requirements.txt (line 39)) (1.4.8)\n",
            "Requirement already satisfied: lazy-loader==0.4 in /usr/local/lib/python3.11/dist-packages (from -r https://raw.githubusercontent.com/McGill-MMA-EnterpriseAnalytics/SafeRide_Dtection/refs/heads/main/requirements.txt (line 40)) (0.4)\n",
            "Collecting mako==1.3.10 (from -r https://raw.githubusercontent.com/McGill-MMA-EnterpriseAnalytics/SafeRide_Dtection/refs/heads/main/requirements.txt (line 41))\n",
            "  Downloading mako-1.3.10-py3-none-any.whl.metadata (2.9 kB)\n",
            "Requirement already satisfied: markdown==3.8 in /usr/local/lib/python3.11/dist-packages (from -r https://raw.githubusercontent.com/McGill-MMA-EnterpriseAnalytics/SafeRide_Dtection/refs/heads/main/requirements.txt (line 42)) (3.8)\n",
            "Requirement already satisfied: markupsafe==3.0.2 in /usr/local/lib/python3.11/dist-packages (from -r https://raw.githubusercontent.com/McGill-MMA-EnterpriseAnalytics/SafeRide_Dtection/refs/heads/main/requirements.txt (line 43)) (3.0.2)\n",
            "Collecting matplotlib==3.10.1 (from -r https://raw.githubusercontent.com/McGill-MMA-EnterpriseAnalytics/SafeRide_Dtection/refs/heads/main/requirements.txt (line 44))\n",
            "  Downloading matplotlib-3.10.1-cp311-cp311-manylinux_2_17_x86_64.manylinux2014_x86_64.whl.metadata (11 kB)\n",
            "Collecting mlflow-skinny==2.22.0 (from -r https://raw.githubusercontent.com/McGill-MMA-EnterpriseAnalytics/SafeRide_Dtection/refs/heads/main/requirements.txt (line 45))\n",
            "  Downloading mlflow_skinny-2.22.0-py3-none-any.whl.metadata (31 kB)\n",
            "Collecting mlflow==2.22.0 (from -r https://raw.githubusercontent.com/McGill-MMA-EnterpriseAnalytics/SafeRide_Dtection/refs/heads/main/requirements.txt (line 46))\n",
            "  Downloading mlflow-2.22.0-py3-none-any.whl.metadata (30 kB)\n",
            "Requirement already satisfied: mpmath==1.3.0 in /usr/local/lib/python3.11/dist-packages (from -r https://raw.githubusercontent.com/McGill-MMA-EnterpriseAnalytics/SafeRide_Dtection/refs/heads/main/requirements.txt (line 47)) (1.3.0)\n",
            "Requirement already satisfied: networkx==3.4.2 in /usr/local/lib/python3.11/dist-packages (from -r https://raw.githubusercontent.com/McGill-MMA-EnterpriseAnalytics/SafeRide_Dtection/refs/heads/main/requirements.txt (line 48)) (3.4.2)\n",
            "Collecting ninja==1.11.1.4 (from -r https://raw.githubusercontent.com/McGill-MMA-EnterpriseAnalytics/SafeRide_Dtection/refs/heads/main/requirements.txt (line 49))\n",
            "  Downloading ninja-1.11.1.4-py3-none-manylinux_2_12_x86_64.manylinux2010_x86_64.whl.metadata (5.0 kB)\n",
            "Collecting numpy==2.1.1 (from -r https://raw.githubusercontent.com/McGill-MMA-EnterpriseAnalytics/SafeRide_Dtection/refs/heads/main/requirements.txt (line 50))\n",
            "  Downloading numpy-2.1.1-cp311-cp311-manylinux_2_17_x86_64.manylinux2014_x86_64.whl.metadata (60 kB)\n",
            "\u001b[2K     \u001b[90m━━━━━━━━━━━━━━━━━━━━━━━━━━━━━━━━━━━━━━━━\u001b[0m \u001b[32m60.9/60.9 kB\u001b[0m \u001b[31m2.5 MB/s\u001b[0m eta \u001b[36m0:00:00\u001b[0m\n",
            "\u001b[?25hCollecting nvidia-cublas-cu12==12.6.4.1 (from -r https://raw.githubusercontent.com/McGill-MMA-EnterpriseAnalytics/SafeRide_Dtection/refs/heads/main/requirements.txt (line 51))\n",
            "  Downloading nvidia_cublas_cu12-12.6.4.1-py3-none-manylinux2014_x86_64.manylinux_2_17_x86_64.whl.metadata (1.5 kB)\n",
            "Collecting nvidia-cuda-cupti-cu12==12.6.80 (from -r https://raw.githubusercontent.com/McGill-MMA-EnterpriseAnalytics/SafeRide_Dtection/refs/heads/main/requirements.txt (line 52))\n",
            "  Downloading nvidia_cuda_cupti_cu12-12.6.80-py3-none-manylinux2014_x86_64.manylinux_2_17_x86_64.whl.metadata (1.6 kB)\n",
            "Collecting nvidia-cuda-nvrtc-cu12==12.6.77 (from -r https://raw.githubusercontent.com/McGill-MMA-EnterpriseAnalytics/SafeRide_Dtection/refs/heads/main/requirements.txt (line 53))\n",
            "  Downloading nvidia_cuda_nvrtc_cu12-12.6.77-py3-none-manylinux2014_x86_64.whl.metadata (1.5 kB)\n",
            "Collecting nvidia-cuda-runtime-cu12==12.6.77 (from -r https://raw.githubusercontent.com/McGill-MMA-EnterpriseAnalytics/SafeRide_Dtection/refs/heads/main/requirements.txt (line 54))\n",
            "  Downloading nvidia_cuda_runtime_cu12-12.6.77-py3-none-manylinux2014_x86_64.manylinux_2_17_x86_64.whl.metadata (1.5 kB)\n",
            "Collecting nvidia-cudnn-cu12==9.5.1.17 (from -r https://raw.githubusercontent.com/McGill-MMA-EnterpriseAnalytics/SafeRide_Dtection/refs/heads/main/requirements.txt (line 55))\n",
            "  Downloading nvidia_cudnn_cu12-9.5.1.17-py3-none-manylinux_2_28_x86_64.whl.metadata (1.6 kB)\n",
            "Collecting nvidia-cufft-cu12==11.3.0.4 (from -r https://raw.githubusercontent.com/McGill-MMA-EnterpriseAnalytics/SafeRide_Dtection/refs/heads/main/requirements.txt (line 56))\n",
            "  Downloading nvidia_cufft_cu12-11.3.0.4-py3-none-manylinux2014_x86_64.manylinux_2_17_x86_64.whl.metadata (1.5 kB)\n",
            "Collecting nvidia-cufile-cu12==1.11.1.6 (from -r https://raw.githubusercontent.com/McGill-MMA-EnterpriseAnalytics/SafeRide_Dtection/refs/heads/main/requirements.txt (line 57))\n",
            "  Downloading nvidia_cufile_cu12-1.11.1.6-py3-none-manylinux2014_x86_64.manylinux_2_17_x86_64.whl.metadata (1.5 kB)\n",
            "Collecting nvidia-curand-cu12==10.3.7.77 (from -r https://raw.githubusercontent.com/McGill-MMA-EnterpriseAnalytics/SafeRide_Dtection/refs/heads/main/requirements.txt (line 58))\n",
            "  Downloading nvidia_curand_cu12-10.3.7.77-py3-none-manylinux2014_x86_64.manylinux_2_17_x86_64.whl.metadata (1.5 kB)\n",
            "Collecting nvidia-cusolver-cu12==11.7.1.2 (from -r https://raw.githubusercontent.com/McGill-MMA-EnterpriseAnalytics/SafeRide_Dtection/refs/heads/main/requirements.txt (line 59))\n",
            "  Downloading nvidia_cusolver_cu12-11.7.1.2-py3-none-manylinux2014_x86_64.manylinux_2_17_x86_64.whl.metadata (1.6 kB)\n",
            "Collecting nvidia-cusparse-cu12==12.5.4.2 (from -r https://raw.githubusercontent.com/McGill-MMA-EnterpriseAnalytics/SafeRide_Dtection/refs/heads/main/requirements.txt (line 60))\n",
            "  Downloading nvidia_cusparse_cu12-12.5.4.2-py3-none-manylinux2014_x86_64.manylinux_2_17_x86_64.whl.metadata (1.6 kB)\n",
            "Collecting nvidia-cusparselt-cu12==0.6.3 (from -r https://raw.githubusercontent.com/McGill-MMA-EnterpriseAnalytics/SafeRide_Dtection/refs/heads/main/requirements.txt (line 61))\n",
            "  Downloading nvidia_cusparselt_cu12-0.6.3-py3-none-manylinux2014_x86_64.whl.metadata (6.8 kB)\n",
            "Collecting nvidia-nccl-cu12==2.26.2 (from -r https://raw.githubusercontent.com/McGill-MMA-EnterpriseAnalytics/SafeRide_Dtection/refs/heads/main/requirements.txt (line 62))\n",
            "  Downloading nvidia_nccl_cu12-2.26.2-py3-none-manylinux2014_x86_64.manylinux_2_17_x86_64.whl.metadata (2.0 kB)\n",
            "Collecting nvidia-nvjitlink-cu12==12.6.85 (from -r https://raw.githubusercontent.com/McGill-MMA-EnterpriseAnalytics/SafeRide_Dtection/refs/heads/main/requirements.txt (line 63))\n",
            "  Downloading nvidia_nvjitlink_cu12-12.6.85-py3-none-manylinux2010_x86_64.manylinux_2_12_x86_64.whl.metadata (1.5 kB)\n",
            "Collecting nvidia-nvtx-cu12==12.6.77 (from -r https://raw.githubusercontent.com/McGill-MMA-EnterpriseAnalytics/SafeRide_Dtection/refs/heads/main/requirements.txt (line 64))\n",
            "  Downloading nvidia_nvtx_cu12-12.6.77-py3-none-manylinux2014_x86_64.manylinux_2_17_x86_64.whl.metadata (1.6 kB)\n",
            "Requirement already satisfied: opencv-python-headless==4.11.0.86 in /usr/local/lib/python3.11/dist-packages (from -r https://raw.githubusercontent.com/McGill-MMA-EnterpriseAnalytics/SafeRide_Dtection/refs/heads/main/requirements.txt (line 65)) (4.11.0.86)\n",
            "Requirement already satisfied: opencv-python==4.11.0.86 in /usr/local/lib/python3.11/dist-packages (from -r https://raw.githubusercontent.com/McGill-MMA-EnterpriseAnalytics/SafeRide_Dtection/refs/heads/main/requirements.txt (line 66)) (4.11.0.86)\n",
            "Requirement already satisfied: opentelemetry-api==1.32.1 in /usr/local/lib/python3.11/dist-packages (from -r https://raw.githubusercontent.com/McGill-MMA-EnterpriseAnalytics/SafeRide_Dtection/refs/heads/main/requirements.txt (line 67)) (1.32.1)\n",
            "Requirement already satisfied: opentelemetry-sdk==1.32.1 in /usr/local/lib/python3.11/dist-packages (from -r https://raw.githubusercontent.com/McGill-MMA-EnterpriseAnalytics/SafeRide_Dtection/refs/heads/main/requirements.txt (line 68)) (1.32.1)\n",
            "Requirement already satisfied: opentelemetry-semantic-conventions==0.53b1 in /usr/local/lib/python3.11/dist-packages (from -r https://raw.githubusercontent.com/McGill-MMA-EnterpriseAnalytics/SafeRide_Dtection/refs/heads/main/requirements.txt (line 69)) (0.53b1)\n",
            "Requirement already satisfied: packaging==24.2 in /usr/local/lib/python3.11/dist-packages (from -r https://raw.githubusercontent.com/McGill-MMA-EnterpriseAnalytics/SafeRide_Dtection/refs/heads/main/requirements.txt (line 70)) (24.2)\n",
            "Collecting pandas==2.2.3 (from -r https://raw.githubusercontent.com/McGill-MMA-EnterpriseAnalytics/SafeRide_Dtection/refs/heads/main/requirements.txt (line 71))\n",
            "  Downloading pandas-2.2.3-cp311-cp311-manylinux_2_17_x86_64.manylinux2014_x86_64.whl.metadata (89 kB)\n",
            "\u001b[2K     \u001b[90m━━━━━━━━━━━━━━━━━━━━━━━━━━━━━━━━━━━━━━━━\u001b[0m \u001b[32m89.9/89.9 kB\u001b[0m \u001b[31m3.9 MB/s\u001b[0m eta \u001b[36m0:00:00\u001b[0m\n",
            "\u001b[?25hRequirement already satisfied: pillow==11.2.1 in /usr/local/lib/python3.11/dist-packages (from -r https://raw.githubusercontent.com/McGill-MMA-EnterpriseAnalytics/SafeRide_Dtection/refs/heads/main/requirements.txt (line 72)) (11.2.1)\n",
            "Collecting protobuf==6.30.2 (from -r https://raw.githubusercontent.com/McGill-MMA-EnterpriseAnalytics/SafeRide_Dtection/refs/heads/main/requirements.txt (line 73))\n",
            "  Downloading protobuf-6.30.2-cp39-abi3-manylinux2014_x86_64.whl.metadata (593 bytes)\n",
            "Collecting psutil==7.0.0 (from -r https://raw.githubusercontent.com/McGill-MMA-EnterpriseAnalytics/SafeRide_Dtection/refs/heads/main/requirements.txt (line 74))\n",
            "  Downloading psutil-7.0.0-cp36-abi3-manylinux_2_12_x86_64.manylinux2010_x86_64.manylinux_2_17_x86_64.manylinux2014_x86_64.whl.metadata (22 kB)\n",
            "Requirement already satisfied: py-cpuinfo==9.0.0 in /usr/local/lib/python3.11/dist-packages (from -r https://raw.githubusercontent.com/McGill-MMA-EnterpriseAnalytics/SafeRide_Dtection/refs/heads/main/requirements.txt (line 75)) (9.0.0)\n",
            "Collecting pyarrow==19.0.1 (from -r https://raw.githubusercontent.com/McGill-MMA-EnterpriseAnalytics/SafeRide_Dtection/refs/heads/main/requirements.txt (line 76))\n",
            "  Downloading pyarrow-19.0.1-cp311-cp311-manylinux_2_28_x86_64.whl.metadata (3.3 kB)\n",
            "Requirement already satisfied: pyasn1-modules==0.4.2 in /usr/local/lib/python3.11/dist-packages (from -r https://raw.githubusercontent.com/McGill-MMA-EnterpriseAnalytics/SafeRide_Dtection/refs/heads/main/requirements.txt (line 77)) (0.4.2)\n",
            "Requirement already satisfied: pyasn1==0.6.1 in /usr/local/lib/python3.11/dist-packages (from -r https://raw.githubusercontent.com/McGill-MMA-EnterpriseAnalytics/SafeRide_Dtection/refs/heads/main/requirements.txt (line 78)) (0.6.1)\n",
            "Collecting pyclipper==1.3.0.post6 (from -r https://raw.githubusercontent.com/McGill-MMA-EnterpriseAnalytics/SafeRide_Dtection/refs/heads/main/requirements.txt (line 79))\n",
            "  Downloading pyclipper-1.3.0.post6-cp311-cp311-manylinux_2_17_x86_64.manylinux2014_x86_64.whl.metadata (9.0 kB)\n",
            "Requirement already satisfied: pydantic-core==2.33.1 in /usr/local/lib/python3.11/dist-packages (from -r https://raw.githubusercontent.com/McGill-MMA-EnterpriseAnalytics/SafeRide_Dtection/refs/heads/main/requirements.txt (line 80)) (2.33.1)\n",
            "Requirement already satisfied: pydantic==2.11.3 in /usr/local/lib/python3.11/dist-packages (from -r https://raw.githubusercontent.com/McGill-MMA-EnterpriseAnalytics/SafeRide_Dtection/refs/heads/main/requirements.txt (line 81)) (2.11.3)\n",
            "Collecting pyngrok==7.2.5 (from -r https://raw.githubusercontent.com/McGill-MMA-EnterpriseAnalytics/SafeRide_Dtection/refs/heads/main/requirements.txt (line 82))\n",
            "  Downloading pyngrok-7.2.5-py3-none-any.whl.metadata (8.9 kB)\n",
            "Requirement already satisfied: pyparsing==3.2.3 in /usr/local/lib/python3.11/dist-packages (from -r https://raw.githubusercontent.com/McGill-MMA-EnterpriseAnalytics/SafeRide_Dtection/refs/heads/main/requirements.txt (line 83)) (3.2.3)\n",
            "Collecting python-bidi==0.6.6 (from -r https://raw.githubusercontent.com/McGill-MMA-EnterpriseAnalytics/SafeRide_Dtection/refs/heads/main/requirements.txt (line 84))\n",
            "  Downloading python_bidi-0.6.6-cp311-cp311-manylinux_2_17_x86_64.manylinux2014_x86_64.whl.metadata (4.9 kB)\n",
            "Requirement already satisfied: python-dateutil==2.9.0.post0 in /usr/local/lib/python3.11/dist-packages (from -r https://raw.githubusercontent.com/McGill-MMA-EnterpriseAnalytics/SafeRide_Dtection/refs/heads/main/requirements.txt (line 85)) (2.9.0.post0)\n",
            "Requirement already satisfied: python-slugify==8.0.4 in /usr/local/lib/python3.11/dist-packages (from -r https://raw.githubusercontent.com/McGill-MMA-EnterpriseAnalytics/SafeRide_Dtection/refs/heads/main/requirements.txt (line 86)) (8.0.4)\n",
            "Requirement already satisfied: pytz==2025.2 in /usr/local/lib/python3.11/dist-packages (from -r https://raw.githubusercontent.com/McGill-MMA-EnterpriseAnalytics/SafeRide_Dtection/refs/heads/main/requirements.txt (line 87)) (2025.2)\n",
            "Requirement already satisfied: pyyaml==6.0.2 in /usr/local/lib/python3.11/dist-packages (from -r https://raw.githubusercontent.com/McGill-MMA-EnterpriseAnalytics/SafeRide_Dtection/refs/heads/main/requirements.txt (line 89)) (6.0.2)\n",
            "Requirement already satisfied: requests==2.32.3 in /usr/local/lib/python3.11/dist-packages (from -r https://raw.githubusercontent.com/McGill-MMA-EnterpriseAnalytics/SafeRide_Dtection/refs/heads/main/requirements.txt (line 90)) (2.32.3)\n",
            "Requirement already satisfied: rsa==4.9.1 in /usr/local/lib/python3.11/dist-packages (from -r https://raw.githubusercontent.com/McGill-MMA-EnterpriseAnalytics/SafeRide_Dtection/refs/heads/main/requirements.txt (line 91)) (4.9.1)\n",
            "Requirement already satisfied: scikit-image==0.25.2 in /usr/local/lib/python3.11/dist-packages (from -r https://raw.githubusercontent.com/McGill-MMA-EnterpriseAnalytics/SafeRide_Dtection/refs/heads/main/requirements.txt (line 92)) (0.25.2)\n",
            "Requirement already satisfied: scikit-learn==1.6.1 in /usr/local/lib/python3.11/dist-packages (from -r https://raw.githubusercontent.com/McGill-MMA-EnterpriseAnalytics/SafeRide_Dtection/refs/heads/main/requirements.txt (line 93)) (1.6.1)\n",
            "Requirement already satisfied: scipy==1.15.2 in /usr/local/lib/python3.11/dist-packages (from -r https://raw.githubusercontent.com/McGill-MMA-EnterpriseAnalytics/SafeRide_Dtection/refs/heads/main/requirements.txt (line 94)) (1.15.2)\n",
            "Requirement already satisfied: seaborn==0.13.2 in /usr/local/lib/python3.11/dist-packages (from -r https://raw.githubusercontent.com/McGill-MMA-EnterpriseAnalytics/SafeRide_Dtection/refs/heads/main/requirements.txt (line 95)) (0.13.2)\n",
            "Collecting setuptools==79.0.1 (from -r https://raw.githubusercontent.com/McGill-MMA-EnterpriseAnalytics/SafeRide_Dtection/refs/heads/main/requirements.txt (line 96))\n",
            "  Downloading setuptools-79.0.1-py3-none-any.whl.metadata (6.5 kB)\n",
            "Requirement already satisfied: shapely==2.1.0 in /usr/local/lib/python3.11/dist-packages (from -r https://raw.githubusercontent.com/McGill-MMA-EnterpriseAnalytics/SafeRide_Dtection/refs/heads/main/requirements.txt (line 97)) (2.1.0)\n",
            "Requirement already satisfied: six==1.17.0 in /usr/local/lib/python3.11/dist-packages (from -r https://raw.githubusercontent.com/McGill-MMA-EnterpriseAnalytics/SafeRide_Dtection/refs/heads/main/requirements.txt (line 98)) (1.17.0)\n",
            "Requirement already satisfied: smmap==5.0.2 in /usr/local/lib/python3.11/dist-packages (from -r https://raw.githubusercontent.com/McGill-MMA-EnterpriseAnalytics/SafeRide_Dtection/refs/heads/main/requirements.txt (line 99)) (5.0.2)\n",
            "Requirement already satisfied: sniffio==1.3.1 in /usr/local/lib/python3.11/dist-packages (from -r https://raw.githubusercontent.com/McGill-MMA-EnterpriseAnalytics/SafeRide_Dtection/refs/heads/main/requirements.txt (line 100)) (1.3.1)\n",
            "Requirement already satisfied: sqlalchemy==2.0.40 in /usr/local/lib/python3.11/dist-packages (from -r https://raw.githubusercontent.com/McGill-MMA-EnterpriseAnalytics/SafeRide_Dtection/refs/heads/main/requirements.txt (line 101)) (2.0.40)\n",
            "Requirement already satisfied: sqlparse==0.5.3 in /usr/local/lib/python3.11/dist-packages (from -r https://raw.githubusercontent.com/McGill-MMA-EnterpriseAnalytics/SafeRide_Dtection/refs/heads/main/requirements.txt (line 102)) (0.5.3)\n",
            "Collecting starlette==0.46.2 (from -r https://raw.githubusercontent.com/McGill-MMA-EnterpriseAnalytics/SafeRide_Dtection/refs/heads/main/requirements.txt (line 103))\n",
            "  Downloading starlette-0.46.2-py3-none-any.whl.metadata (6.2 kB)\n",
            "Collecting sympy==1.13.3 (from -r https://raw.githubusercontent.com/McGill-MMA-EnterpriseAnalytics/SafeRide_Dtection/refs/heads/main/requirements.txt (line 104))\n",
            "  Downloading sympy-1.13.3-py3-none-any.whl.metadata (12 kB)\n",
            "Requirement already satisfied: text-unidecode==1.3 in /usr/local/lib/python3.11/dist-packages (from -r https://raw.githubusercontent.com/McGill-MMA-EnterpriseAnalytics/SafeRide_Dtection/refs/heads/main/requirements.txt (line 105)) (1.3)\n",
            "Requirement already satisfied: threadpoolctl==3.6.0 in /usr/local/lib/python3.11/dist-packages (from -r https://raw.githubusercontent.com/McGill-MMA-EnterpriseAnalytics/SafeRide_Dtection/refs/heads/main/requirements.txt (line 106)) (3.6.0)\n",
            "Requirement already satisfied: tifffile==2025.3.30 in /usr/local/lib/python3.11/dist-packages (from -r https://raw.githubusercontent.com/McGill-MMA-EnterpriseAnalytics/SafeRide_Dtection/refs/heads/main/requirements.txt (line 107)) (2025.3.30)\n",
            "Collecting torch==2.7.0 (from -r https://raw.githubusercontent.com/McGill-MMA-EnterpriseAnalytics/SafeRide_Dtection/refs/heads/main/requirements.txt (line 108))\n",
            "  Downloading torch-2.7.0-cp311-cp311-manylinux_2_28_x86_64.whl.metadata (29 kB)\n",
            "Collecting torchvision==0.22.0 (from -r https://raw.githubusercontent.com/McGill-MMA-EnterpriseAnalytics/SafeRide_Dtection/refs/heads/main/requirements.txt (line 109))\n",
            "  Downloading torchvision-0.22.0-cp311-cp311-manylinux_2_28_x86_64.whl.metadata (6.1 kB)\n",
            "Requirement already satisfied: tqdm==4.67.1 in /usr/local/lib/python3.11/dist-packages (from -r https://raw.githubusercontent.com/McGill-MMA-EnterpriseAnalytics/SafeRide_Dtection/refs/heads/main/requirements.txt (line 110)) (4.67.1)\n",
            "Collecting triton==3.3.0 (from -r https://raw.githubusercontent.com/McGill-MMA-EnterpriseAnalytics/SafeRide_Dtection/refs/heads/main/requirements.txt (line 111))\n",
            "  Downloading triton-3.3.0-cp311-cp311-manylinux_2_27_x86_64.manylinux_2_28_x86_64.whl.metadata (1.5 kB)\n",
            "Requirement already satisfied: typing-extensions==4.13.2 in /usr/local/lib/python3.11/dist-packages (from -r https://raw.githubusercontent.com/McGill-MMA-EnterpriseAnalytics/SafeRide_Dtection/refs/heads/main/requirements.txt (line 112)) (4.13.2)\n",
            "Requirement already satisfied: typing-inspection==0.4.0 in /usr/local/lib/python3.11/dist-packages (from -r https://raw.githubusercontent.com/McGill-MMA-EnterpriseAnalytics/SafeRide_Dtection/refs/heads/main/requirements.txt (line 113)) (0.4.0)\n",
            "Requirement already satisfied: tzdata==2025.2 in /usr/local/lib/python3.11/dist-packages (from -r https://raw.githubusercontent.com/McGill-MMA-EnterpriseAnalytics/SafeRide_Dtection/refs/heads/main/requirements.txt (line 114)) (2025.2)\n",
            "Collecting ultralytics-thop==2.0.14 (from -r https://raw.githubusercontent.com/McGill-MMA-EnterpriseAnalytics/SafeRide_Dtection/refs/heads/main/requirements.txt (line 115))\n",
            "  Downloading ultralytics_thop-2.0.14-py3-none-any.whl.metadata (9.4 kB)\n",
            "Collecting ultralytics==8.3.118 (from -r https://raw.githubusercontent.com/McGill-MMA-EnterpriseAnalytics/SafeRide_Dtection/refs/heads/main/requirements.txt (line 116))\n",
            "  Downloading ultralytics-8.3.118-py3-none-any.whl.metadata (37 kB)\n",
            "Requirement already satisfied: urllib3==2.4.0 in /usr/local/lib/python3.11/dist-packages (from -r https://raw.githubusercontent.com/McGill-MMA-EnterpriseAnalytics/SafeRide_Dtection/refs/heads/main/requirements.txt (line 117)) (2.4.0)\n",
            "Collecting uvicorn==0.34.2 (from -r https://raw.githubusercontent.com/McGill-MMA-EnterpriseAnalytics/SafeRide_Dtection/refs/heads/main/requirements.txt (line 118))\n",
            "  Downloading uvicorn-0.34.2-py3-none-any.whl.metadata (6.5 kB)\n",
            "Requirement already satisfied: webencodings==0.5.1 in /usr/local/lib/python3.11/dist-packages (from -r https://raw.githubusercontent.com/McGill-MMA-EnterpriseAnalytics/SafeRide_Dtection/refs/heads/main/requirements.txt (line 120)) (0.5.1)\n",
            "Requirement already satisfied: werkzeug==3.1.3 in /usr/local/lib/python3.11/dist-packages (from -r https://raw.githubusercontent.com/McGill-MMA-EnterpriseAnalytics/SafeRide_Dtection/refs/heads/main/requirements.txt (line 121)) (3.1.3)\n",
            "Requirement already satisfied: wrapt==1.17.2 in /usr/local/lib/python3.11/dist-packages (from -r https://raw.githubusercontent.com/McGill-MMA-EnterpriseAnalytics/SafeRide_Dtection/refs/heads/main/requirements.txt (line 122)) (1.17.2)\n",
            "Requirement already satisfied: zipp==3.21.0 in /usr/local/lib/python3.11/dist-packages (from -r https://raw.githubusercontent.com/McGill-MMA-EnterpriseAnalytics/SafeRide_Dtection/refs/heads/main/requirements.txt (line 123)) (3.21.0)\n",
            "Downloading alembic-1.15.2-py3-none-any.whl (231 kB)\n",
            "\u001b[2K   \u001b[90m━━━━━━━━━━━━━━━━━━━━━━━━━━━━━━━━━━━━━━━━\u001b[0m \u001b[32m231.9/231.9 kB\u001b[0m \u001b[31m5.3 MB/s\u001b[0m eta \u001b[36m0:00:00\u001b[0m\n",
            "\u001b[?25hDownloading certifi-2025.4.26-py3-none-any.whl (159 kB)\n",
            "\u001b[2K   \u001b[90m━━━━━━━━━━━━━━━━━━━━━━━━━━━━━━━━━━━━━━━━\u001b[0m \u001b[32m159.6/159.6 kB\u001b[0m \u001b[31m10.5 MB/s\u001b[0m eta \u001b[36m0:00:00\u001b[0m\n",
            "\u001b[?25hDownloading databricks_sdk-0.50.0-py3-none-any.whl (692 kB)\n",
            "\u001b[2K   \u001b[90m━━━━━━━━━━━━━━━━━━━━━━━━━━━━━━━━━━━━━━━━\u001b[0m \u001b[32m692.3/692.3 kB\u001b[0m \u001b[31m24.3 MB/s\u001b[0m eta \u001b[36m0:00:00\u001b[0m\n",
            "\u001b[?25hDownloading docker-7.1.0-py3-none-any.whl (147 kB)\n",
            "\u001b[2K   \u001b[90m━━━━━━━━━━━━━━━━━━━━━━━━━━━━━━━━━━━━━━━━\u001b[0m \u001b[32m147.8/147.8 kB\u001b[0m \u001b[31m10.6 MB/s\u001b[0m eta \u001b[36m0:00:00\u001b[0m\n",
            "\u001b[?25hDownloading easyocr-1.7.2-py3-none-any.whl (2.9 MB)\n",
            "\u001b[2K   \u001b[90m━━━━━━━━━━━━━━━━━━━━━━━━━━━━━━━━━━━━━━━━\u001b[0m \u001b[32m2.9/2.9 MB\u001b[0m \u001b[31m55.7 MB/s\u001b[0m eta \u001b[36m0:00:00\u001b[0m\n",
            "\u001b[?25hDownloading fastapi-0.115.12-py3-none-any.whl (95 kB)\n",
            "\u001b[2K   \u001b[90m━━━━━━━━━━━━━━━━━━━━━━━━━━━━━━━━━━━━━━━━\u001b[0m \u001b[32m95.2/95.2 kB\u001b[0m \u001b[31m6.5 MB/s\u001b[0m eta \u001b[36m0:00:00\u001b[0m\n",
            "\u001b[?25hDownloading google_auth-2.39.0-py2.py3-none-any.whl (212 kB)\n",
            "\u001b[2K   \u001b[90m━━━━━━━━━━━━━━━━━━━━━━━━━━━━━━━━━━━━━━━━\u001b[0m \u001b[32m212.3/212.3 kB\u001b[0m \u001b[31m14.8 MB/s\u001b[0m eta \u001b[36m0:00:00\u001b[0m\n",
            "\u001b[?25hDownloading graphene-3.4.3-py2.py3-none-any.whl (114 kB)\n",
            "\u001b[2K   \u001b[90m━━━━━━━━━━━━━━━━━━━━━━━━━━━━━━━━━━━━━━━━\u001b[0m \u001b[32m114.9/114.9 kB\u001b[0m \u001b[31m7.7 MB/s\u001b[0m eta \u001b[36m0:00:00\u001b[0m\n",
            "\u001b[?25hDownloading graphql_core-3.2.6-py3-none-any.whl (203 kB)\n",
            "\u001b[2K   \u001b[90m━━━━━━━━━━━━━━━━━━━━━━━━━━━━━━━━━━━━━━━━\u001b[0m \u001b[32m203.4/203.4 kB\u001b[0m \u001b[31m13.7 MB/s\u001b[0m eta \u001b[36m0:00:00\u001b[0m\n",
            "\u001b[?25hDownloading graphql_relay-3.2.0-py3-none-any.whl (16 kB)\n",
            "Downloading gunicorn-23.0.0-py3-none-any.whl (85 kB)\n",
            "\u001b[2K   \u001b[90m━━━━━━━━━━━━━━━━━━━━━━━━━━━━━━━━━━━━━━━━\u001b[0m \u001b[32m85.0/85.0 kB\u001b[0m \u001b[31m5.8 MB/s\u001b[0m eta \u001b[36m0:00:00\u001b[0m\n",
            "\u001b[?25hDownloading mako-1.3.10-py3-none-any.whl (78 kB)\n",
            "\u001b[2K   \u001b[90m━━━━━━━━━━━━━━━━━━━━━━━━━━━━━━━━━━━━━━━━\u001b[0m \u001b[32m78.5/78.5 kB\u001b[0m \u001b[31m5.9 MB/s\u001b[0m eta \u001b[36m0:00:00\u001b[0m\n",
            "\u001b[?25hDownloading matplotlib-3.10.1-cp311-cp311-manylinux_2_17_x86_64.manylinux2014_x86_64.whl (8.6 MB)\n",
            "\u001b[2K   \u001b[90m━━━━━━━━━━━━━━━━━━━━━━━━━━━━━━━━━━━━━━━━\u001b[0m \u001b[32m8.6/8.6 MB\u001b[0m \u001b[31m71.0 MB/s\u001b[0m eta \u001b[36m0:00:00\u001b[0m\n",
            "\u001b[?25hDownloading mlflow_skinny-2.22.0-py3-none-any.whl (6.3 MB)\n",
            "\u001b[2K   \u001b[90m━━━━━━━━━━━━━━━━━━━━━━━━━━━━━━━━━━━━━━━━\u001b[0m \u001b[32m6.3/6.3 MB\u001b[0m \u001b[31m68.8 MB/s\u001b[0m eta \u001b[36m0:00:00\u001b[0m\n",
            "\u001b[?25hDownloading mlflow-2.22.0-py3-none-any.whl (29.0 MB)\n",
            "\u001b[2K   \u001b[90m━━━━━━━━━━━━━━━━━━━━━━━━━━━━━━━━━━━━━━━━\u001b[0m \u001b[32m29.0/29.0 MB\u001b[0m \u001b[31m26.0 MB/s\u001b[0m eta \u001b[36m0:00:00\u001b[0m\n",
            "\u001b[?25hDownloading ninja-1.11.1.4-py3-none-manylinux_2_12_x86_64.manylinux2010_x86_64.whl (422 kB)\n",
            "\u001b[2K   \u001b[90m━━━━━━━━━━━━━━━━━━━━━━━━━━━━━━━━━━━━━━━━\u001b[0m \u001b[32m422.8/422.8 kB\u001b[0m \u001b[31m18.4 MB/s\u001b[0m eta \u001b[36m0:00:00\u001b[0m\n",
            "\u001b[?25hDownloading numpy-2.1.1-cp311-cp311-manylinux_2_17_x86_64.manylinux2014_x86_64.whl (16.3 MB)\n",
            "\u001b[2K   \u001b[90m━━━━━━━━━━━━━━━━━━━━━━━━━━━━━━━━━━━━━━━━\u001b[0m \u001b[32m16.3/16.3 MB\u001b[0m \u001b[31m37.8 MB/s\u001b[0m eta \u001b[36m0:00:00\u001b[0m\n",
            "\u001b[?25hDownloading nvidia_cublas_cu12-12.6.4.1-py3-none-manylinux2014_x86_64.manylinux_2_17_x86_64.whl (393.1 MB)\n",
            "\u001b[2K   \u001b[90m━━━━━━━━━━━━━━━━━━━━━━━━━━━━━━━━━━━━━━━━\u001b[0m \u001b[32m393.1/393.1 MB\u001b[0m \u001b[31m4.0 MB/s\u001b[0m eta \u001b[36m0:00:00\u001b[0m\n",
            "\u001b[?25hDownloading nvidia_cuda_cupti_cu12-12.6.80-py3-none-manylinux2014_x86_64.manylinux_2_17_x86_64.whl (8.9 MB)\n",
            "\u001b[2K   \u001b[90m━━━━━━━━━━━━━━━━━━━━━━━━━━━━━━━━━━━━━━━━\u001b[0m \u001b[32m8.9/8.9 MB\u001b[0m \u001b[31m80.6 MB/s\u001b[0m eta \u001b[36m0:00:00\u001b[0m\n",
            "\u001b[?25hDownloading nvidia_cuda_nvrtc_cu12-12.6.77-py3-none-manylinux2014_x86_64.whl (23.7 MB)\n",
            "\u001b[2K   \u001b[90m━━━━━━━━━━━━━━━━━━━━━━━━━━━━━━━━━━━━━━━━\u001b[0m \u001b[32m23.7/23.7 MB\u001b[0m \u001b[31m54.6 MB/s\u001b[0m eta \u001b[36m0:00:00\u001b[0m\n",
            "\u001b[?25hDownloading nvidia_cuda_runtime_cu12-12.6.77-py3-none-manylinux2014_x86_64.manylinux_2_17_x86_64.whl (897 kB)\n",
            "\u001b[2K   \u001b[90m━━━━━━━━━━━━━━━━━━━━━━━━━━━━━━━━━━━━━━━━\u001b[0m \u001b[32m897.7/897.7 kB\u001b[0m \u001b[31m30.5 MB/s\u001b[0m eta \u001b[36m0:00:00\u001b[0m\n",
            "\u001b[?25hDownloading nvidia_cudnn_cu12-9.5.1.17-py3-none-manylinux_2_28_x86_64.whl (571.0 MB)\n",
            "\u001b[2K   \u001b[90m━━━━━━━━━━━━━━━━━━━━━━━━━━━━━━━━━━━━━━━━\u001b[0m \u001b[32m571.0/571.0 MB\u001b[0m \u001b[31m2.3 MB/s\u001b[0m eta \u001b[36m0:00:00\u001b[0m\n",
            "\u001b[?25hDownloading nvidia_cufft_cu12-11.3.0.4-py3-none-manylinux2014_x86_64.manylinux_2_17_x86_64.whl (200.2 MB)\n",
            "\u001b[2K   \u001b[90m━━━━━━━━━━━━━━━━━━━━━━━━━━━━━━━━━━━━━━━━\u001b[0m \u001b[32m200.2/200.2 MB\u001b[0m \u001b[31m7.0 MB/s\u001b[0m eta \u001b[36m0:00:00\u001b[0m\n",
            "\u001b[?25hDownloading nvidia_cufile_cu12-1.11.1.6-py3-none-manylinux2014_x86_64.manylinux_2_17_x86_64.whl (1.1 MB)\n",
            "\u001b[2K   \u001b[90m━━━━━━━━━━━━━━━━━━━━━━━━━━━━━━━━━━━━━━━━\u001b[0m \u001b[32m1.1/1.1 MB\u001b[0m \u001b[31m50.3 MB/s\u001b[0m eta \u001b[36m0:00:00\u001b[0m\n",
            "\u001b[?25hDownloading nvidia_curand_cu12-10.3.7.77-py3-none-manylinux2014_x86_64.manylinux_2_17_x86_64.whl (56.3 MB)\n",
            "\u001b[2K   \u001b[90m━━━━━━━━━━━━━━━━━━━━━━━━━━━━━━━━━━━━━━━━\u001b[0m \u001b[32m56.3/56.3 MB\u001b[0m \u001b[31m12.7 MB/s\u001b[0m eta \u001b[36m0:00:00\u001b[0m\n",
            "\u001b[?25hDownloading nvidia_cusolver_cu12-11.7.1.2-py3-none-manylinux2014_x86_64.manylinux_2_17_x86_64.whl (158.2 MB)\n",
            "\u001b[2K   \u001b[90m━━━━━━━━━━━━━━━━━━━━━━━━━━━━━━━━━━━━━━━━\u001b[0m \u001b[32m158.2/158.2 MB\u001b[0m \u001b[31m6.8 MB/s\u001b[0m eta \u001b[36m0:00:00\u001b[0m\n",
            "\u001b[?25hDownloading nvidia_cusparse_cu12-12.5.4.2-py3-none-manylinux2014_x86_64.manylinux_2_17_x86_64.whl (216.6 MB)\n",
            "\u001b[2K   \u001b[90m━━━━━━━━━━━━━━━━━━━━━━━━━━━━━━━━━━━━━━━━\u001b[0m \u001b[32m216.6/216.6 MB\u001b[0m \u001b[31m5.6 MB/s\u001b[0m eta \u001b[36m0:00:00\u001b[0m\n",
            "\u001b[?25hDownloading nvidia_cusparselt_cu12-0.6.3-py3-none-manylinux2014_x86_64.whl (156.8 MB)\n",
            "\u001b[2K   \u001b[90m━━━━━━━━━━━━━━━━━━━━━━━━━━━━━━━━━━━━━━━━\u001b[0m \u001b[32m156.8/156.8 MB\u001b[0m \u001b[31m6.6 MB/s\u001b[0m eta \u001b[36m0:00:00\u001b[0m\n",
            "\u001b[?25hDownloading nvidia_nccl_cu12-2.26.2-py3-none-manylinux2014_x86_64.manylinux_2_17_x86_64.whl (201.3 MB)\n",
            "\u001b[2K   \u001b[90m━━━━━━━━━━━━━━━━━━━━━━━━━━━━━━━━━━━━━━━━\u001b[0m \u001b[32m201.3/201.3 MB\u001b[0m \u001b[31m7.0 MB/s\u001b[0m eta \u001b[36m0:00:00\u001b[0m\n",
            "\u001b[?25hDownloading nvidia_nvjitlink_cu12-12.6.85-py3-none-manylinux2010_x86_64.manylinux_2_12_x86_64.whl (19.7 MB)\n",
            "\u001b[2K   \u001b[90m━━━━━━━━━━━━━━━━━━━━━━━━━━━━━━━━━━━━━━━━\u001b[0m \u001b[32m19.7/19.7 MB\u001b[0m \u001b[31m35.5 MB/s\u001b[0m eta \u001b[36m0:00:00\u001b[0m\n",
            "\u001b[?25hDownloading nvidia_nvtx_cu12-12.6.77-py3-none-manylinux2014_x86_64.manylinux_2_17_x86_64.whl (89 kB)\n",
            "\u001b[2K   \u001b[90m━━━━━━━━━━━━━━━━━━━━━━━━━━━━━━━━━━━━━━━━\u001b[0m \u001b[32m89.3/89.3 kB\u001b[0m \u001b[31m7.4 MB/s\u001b[0m eta \u001b[36m0:00:00\u001b[0m\n",
            "\u001b[?25hDownloading pandas-2.2.3-cp311-cp311-manylinux_2_17_x86_64.manylinux2014_x86_64.whl (13.1 MB)\n",
            "\u001b[2K   \u001b[90m━━━━━━━━━━━━━━━━━━━━━━━━━━━━━━━━━━━━━━━━\u001b[0m \u001b[32m13.1/13.1 MB\u001b[0m \u001b[31m69.6 MB/s\u001b[0m eta \u001b[36m0:00:00\u001b[0m\n",
            "\u001b[?25hDownloading protobuf-6.30.2-cp39-abi3-manylinux2014_x86_64.whl (316 kB)\n",
            "\u001b[2K   \u001b[90m━━━━━━━━━━━━━━━━━━━━━━━━━━━━━━━━━━━━━━━━\u001b[0m \u001b[32m316.2/316.2 kB\u001b[0m \u001b[31m25.2 MB/s\u001b[0m eta \u001b[36m0:00:00\u001b[0m\n",
            "\u001b[?25hDownloading psutil-7.0.0-cp36-abi3-manylinux_2_12_x86_64.manylinux2010_x86_64.manylinux_2_17_x86_64.manylinux2014_x86_64.whl (277 kB)\n",
            "\u001b[2K   \u001b[90m━━━━━━━━━━━━━━━━━━━━━━━━━━━━━━━━━━━━━━━━\u001b[0m \u001b[32m278.0/278.0 kB\u001b[0m \u001b[31m20.0 MB/s\u001b[0m eta \u001b[36m0:00:00\u001b[0m\n",
            "\u001b[?25hDownloading pyarrow-19.0.1-cp311-cp311-manylinux_2_28_x86_64.whl (42.1 MB)\n",
            "\u001b[2K   \u001b[90m━━━━━━━━━━━━━━━━━━━━━━━━━━━━━━━━━━━━━━━━\u001b[0m \u001b[32m42.1/42.1 MB\u001b[0m \u001b[31m20.3 MB/s\u001b[0m eta \u001b[36m0:00:00\u001b[0m\n",
            "\u001b[?25hDownloading pyclipper-1.3.0.post6-cp311-cp311-manylinux_2_17_x86_64.manylinux2014_x86_64.whl (969 kB)\n",
            "\u001b[2K   \u001b[90m━━━━━━━━━━━━━━━━━━━━━━━━━━━━━━━━━━━━━━━━\u001b[0m \u001b[32m969.6/969.6 kB\u001b[0m \u001b[31m54.5 MB/s\u001b[0m eta \u001b[36m0:00:00\u001b[0m\n",
            "\u001b[?25hDownloading pyngrok-7.2.5-py3-none-any.whl (23 kB)\n",
            "Downloading python_bidi-0.6.6-cp311-cp311-manylinux_2_17_x86_64.manylinux2014_x86_64.whl (292 kB)\n",
            "\u001b[2K   \u001b[90m━━━━━━━━━━━━━━━━━━━━━━━━━━━━━━━━━━━━━━━━\u001b[0m \u001b[32m292.9/292.9 kB\u001b[0m \u001b[31m22.7 MB/s\u001b[0m eta \u001b[36m0:00:00\u001b[0m\n",
            "\u001b[?25hDownloading setuptools-79.0.1-py3-none-any.whl (1.3 MB)\n",
            "\u001b[2K   \u001b[90m━━━━━━━━━━━━━━━━━━━━━━━━━━━━━━━━━━━━━━━━\u001b[0m \u001b[32m1.3/1.3 MB\u001b[0m \u001b[31m63.4 MB/s\u001b[0m eta \u001b[36m0:00:00\u001b[0m\n",
            "\u001b[?25hDownloading starlette-0.46.2-py3-none-any.whl (72 kB)\n",
            "\u001b[2K   \u001b[90m━━━━━━━━━━━━━━━━━━━━━━━━━━━━━━━━━━━━━━━━\u001b[0m \u001b[32m72.0/72.0 kB\u001b[0m \u001b[31m6.4 MB/s\u001b[0m eta \u001b[36m0:00:00\u001b[0m\n",
            "\u001b[?25hDownloading sympy-1.13.3-py3-none-any.whl (6.2 MB)\n",
            "\u001b[2K   \u001b[90m━━━━━━━━━━━━━━━━━━━━━━━━━━━━━━━━━━━━━━━━\u001b[0m \u001b[32m6.2/6.2 MB\u001b[0m \u001b[31m100.6 MB/s\u001b[0m eta \u001b[36m0:00:00\u001b[0m\n",
            "\u001b[?25hDownloading torch-2.7.0-cp311-cp311-manylinux_2_28_x86_64.whl (865.2 MB)\n",
            "\u001b[2K   \u001b[90m━━━━━━━━━━━━━━━━━━━━━━━━━━━━━━━━━━━━━━━━\u001b[0m \u001b[32m865.2/865.2 MB\u001b[0m \u001b[31m1.8 MB/s\u001b[0m eta \u001b[36m0:00:00\u001b[0m\n",
            "\u001b[?25hDownloading torchvision-0.22.0-cp311-cp311-manylinux_2_28_x86_64.whl (7.4 MB)\n",
            "\u001b[2K   \u001b[90m━━━━━━━━━━━━━━━━━━━━━━━━━━━━━━━━━━━━━━━━\u001b[0m \u001b[32m7.4/7.4 MB\u001b[0m \u001b[31m102.0 MB/s\u001b[0m eta \u001b[36m0:00:00\u001b[0m\n",
            "\u001b[?25hDownloading triton-3.3.0-cp311-cp311-manylinux_2_27_x86_64.manylinux_2_28_x86_64.whl (156.5 MB)\n",
            "\u001b[2K   \u001b[90m━━━━━━━━━━━━━━━━━━━━━━━━━━━━━━━━━━━━━━━━\u001b[0m \u001b[32m156.5/156.5 MB\u001b[0m \u001b[31m6.7 MB/s\u001b[0m eta \u001b[36m0:00:00\u001b[0m\n",
            "\u001b[?25hDownloading ultralytics_thop-2.0.14-py3-none-any.whl (26 kB)\n",
            "Downloading ultralytics-8.3.118-py3-none-any.whl (1.0 MB)\n",
            "\u001b[2K   \u001b[90m━━━━━━━━━━━━━━━━━━━━━━━━━━━━━━━━━━━━━━━━\u001b[0m \u001b[32m1.0/1.0 MB\u001b[0m \u001b[31m51.8 MB/s\u001b[0m eta \u001b[36m0:00:00\u001b[0m\n",
            "\u001b[?25hDownloading uvicorn-0.34.2-py3-none-any.whl (62 kB)\n",
            "\u001b[2K   \u001b[90m━━━━━━━━━━━━━━━━━━━━━━━━━━━━━━━━━━━━━━━━\u001b[0m \u001b[32m62.5/62.5 kB\u001b[0m \u001b[31m4.9 MB/s\u001b[0m eta \u001b[36m0:00:00\u001b[0m\n",
            "\u001b[?25hInstalling collected packages: python-bidi, pyclipper, nvidia-cusparselt-cu12, uvicorn, sympy, setuptools, pyngrok, pyarrow, psutil, protobuf, nvidia-nvtx-cu12, nvidia-nvjitlink-cu12, nvidia-nccl-cu12, nvidia-curand-cu12, nvidia-cufile-cu12, nvidia-cuda-runtime-cu12, nvidia-cuda-nvrtc-cu12, nvidia-cuda-cupti-cu12, nvidia-cublas-cu12, numpy, ninja, mako, gunicorn, graphql-core, certifi, triton, starlette, pandas, nvidia-cusparse-cu12, nvidia-cufft-cu12, nvidia-cudnn-cu12, graphql-relay, google-auth, alembic, nvidia-cusolver-cu12, matplotlib, graphene, fastapi, docker, databricks-sdk, torch, ultralytics-thop, torchvision, mlflow-skinny, ultralytics, mlflow, easyocr\n",
            "  Attempting uninstall: nvidia-cusparselt-cu12\n",
            "    Found existing installation: nvidia-cusparselt-cu12 0.6.2\n",
            "    Uninstalling nvidia-cusparselt-cu12-0.6.2:\n",
            "      Successfully uninstalled nvidia-cusparselt-cu12-0.6.2\n",
            "  Attempting uninstall: sympy\n",
            "    Found existing installation: sympy 1.13.1\n",
            "    Uninstalling sympy-1.13.1:\n",
            "      Successfully uninstalled sympy-1.13.1\n",
            "  Attempting uninstall: setuptools\n",
            "    Found existing installation: setuptools 75.2.0\n",
            "    Uninstalling setuptools-75.2.0:\n",
            "      Successfully uninstalled setuptools-75.2.0\n",
            "  Attempting uninstall: pyarrow\n",
            "    Found existing installation: pyarrow 18.1.0\n",
            "    Uninstalling pyarrow-18.1.0:\n",
            "      Successfully uninstalled pyarrow-18.1.0\n",
            "  Attempting uninstall: psutil\n",
            "    Found existing installation: psutil 5.9.5\n",
            "    Uninstalling psutil-5.9.5:\n",
            "      Successfully uninstalled psutil-5.9.5\n",
            "  Attempting uninstall: protobuf\n",
            "    Found existing installation: protobuf 5.29.4\n",
            "    Uninstalling protobuf-5.29.4:\n",
            "      Successfully uninstalled protobuf-5.29.4\n",
            "  Attempting uninstall: nvidia-nvtx-cu12\n",
            "    Found existing installation: nvidia-nvtx-cu12 12.4.127\n",
            "    Uninstalling nvidia-nvtx-cu12-12.4.127:\n",
            "      Successfully uninstalled nvidia-nvtx-cu12-12.4.127\n",
            "  Attempting uninstall: nvidia-nvjitlink-cu12\n",
            "    Found existing installation: nvidia-nvjitlink-cu12 12.5.82\n",
            "    Uninstalling nvidia-nvjitlink-cu12-12.5.82:\n",
            "      Successfully uninstalled nvidia-nvjitlink-cu12-12.5.82\n",
            "  Attempting uninstall: nvidia-nccl-cu12\n",
            "    Found existing installation: nvidia-nccl-cu12 2.21.5\n",
            "    Uninstalling nvidia-nccl-cu12-2.21.5:\n",
            "      Successfully uninstalled nvidia-nccl-cu12-2.21.5\n",
            "  Attempting uninstall: nvidia-curand-cu12\n",
            "    Found existing installation: nvidia-curand-cu12 10.3.6.82\n",
            "    Uninstalling nvidia-curand-cu12-10.3.6.82:\n",
            "      Successfully uninstalled nvidia-curand-cu12-10.3.6.82\n",
            "  Attempting uninstall: nvidia-cuda-runtime-cu12\n",
            "    Found existing installation: nvidia-cuda-runtime-cu12 12.5.82\n",
            "    Uninstalling nvidia-cuda-runtime-cu12-12.5.82:\n",
            "      Successfully uninstalled nvidia-cuda-runtime-cu12-12.5.82\n",
            "  Attempting uninstall: nvidia-cuda-nvrtc-cu12\n",
            "    Found existing installation: nvidia-cuda-nvrtc-cu12 12.5.82\n",
            "    Uninstalling nvidia-cuda-nvrtc-cu12-12.5.82:\n",
            "      Successfully uninstalled nvidia-cuda-nvrtc-cu12-12.5.82\n",
            "  Attempting uninstall: nvidia-cuda-cupti-cu12\n",
            "    Found existing installation: nvidia-cuda-cupti-cu12 12.5.82\n",
            "    Uninstalling nvidia-cuda-cupti-cu12-12.5.82:\n",
            "      Successfully uninstalled nvidia-cuda-cupti-cu12-12.5.82\n",
            "  Attempting uninstall: nvidia-cublas-cu12\n",
            "    Found existing installation: nvidia-cublas-cu12 12.5.3.2\n",
            "    Uninstalling nvidia-cublas-cu12-12.5.3.2:\n",
            "      Successfully uninstalled nvidia-cublas-cu12-12.5.3.2\n",
            "  Attempting uninstall: numpy\n",
            "    Found existing installation: numpy 2.0.2\n",
            "    Uninstalling numpy-2.0.2:\n",
            "      Successfully uninstalled numpy-2.0.2\n",
            "  Attempting uninstall: mako\n",
            "    Found existing installation: Mako 1.1.3\n",
            "    Uninstalling Mako-1.1.3:\n",
            "      Successfully uninstalled Mako-1.1.3\n",
            "  Attempting uninstall: certifi\n",
            "    Found existing installation: certifi 2025.1.31\n",
            "    Uninstalling certifi-2025.1.31:\n",
            "      Successfully uninstalled certifi-2025.1.31\n",
            "  Attempting uninstall: triton\n",
            "    Found existing installation: triton 3.2.0\n",
            "    Uninstalling triton-3.2.0:\n",
            "      Successfully uninstalled triton-3.2.0\n",
            "  Attempting uninstall: pandas\n",
            "    Found existing installation: pandas 2.2.2\n",
            "    Uninstalling pandas-2.2.2:\n",
            "      Successfully uninstalled pandas-2.2.2\n",
            "  Attempting uninstall: nvidia-cusparse-cu12\n",
            "    Found existing installation: nvidia-cusparse-cu12 12.5.1.3\n",
            "    Uninstalling nvidia-cusparse-cu12-12.5.1.3:\n",
            "      Successfully uninstalled nvidia-cusparse-cu12-12.5.1.3\n",
            "  Attempting uninstall: nvidia-cufft-cu12\n",
            "    Found existing installation: nvidia-cufft-cu12 11.2.3.61\n",
            "    Uninstalling nvidia-cufft-cu12-11.2.3.61:\n",
            "      Successfully uninstalled nvidia-cufft-cu12-11.2.3.61\n",
            "  Attempting uninstall: nvidia-cudnn-cu12\n",
            "    Found existing installation: nvidia-cudnn-cu12 9.3.0.75\n",
            "    Uninstalling nvidia-cudnn-cu12-9.3.0.75:\n",
            "      Successfully uninstalled nvidia-cudnn-cu12-9.3.0.75\n",
            "  Attempting uninstall: google-auth\n",
            "    Found existing installation: google-auth 2.38.0\n",
            "    Uninstalling google-auth-2.38.0:\n",
            "      Successfully uninstalled google-auth-2.38.0\n",
            "  Attempting uninstall: nvidia-cusolver-cu12\n",
            "    Found existing installation: nvidia-cusolver-cu12 11.6.3.83\n",
            "    Uninstalling nvidia-cusolver-cu12-11.6.3.83:\n",
            "      Successfully uninstalled nvidia-cusolver-cu12-11.6.3.83\n",
            "  Attempting uninstall: matplotlib\n",
            "    Found existing installation: matplotlib 3.10.0\n",
            "    Uninstalling matplotlib-3.10.0:\n",
            "      Successfully uninstalled matplotlib-3.10.0\n",
            "  Attempting uninstall: torch\n",
            "    Found existing installation: torch 2.6.0+cu124\n",
            "    Uninstalling torch-2.6.0+cu124:\n",
            "      Successfully uninstalled torch-2.6.0+cu124\n",
            "  Attempting uninstall: torchvision\n",
            "    Found existing installation: torchvision 0.21.0+cu124\n",
            "    Uninstalling torchvision-0.21.0+cu124:\n",
            "      Successfully uninstalled torchvision-0.21.0+cu124\n",
            "\u001b[31mERROR: pip's dependency resolver does not currently take into account all the packages that are installed. This behaviour is the source of the following dependency conflicts.\n",
            "ipython 7.34.0 requires jedi>=0.16, which is not installed.\n",
            "google-colab 1.0.0 requires google-auth==2.38.0, but you have google-auth 2.39.0 which is incompatible.\n",
            "google-colab 1.0.0 requires pandas==2.2.2, but you have pandas 2.2.3 which is incompatible.\n",
            "tensorflow 2.18.0 requires numpy<2.1.0,>=1.26.0, but you have numpy 2.1.1 which is incompatible.\n",
            "tensorflow 2.18.0 requires protobuf!=4.21.0,!=4.21.1,!=4.21.2,!=4.21.3,!=4.21.4,!=4.21.5,<6.0.0dev,>=3.20.3, but you have protobuf 6.30.2 which is incompatible.\n",
            "grpcio-status 1.71.0 requires protobuf<6.0dev,>=5.26.1, but you have protobuf 6.30.2 which is incompatible.\n",
            "fastai 2.7.19 requires torch<2.7,>=1.10, but you have torch 2.7.0 which is incompatible.\n",
            "google-ai-generativelanguage 0.6.15 requires protobuf!=4.21.0,!=4.21.1,!=4.21.2,!=4.21.3,!=4.21.4,!=4.21.5,<6.0.0dev,>=3.20.2, but you have protobuf 6.30.2 which is incompatible.\n",
            "ydf 0.11.0 requires protobuf<6.0.0,>=5.29.1, but you have protobuf 6.30.2 which is incompatible.\n",
            "torchaudio 2.6.0+cu124 requires torch==2.6.0, but you have torch 2.7.0 which is incompatible.\n",
            "numba 0.60.0 requires numpy<2.1,>=1.22, but you have numpy 2.1.1 which is incompatible.\n",
            "tensorflow-metadata 1.17.1 requires protobuf<6.0.0,>=4.25.2; python_version >= \"3.11\", but you have protobuf 6.30.2 which is incompatible.\u001b[0m\u001b[31m\n",
            "\u001b[0mSuccessfully installed alembic-1.15.2 certifi-2025.4.26 databricks-sdk-0.50.0 docker-7.1.0 easyocr-1.7.2 fastapi-0.115.12 google-auth-2.39.0 graphene-3.4.3 graphql-core-3.2.6 graphql-relay-3.2.0 gunicorn-23.0.0 mako-1.3.10 matplotlib-3.10.1 mlflow-2.22.0 mlflow-skinny-2.22.0 ninja-1.11.1.4 numpy-2.1.1 nvidia-cublas-cu12-12.6.4.1 nvidia-cuda-cupti-cu12-12.6.80 nvidia-cuda-nvrtc-cu12-12.6.77 nvidia-cuda-runtime-cu12-12.6.77 nvidia-cudnn-cu12-9.5.1.17 nvidia-cufft-cu12-11.3.0.4 nvidia-cufile-cu12-1.11.1.6 nvidia-curand-cu12-10.3.7.77 nvidia-cusolver-cu12-11.7.1.2 nvidia-cusparse-cu12-12.5.4.2 nvidia-cusparselt-cu12-0.6.3 nvidia-nccl-cu12-2.26.2 nvidia-nvjitlink-cu12-12.6.85 nvidia-nvtx-cu12-12.6.77 pandas-2.2.3 protobuf-6.30.2 psutil-7.0.0 pyarrow-19.0.1 pyclipper-1.3.0.post6 pyngrok-7.2.5 python-bidi-0.6.6 setuptools-79.0.1 starlette-0.46.2 sympy-1.13.3 torch-2.7.0 torchvision-0.22.0 triton-3.3.0 ultralytics-8.3.118 ultralytics-thop-2.0.14 uvicorn-0.34.2\n"
          ]
        },
        {
          "data": {
            "application/vnd.colab-display-data+json": {
              "id": "ba8dd345df804e2b8402674bec0b491e",
              "pip_warning": {
                "packages": [
                  "_distutils_hack",
                  "certifi",
                  "google",
                  "psutil"
                ]
              }
            }
          },
          "metadata": {},
          "output_type": "display_data"
        }
      ],
      "source": [
        "!pip install -r https://raw.githubusercontent.com/McGill-MMA-EnterpriseAnalytics/SafeRide_Dtection/refs/heads/main/requirements.txt"
      ]
    },
    {
      "cell_type": "markdown",
      "metadata": {
        "id": "ouqNPlMrVXij"
      },
      "source": [
        "# Adding Kaggle Authkey"
      ]
    },
    {
      "cell_type": "code",
      "execution_count": 1,
      "metadata": {
        "colab": {
          "base_uri": "https://localhost:8080/",
          "height": 90
        },
        "id": "mFfurDnfyI-D",
        "outputId": "c89351aa-cb45-4cfb-9e6c-8e589c119375"
      },
      "outputs": [
        {
          "data": {
            "text/html": [
              "\n",
              "     <input type=\"file\" id=\"files-1c70fda7-a7a6-41b2-ac21-aa3e60261130\" name=\"files[]\" multiple disabled\n",
              "        style=\"border:none\" />\n",
              "     <output id=\"result-1c70fda7-a7a6-41b2-ac21-aa3e60261130\">\n",
              "      Upload widget is only available when the cell has been executed in the\n",
              "      current browser session. Please rerun this cell to enable.\n",
              "      </output>\n",
              "      <script>// Copyright 2017 Google LLC\n",
              "//\n",
              "// Licensed under the Apache License, Version 2.0 (the \"License\");\n",
              "// you may not use this file except in compliance with the License.\n",
              "// You may obtain a copy of the License at\n",
              "//\n",
              "//      http://www.apache.org/licenses/LICENSE-2.0\n",
              "//\n",
              "// Unless required by applicable law or agreed to in writing, software\n",
              "// distributed under the License is distributed on an \"AS IS\" BASIS,\n",
              "// WITHOUT WARRANTIES OR CONDITIONS OF ANY KIND, either express or implied.\n",
              "// See the License for the specific language governing permissions and\n",
              "// limitations under the License.\n",
              "\n",
              "/**\n",
              " * @fileoverview Helpers for google.colab Python module.\n",
              " */\n",
              "(function(scope) {\n",
              "function span(text, styleAttributes = {}) {\n",
              "  const element = document.createElement('span');\n",
              "  element.textContent = text;\n",
              "  for (const key of Object.keys(styleAttributes)) {\n",
              "    element.style[key] = styleAttributes[key];\n",
              "  }\n",
              "  return element;\n",
              "}\n",
              "\n",
              "// Max number of bytes which will be uploaded at a time.\n",
              "const MAX_PAYLOAD_SIZE = 100 * 1024;\n",
              "\n",
              "function _uploadFiles(inputId, outputId) {\n",
              "  const steps = uploadFilesStep(inputId, outputId);\n",
              "  const outputElement = document.getElementById(outputId);\n",
              "  // Cache steps on the outputElement to make it available for the next call\n",
              "  // to uploadFilesContinue from Python.\n",
              "  outputElement.steps = steps;\n",
              "\n",
              "  return _uploadFilesContinue(outputId);\n",
              "}\n",
              "\n",
              "// This is roughly an async generator (not supported in the browser yet),\n",
              "// where there are multiple asynchronous steps and the Python side is going\n",
              "// to poll for completion of each step.\n",
              "// This uses a Promise to block the python side on completion of each step,\n",
              "// then passes the result of the previous step as the input to the next step.\n",
              "function _uploadFilesContinue(outputId) {\n",
              "  const outputElement = document.getElementById(outputId);\n",
              "  const steps = outputElement.steps;\n",
              "\n",
              "  const next = steps.next(outputElement.lastPromiseValue);\n",
              "  return Promise.resolve(next.value.promise).then((value) => {\n",
              "    // Cache the last promise value to make it available to the next\n",
              "    // step of the generator.\n",
              "    outputElement.lastPromiseValue = value;\n",
              "    return next.value.response;\n",
              "  });\n",
              "}\n",
              "\n",
              "/**\n",
              " * Generator function which is called between each async step of the upload\n",
              " * process.\n",
              " * @param {string} inputId Element ID of the input file picker element.\n",
              " * @param {string} outputId Element ID of the output display.\n",
              " * @return {!Iterable<!Object>} Iterable of next steps.\n",
              " */\n",
              "function* uploadFilesStep(inputId, outputId) {\n",
              "  const inputElement = document.getElementById(inputId);\n",
              "  inputElement.disabled = false;\n",
              "\n",
              "  const outputElement = document.getElementById(outputId);\n",
              "  outputElement.innerHTML = '';\n",
              "\n",
              "  const pickedPromise = new Promise((resolve) => {\n",
              "    inputElement.addEventListener('change', (e) => {\n",
              "      resolve(e.target.files);\n",
              "    });\n",
              "  });\n",
              "\n",
              "  const cancel = document.createElement('button');\n",
              "  inputElement.parentElement.appendChild(cancel);\n",
              "  cancel.textContent = 'Cancel upload';\n",
              "  const cancelPromise = new Promise((resolve) => {\n",
              "    cancel.onclick = () => {\n",
              "      resolve(null);\n",
              "    };\n",
              "  });\n",
              "\n",
              "  // Wait for the user to pick the files.\n",
              "  const files = yield {\n",
              "    promise: Promise.race([pickedPromise, cancelPromise]),\n",
              "    response: {\n",
              "      action: 'starting',\n",
              "    }\n",
              "  };\n",
              "\n",
              "  cancel.remove();\n",
              "\n",
              "  // Disable the input element since further picks are not allowed.\n",
              "  inputElement.disabled = true;\n",
              "\n",
              "  if (!files) {\n",
              "    return {\n",
              "      response: {\n",
              "        action: 'complete',\n",
              "      }\n",
              "    };\n",
              "  }\n",
              "\n",
              "  for (const file of files) {\n",
              "    const li = document.createElement('li');\n",
              "    li.append(span(file.name, {fontWeight: 'bold'}));\n",
              "    li.append(span(\n",
              "        `(${file.type || 'n/a'}) - ${file.size} bytes, ` +\n",
              "        `last modified: ${\n",
              "            file.lastModifiedDate ? file.lastModifiedDate.toLocaleDateString() :\n",
              "                                    'n/a'} - `));\n",
              "    const percent = span('0% done');\n",
              "    li.appendChild(percent);\n",
              "\n",
              "    outputElement.appendChild(li);\n",
              "\n",
              "    const fileDataPromise = new Promise((resolve) => {\n",
              "      const reader = new FileReader();\n",
              "      reader.onload = (e) => {\n",
              "        resolve(e.target.result);\n",
              "      };\n",
              "      reader.readAsArrayBuffer(file);\n",
              "    });\n",
              "    // Wait for the data to be ready.\n",
              "    let fileData = yield {\n",
              "      promise: fileDataPromise,\n",
              "      response: {\n",
              "        action: 'continue',\n",
              "      }\n",
              "    };\n",
              "\n",
              "    // Use a chunked sending to avoid message size limits. See b/62115660.\n",
              "    let position = 0;\n",
              "    do {\n",
              "      const length = Math.min(fileData.byteLength - position, MAX_PAYLOAD_SIZE);\n",
              "      const chunk = new Uint8Array(fileData, position, length);\n",
              "      position += length;\n",
              "\n",
              "      const base64 = btoa(String.fromCharCode.apply(null, chunk));\n",
              "      yield {\n",
              "        response: {\n",
              "          action: 'append',\n",
              "          file: file.name,\n",
              "          data: base64,\n",
              "        },\n",
              "      };\n",
              "\n",
              "      let percentDone = fileData.byteLength === 0 ?\n",
              "          100 :\n",
              "          Math.round((position / fileData.byteLength) * 100);\n",
              "      percent.textContent = `${percentDone}% done`;\n",
              "\n",
              "    } while (position < fileData.byteLength);\n",
              "  }\n",
              "\n",
              "  // All done.\n",
              "  yield {\n",
              "    response: {\n",
              "      action: 'complete',\n",
              "    }\n",
              "  };\n",
              "}\n",
              "\n",
              "scope.google = scope.google || {};\n",
              "scope.google.colab = scope.google.colab || {};\n",
              "scope.google.colab._files = {\n",
              "  _uploadFiles,\n",
              "  _uploadFilesContinue,\n",
              "};\n",
              "})(self);\n",
              "</script> "
            ],
            "text/plain": [
              "<IPython.core.display.HTML object>"
            ]
          },
          "metadata": {},
          "output_type": "display_data"
        },
        {
          "name": "stdout",
          "output_type": "stream",
          "text": [
            "Saving kaggle.json to kaggle.json\n"
          ]
        },
        {
          "data": {
            "text/plain": [
              "{'kaggle.json': b'{\"username\":\"yashsethi24\",\"key\":\"edbf0036ebd673985f86ae4176a42b53\"}'}"
            ]
          },
          "execution_count": 1,
          "metadata": {},
          "output_type": "execute_result"
        }
      ],
      "source": [
        "from google.colab import files\n",
        "files.upload()"
      ]
    },
    {
      "cell_type": "code",
      "execution_count": 2,
      "metadata": {
        "id": "5-EQDI7myO_b"
      },
      "outputs": [],
      "source": [
        "!mkdir ~/.kaggle\n",
        "!mv kaggle.json ~/.kaggle/\n",
        "!chmod 600 ~/.kaggle/kaggle.json"
      ]
    },
    {
      "cell_type": "markdown",
      "metadata": {
        "id": "97SGoCWBVbmK"
      },
      "source": [
        "# Downloading dataset for training"
      ]
    },
    {
      "cell_type": "code",
      "execution_count": 3,
      "metadata": {
        "colab": {
          "base_uri": "https://localhost:8080/"
        },
        "id": "b4Ggrt8KyPrb",
        "outputId": "fe50bf8f-3630-4d87-b3bb-e47afc7d1de3"
      },
      "outputs": [
        {
          "name": "stdout",
          "output_type": "stream",
          "text": [
            "Dataset URL: https://www.kaggle.com/datasets/andrewmvd/helmet-detection\n",
            "License(s): CC0-1.0\n",
            "Archive:  helmet-detection.zip\n",
            "  inflating: helmet_data/annotations/BikesHelmets0.xml  \n",
            "  inflating: helmet_data/annotations/BikesHelmets1.xml  \n",
            "  inflating: helmet_data/annotations/BikesHelmets10.xml  \n",
            "  inflating: helmet_data/annotations/BikesHelmets100.xml  \n",
            "  inflating: helmet_data/annotations/BikesHelmets101.xml  \n",
            "  inflating: helmet_data/annotations/BikesHelmets102.xml  \n",
            "  inflating: helmet_data/annotations/BikesHelmets103.xml  \n",
            "  inflating: helmet_data/annotations/BikesHelmets104.xml  \n",
            "  inflating: helmet_data/annotations/BikesHelmets105.xml  \n",
            "  inflating: helmet_data/annotations/BikesHelmets106.xml  \n",
            "  inflating: helmet_data/annotations/BikesHelmets107.xml  \n",
            "  inflating: helmet_data/annotations/BikesHelmets108.xml  \n",
            "  inflating: helmet_data/annotations/BikesHelmets109.xml  \n",
            "  inflating: helmet_data/annotations/BikesHelmets11.xml  \n",
            "  inflating: helmet_data/annotations/BikesHelmets110.xml  \n",
            "  inflating: helmet_data/annotations/BikesHelmets111.xml  \n",
            "  inflating: helmet_data/annotations/BikesHelmets112.xml  \n",
            "  inflating: helmet_data/annotations/BikesHelmets113.xml  \n",
            "  inflating: helmet_data/annotations/BikesHelmets114.xml  \n",
            "  inflating: helmet_data/annotations/BikesHelmets115.xml  \n",
            "  inflating: helmet_data/annotations/BikesHelmets116.xml  \n",
            "  inflating: helmet_data/annotations/BikesHelmets117.xml  \n",
            "  inflating: helmet_data/annotations/BikesHelmets118.xml  \n",
            "  inflating: helmet_data/annotations/BikesHelmets119.xml  \n",
            "  inflating: helmet_data/annotations/BikesHelmets12.xml  \n",
            "  inflating: helmet_data/annotations/BikesHelmets120.xml  \n",
            "  inflating: helmet_data/annotations/BikesHelmets121.xml  \n",
            "  inflating: helmet_data/annotations/BikesHelmets122.xml  \n",
            "  inflating: helmet_data/annotations/BikesHelmets123.xml  \n",
            "  inflating: helmet_data/annotations/BikesHelmets124.xml  \n",
            "  inflating: helmet_data/annotations/BikesHelmets125.xml  \n",
            "  inflating: helmet_data/annotations/BikesHelmets126.xml  \n",
            "  inflating: helmet_data/annotations/BikesHelmets127.xml  \n",
            "  inflating: helmet_data/annotations/BikesHelmets128.xml  \n",
            "  inflating: helmet_data/annotations/BikesHelmets129.xml  \n",
            "  inflating: helmet_data/annotations/BikesHelmets13.xml  \n",
            "  inflating: helmet_data/annotations/BikesHelmets130.xml  \n",
            "  inflating: helmet_data/annotations/BikesHelmets131.xml  \n",
            "  inflating: helmet_data/annotations/BikesHelmets132.xml  \n",
            "  inflating: helmet_data/annotations/BikesHelmets133.xml  \n",
            "  inflating: helmet_data/annotations/BikesHelmets134.xml  \n",
            "  inflating: helmet_data/annotations/BikesHelmets135.xml  \n",
            "  inflating: helmet_data/annotations/BikesHelmets136.xml  \n",
            "  inflating: helmet_data/annotations/BikesHelmets137.xml  \n",
            "  inflating: helmet_data/annotations/BikesHelmets138.xml  \n",
            "  inflating: helmet_data/annotations/BikesHelmets139.xml  \n",
            "  inflating: helmet_data/annotations/BikesHelmets14.xml  \n",
            "  inflating: helmet_data/annotations/BikesHelmets140.xml  \n",
            "  inflating: helmet_data/annotations/BikesHelmets141.xml  \n",
            "  inflating: helmet_data/annotations/BikesHelmets142.xml  \n",
            "  inflating: helmet_data/annotations/BikesHelmets143.xml  \n",
            "  inflating: helmet_data/annotations/BikesHelmets144.xml  \n",
            "  inflating: helmet_data/annotations/BikesHelmets145.xml  \n",
            "  inflating: helmet_data/annotations/BikesHelmets146.xml  \n",
            "  inflating: helmet_data/annotations/BikesHelmets147.xml  \n",
            "  inflating: helmet_data/annotations/BikesHelmets148.xml  \n",
            "  inflating: helmet_data/annotations/BikesHelmets149.xml  \n",
            "  inflating: helmet_data/annotations/BikesHelmets15.xml  \n",
            "  inflating: helmet_data/annotations/BikesHelmets150.xml  \n",
            "  inflating: helmet_data/annotations/BikesHelmets151.xml  \n",
            "  inflating: helmet_data/annotations/BikesHelmets152.xml  \n",
            "  inflating: helmet_data/annotations/BikesHelmets153.xml  \n",
            "  inflating: helmet_data/annotations/BikesHelmets154.xml  \n",
            "  inflating: helmet_data/annotations/BikesHelmets155.xml  \n",
            "  inflating: helmet_data/annotations/BikesHelmets156.xml  \n",
            "  inflating: helmet_data/annotations/BikesHelmets157.xml  \n",
            "  inflating: helmet_data/annotations/BikesHelmets158.xml  \n",
            "  inflating: helmet_data/annotations/BikesHelmets159.xml  \n",
            "  inflating: helmet_data/annotations/BikesHelmets16.xml  \n",
            "  inflating: helmet_data/annotations/BikesHelmets160.xml  \n",
            "  inflating: helmet_data/annotations/BikesHelmets161.xml  \n",
            "  inflating: helmet_data/annotations/BikesHelmets162.xml  \n",
            "  inflating: helmet_data/annotations/BikesHelmets163.xml  \n",
            "  inflating: helmet_data/annotations/BikesHelmets164.xml  \n",
            "  inflating: helmet_data/annotations/BikesHelmets165.xml  \n",
            "  inflating: helmet_data/annotations/BikesHelmets166.xml  \n",
            "  inflating: helmet_data/annotations/BikesHelmets167.xml  \n",
            "  inflating: helmet_data/annotations/BikesHelmets168.xml  \n",
            "  inflating: helmet_data/annotations/BikesHelmets169.xml  \n",
            "  inflating: helmet_data/annotations/BikesHelmets17.xml  \n",
            "  inflating: helmet_data/annotations/BikesHelmets170.xml  \n",
            "  inflating: helmet_data/annotations/BikesHelmets171.xml  \n",
            "  inflating: helmet_data/annotations/BikesHelmets172.xml  \n",
            "  inflating: helmet_data/annotations/BikesHelmets173.xml  \n",
            "  inflating: helmet_data/annotations/BikesHelmets174.xml  \n",
            "  inflating: helmet_data/annotations/BikesHelmets175.xml  \n",
            "  inflating: helmet_data/annotations/BikesHelmets176.xml  \n",
            "  inflating: helmet_data/annotations/BikesHelmets177.xml  \n",
            "  inflating: helmet_data/annotations/BikesHelmets178.xml  \n",
            "  inflating: helmet_data/annotations/BikesHelmets179.xml  \n",
            "  inflating: helmet_data/annotations/BikesHelmets18.xml  \n",
            "  inflating: helmet_data/annotations/BikesHelmets180.xml  \n",
            "  inflating: helmet_data/annotations/BikesHelmets181.xml  \n",
            "  inflating: helmet_data/annotations/BikesHelmets182.xml  \n",
            "  inflating: helmet_data/annotations/BikesHelmets183.xml  \n",
            "  inflating: helmet_data/annotations/BikesHelmets184.xml  \n",
            "  inflating: helmet_data/annotations/BikesHelmets185.xml  \n",
            "  inflating: helmet_data/annotations/BikesHelmets186.xml  \n",
            "  inflating: helmet_data/annotations/BikesHelmets187.xml  \n",
            "  inflating: helmet_data/annotations/BikesHelmets188.xml  \n",
            "  inflating: helmet_data/annotations/BikesHelmets189.xml  \n",
            "  inflating: helmet_data/annotations/BikesHelmets19.xml  \n",
            "  inflating: helmet_data/annotations/BikesHelmets190.xml  \n",
            "  inflating: helmet_data/annotations/BikesHelmets191.xml  \n",
            "  inflating: helmet_data/annotations/BikesHelmets192.xml  \n",
            "  inflating: helmet_data/annotations/BikesHelmets193.xml  \n",
            "  inflating: helmet_data/annotations/BikesHelmets194.xml  \n",
            "  inflating: helmet_data/annotations/BikesHelmets195.xml  \n",
            "  inflating: helmet_data/annotations/BikesHelmets196.xml  \n",
            "  inflating: helmet_data/annotations/BikesHelmets197.xml  \n",
            "  inflating: helmet_data/annotations/BikesHelmets198.xml  \n",
            "  inflating: helmet_data/annotations/BikesHelmets199.xml  \n",
            "  inflating: helmet_data/annotations/BikesHelmets2.xml  \n",
            "  inflating: helmet_data/annotations/BikesHelmets20.xml  \n",
            "  inflating: helmet_data/annotations/BikesHelmets200.xml  \n",
            "  inflating: helmet_data/annotations/BikesHelmets201.xml  \n",
            "  inflating: helmet_data/annotations/BikesHelmets202.xml  \n",
            "  inflating: helmet_data/annotations/BikesHelmets203.xml  \n",
            "  inflating: helmet_data/annotations/BikesHelmets204.xml  \n",
            "  inflating: helmet_data/annotations/BikesHelmets205.xml  \n",
            "  inflating: helmet_data/annotations/BikesHelmets206.xml  \n",
            "  inflating: helmet_data/annotations/BikesHelmets207.xml  \n",
            "  inflating: helmet_data/annotations/BikesHelmets208.xml  \n",
            "  inflating: helmet_data/annotations/BikesHelmets209.xml  \n",
            "  inflating: helmet_data/annotations/BikesHelmets21.xml  \n",
            "  inflating: helmet_data/annotations/BikesHelmets210.xml  \n",
            "  inflating: helmet_data/annotations/BikesHelmets211.xml  \n",
            "  inflating: helmet_data/annotations/BikesHelmets212.xml  \n",
            "  inflating: helmet_data/annotations/BikesHelmets213.xml  \n",
            "  inflating: helmet_data/annotations/BikesHelmets214.xml  \n",
            "  inflating: helmet_data/annotations/BikesHelmets215.xml  \n",
            "  inflating: helmet_data/annotations/BikesHelmets216.xml  \n",
            "  inflating: helmet_data/annotations/BikesHelmets217.xml  \n",
            "  inflating: helmet_data/annotations/BikesHelmets218.xml  \n",
            "  inflating: helmet_data/annotations/BikesHelmets219.xml  \n",
            "  inflating: helmet_data/annotations/BikesHelmets22.xml  \n",
            "  inflating: helmet_data/annotations/BikesHelmets220.xml  \n",
            "  inflating: helmet_data/annotations/BikesHelmets221.xml  \n",
            "  inflating: helmet_data/annotations/BikesHelmets222.xml  \n",
            "  inflating: helmet_data/annotations/BikesHelmets223.xml  \n",
            "  inflating: helmet_data/annotations/BikesHelmets224.xml  \n",
            "  inflating: helmet_data/annotations/BikesHelmets225.xml  \n",
            "  inflating: helmet_data/annotations/BikesHelmets226.xml  \n",
            "  inflating: helmet_data/annotations/BikesHelmets227.xml  \n",
            "  inflating: helmet_data/annotations/BikesHelmets228.xml  \n",
            "  inflating: helmet_data/annotations/BikesHelmets229.xml  \n",
            "  inflating: helmet_data/annotations/BikesHelmets23.xml  \n",
            "  inflating: helmet_data/annotations/BikesHelmets230.xml  \n",
            "  inflating: helmet_data/annotations/BikesHelmets231.xml  \n",
            "  inflating: helmet_data/annotations/BikesHelmets232.xml  \n",
            "  inflating: helmet_data/annotations/BikesHelmets233.xml  \n",
            "  inflating: helmet_data/annotations/BikesHelmets234.xml  \n",
            "  inflating: helmet_data/annotations/BikesHelmets235.xml  \n",
            "  inflating: helmet_data/annotations/BikesHelmets236.xml  \n",
            "  inflating: helmet_data/annotations/BikesHelmets237.xml  \n",
            "  inflating: helmet_data/annotations/BikesHelmets238.xml  \n",
            "  inflating: helmet_data/annotations/BikesHelmets239.xml  \n",
            "  inflating: helmet_data/annotations/BikesHelmets24.xml  \n",
            "  inflating: helmet_data/annotations/BikesHelmets240.xml  \n",
            "  inflating: helmet_data/annotations/BikesHelmets241.xml  \n",
            "  inflating: helmet_data/annotations/BikesHelmets242.xml  \n",
            "  inflating: helmet_data/annotations/BikesHelmets243.xml  \n",
            "  inflating: helmet_data/annotations/BikesHelmets244.xml  \n",
            "  inflating: helmet_data/annotations/BikesHelmets245.xml  \n",
            "  inflating: helmet_data/annotations/BikesHelmets246.xml  \n",
            "  inflating: helmet_data/annotations/BikesHelmets247.xml  \n",
            "  inflating: helmet_data/annotations/BikesHelmets248.xml  \n",
            "  inflating: helmet_data/annotations/BikesHelmets249.xml  \n",
            "  inflating: helmet_data/annotations/BikesHelmets25.xml  \n",
            "  inflating: helmet_data/annotations/BikesHelmets250.xml  \n",
            "  inflating: helmet_data/annotations/BikesHelmets251.xml  \n",
            "  inflating: helmet_data/annotations/BikesHelmets252.xml  \n",
            "  inflating: helmet_data/annotations/BikesHelmets253.xml  \n",
            "  inflating: helmet_data/annotations/BikesHelmets254.xml  \n",
            "  inflating: helmet_data/annotations/BikesHelmets255.xml  \n",
            "  inflating: helmet_data/annotations/BikesHelmets256.xml  \n",
            "  inflating: helmet_data/annotations/BikesHelmets257.xml  \n",
            "  inflating: helmet_data/annotations/BikesHelmets258.xml  \n",
            "  inflating: helmet_data/annotations/BikesHelmets259.xml  \n",
            "  inflating: helmet_data/annotations/BikesHelmets26.xml  \n",
            "  inflating: helmet_data/annotations/BikesHelmets260.xml  \n",
            "  inflating: helmet_data/annotations/BikesHelmets261.xml  \n",
            "  inflating: helmet_data/annotations/BikesHelmets262.xml  \n",
            "  inflating: helmet_data/annotations/BikesHelmets263.xml  \n",
            "  inflating: helmet_data/annotations/BikesHelmets264.xml  \n",
            "  inflating: helmet_data/annotations/BikesHelmets265.xml  \n",
            "  inflating: helmet_data/annotations/BikesHelmets266.xml  \n",
            "  inflating: helmet_data/annotations/BikesHelmets267.xml  \n",
            "  inflating: helmet_data/annotations/BikesHelmets268.xml  \n",
            "  inflating: helmet_data/annotations/BikesHelmets269.xml  \n",
            "  inflating: helmet_data/annotations/BikesHelmets27.xml  \n",
            "  inflating: helmet_data/annotations/BikesHelmets270.xml  \n",
            "  inflating: helmet_data/annotations/BikesHelmets271.xml  \n",
            "  inflating: helmet_data/annotations/BikesHelmets272.xml  \n",
            "  inflating: helmet_data/annotations/BikesHelmets273.xml  \n",
            "  inflating: helmet_data/annotations/BikesHelmets274.xml  \n",
            "  inflating: helmet_data/annotations/BikesHelmets275.xml  \n",
            "  inflating: helmet_data/annotations/BikesHelmets276.xml  \n",
            "  inflating: helmet_data/annotations/BikesHelmets277.xml  \n",
            "  inflating: helmet_data/annotations/BikesHelmets278.xml  \n",
            "  inflating: helmet_data/annotations/BikesHelmets279.xml  \n",
            "  inflating: helmet_data/annotations/BikesHelmets28.xml  \n",
            "  inflating: helmet_data/annotations/BikesHelmets280.xml  \n",
            "  inflating: helmet_data/annotations/BikesHelmets281.xml  \n",
            "  inflating: helmet_data/annotations/BikesHelmets282.xml  \n",
            "  inflating: helmet_data/annotations/BikesHelmets283.xml  \n",
            "  inflating: helmet_data/annotations/BikesHelmets284.xml  \n",
            "  inflating: helmet_data/annotations/BikesHelmets285.xml  \n",
            "  inflating: helmet_data/annotations/BikesHelmets286.xml  \n",
            "  inflating: helmet_data/annotations/BikesHelmets287.xml  \n",
            "  inflating: helmet_data/annotations/BikesHelmets288.xml  \n",
            "  inflating: helmet_data/annotations/BikesHelmets289.xml  \n",
            "  inflating: helmet_data/annotations/BikesHelmets29.xml  \n",
            "  inflating: helmet_data/annotations/BikesHelmets290.xml  \n",
            "  inflating: helmet_data/annotations/BikesHelmets291.xml  \n",
            "  inflating: helmet_data/annotations/BikesHelmets292.xml  \n",
            "  inflating: helmet_data/annotations/BikesHelmets293.xml  \n",
            "  inflating: helmet_data/annotations/BikesHelmets294.xml  \n",
            "  inflating: helmet_data/annotations/BikesHelmets295.xml  \n",
            "  inflating: helmet_data/annotations/BikesHelmets296.xml  \n",
            "  inflating: helmet_data/annotations/BikesHelmets297.xml  \n",
            "  inflating: helmet_data/annotations/BikesHelmets298.xml  \n",
            "  inflating: helmet_data/annotations/BikesHelmets299.xml  \n",
            "  inflating: helmet_data/annotations/BikesHelmets3.xml  \n",
            "  inflating: helmet_data/annotations/BikesHelmets30.xml  \n",
            "  inflating: helmet_data/annotations/BikesHelmets300.xml  \n",
            "  inflating: helmet_data/annotations/BikesHelmets301.xml  \n",
            "  inflating: helmet_data/annotations/BikesHelmets302.xml  \n",
            "  inflating: helmet_data/annotations/BikesHelmets303.xml  \n",
            "  inflating: helmet_data/annotations/BikesHelmets304.xml  \n",
            "  inflating: helmet_data/annotations/BikesHelmets305.xml  \n",
            "  inflating: helmet_data/annotations/BikesHelmets306.xml  \n",
            "  inflating: helmet_data/annotations/BikesHelmets307.xml  \n",
            "  inflating: helmet_data/annotations/BikesHelmets308.xml  \n",
            "  inflating: helmet_data/annotations/BikesHelmets309.xml  \n",
            "  inflating: helmet_data/annotations/BikesHelmets31.xml  \n",
            "  inflating: helmet_data/annotations/BikesHelmets310.xml  \n",
            "  inflating: helmet_data/annotations/BikesHelmets311.xml  \n",
            "  inflating: helmet_data/annotations/BikesHelmets312.xml  \n",
            "  inflating: helmet_data/annotations/BikesHelmets313.xml  \n",
            "  inflating: helmet_data/annotations/BikesHelmets314.xml  \n",
            "  inflating: helmet_data/annotations/BikesHelmets315.xml  \n",
            "  inflating: helmet_data/annotations/BikesHelmets316.xml  \n",
            "  inflating: helmet_data/annotations/BikesHelmets317.xml  \n",
            "  inflating: helmet_data/annotations/BikesHelmets318.xml  \n",
            "  inflating: helmet_data/annotations/BikesHelmets319.xml  \n",
            "  inflating: helmet_data/annotations/BikesHelmets32.xml  \n",
            "  inflating: helmet_data/annotations/BikesHelmets320.xml  \n",
            "  inflating: helmet_data/annotations/BikesHelmets321.xml  \n",
            "  inflating: helmet_data/annotations/BikesHelmets322.xml  \n",
            "  inflating: helmet_data/annotations/BikesHelmets323.xml  \n",
            "  inflating: helmet_data/annotations/BikesHelmets324.xml  \n",
            "  inflating: helmet_data/annotations/BikesHelmets325.xml  \n",
            "  inflating: helmet_data/annotations/BikesHelmets326.xml  \n",
            "  inflating: helmet_data/annotations/BikesHelmets327.xml  \n",
            "  inflating: helmet_data/annotations/BikesHelmets328.xml  \n",
            "  inflating: helmet_data/annotations/BikesHelmets329.xml  \n",
            "  inflating: helmet_data/annotations/BikesHelmets33.xml  \n",
            "  inflating: helmet_data/annotations/BikesHelmets330.xml  \n",
            "  inflating: helmet_data/annotations/BikesHelmets331.xml  \n",
            "  inflating: helmet_data/annotations/BikesHelmets332.xml  \n",
            "  inflating: helmet_data/annotations/BikesHelmets333.xml  \n",
            "  inflating: helmet_data/annotations/BikesHelmets334.xml  \n",
            "  inflating: helmet_data/annotations/BikesHelmets335.xml  \n",
            "  inflating: helmet_data/annotations/BikesHelmets336.xml  \n",
            "  inflating: helmet_data/annotations/BikesHelmets337.xml  \n",
            "  inflating: helmet_data/annotations/BikesHelmets338.xml  \n",
            "  inflating: helmet_data/annotations/BikesHelmets339.xml  \n",
            "  inflating: helmet_data/annotations/BikesHelmets34.xml  \n",
            "  inflating: helmet_data/annotations/BikesHelmets340.xml  \n",
            "  inflating: helmet_data/annotations/BikesHelmets341.xml  \n",
            "  inflating: helmet_data/annotations/BikesHelmets342.xml  \n",
            "  inflating: helmet_data/annotations/BikesHelmets343.xml  \n",
            "  inflating: helmet_data/annotations/BikesHelmets344.xml  \n",
            "  inflating: helmet_data/annotations/BikesHelmets345.xml  \n",
            "  inflating: helmet_data/annotations/BikesHelmets346.xml  \n",
            "  inflating: helmet_data/annotations/BikesHelmets347.xml  \n",
            "  inflating: helmet_data/annotations/BikesHelmets348.xml  \n",
            "  inflating: helmet_data/annotations/BikesHelmets349.xml  \n",
            "  inflating: helmet_data/annotations/BikesHelmets35.xml  \n",
            "  inflating: helmet_data/annotations/BikesHelmets350.xml  \n",
            "  inflating: helmet_data/annotations/BikesHelmets351.xml  \n",
            "  inflating: helmet_data/annotations/BikesHelmets352.xml  \n",
            "  inflating: helmet_data/annotations/BikesHelmets353.xml  \n",
            "  inflating: helmet_data/annotations/BikesHelmets354.xml  \n",
            "  inflating: helmet_data/annotations/BikesHelmets355.xml  \n",
            "  inflating: helmet_data/annotations/BikesHelmets356.xml  \n",
            "  inflating: helmet_data/annotations/BikesHelmets357.xml  \n",
            "  inflating: helmet_data/annotations/BikesHelmets358.xml  \n",
            "  inflating: helmet_data/annotations/BikesHelmets359.xml  \n",
            "  inflating: helmet_data/annotations/BikesHelmets36.xml  \n",
            "  inflating: helmet_data/annotations/BikesHelmets360.xml  \n",
            "  inflating: helmet_data/annotations/BikesHelmets361.xml  \n",
            "  inflating: helmet_data/annotations/BikesHelmets362.xml  \n",
            "  inflating: helmet_data/annotations/BikesHelmets363.xml  \n",
            "  inflating: helmet_data/annotations/BikesHelmets364.xml  \n",
            "  inflating: helmet_data/annotations/BikesHelmets365.xml  \n",
            "  inflating: helmet_data/annotations/BikesHelmets366.xml  \n",
            "  inflating: helmet_data/annotations/BikesHelmets367.xml  \n",
            "  inflating: helmet_data/annotations/BikesHelmets368.xml  \n",
            "  inflating: helmet_data/annotations/BikesHelmets369.xml  \n",
            "  inflating: helmet_data/annotations/BikesHelmets37.xml  \n",
            "  inflating: helmet_data/annotations/BikesHelmets370.xml  \n",
            "  inflating: helmet_data/annotations/BikesHelmets371.xml  \n",
            "  inflating: helmet_data/annotations/BikesHelmets372.xml  \n",
            "  inflating: helmet_data/annotations/BikesHelmets373.xml  \n",
            "  inflating: helmet_data/annotations/BikesHelmets374.xml  \n",
            "  inflating: helmet_data/annotations/BikesHelmets375.xml  \n",
            "  inflating: helmet_data/annotations/BikesHelmets376.xml  \n",
            "  inflating: helmet_data/annotations/BikesHelmets377.xml  \n",
            "  inflating: helmet_data/annotations/BikesHelmets378.xml  \n",
            "  inflating: helmet_data/annotations/BikesHelmets379.xml  \n",
            "  inflating: helmet_data/annotations/BikesHelmets38.xml  \n",
            "  inflating: helmet_data/annotations/BikesHelmets380.xml  \n",
            "  inflating: helmet_data/annotations/BikesHelmets381.xml  \n",
            "  inflating: helmet_data/annotations/BikesHelmets382.xml  \n",
            "  inflating: helmet_data/annotations/BikesHelmets383.xml  \n",
            "  inflating: helmet_data/annotations/BikesHelmets384.xml  \n",
            "  inflating: helmet_data/annotations/BikesHelmets385.xml  \n",
            "  inflating: helmet_data/annotations/BikesHelmets386.xml  \n",
            "  inflating: helmet_data/annotations/BikesHelmets387.xml  \n",
            "  inflating: helmet_data/annotations/BikesHelmets388.xml  \n",
            "  inflating: helmet_data/annotations/BikesHelmets389.xml  \n",
            "  inflating: helmet_data/annotations/BikesHelmets39.xml  \n",
            "  inflating: helmet_data/annotations/BikesHelmets390.xml  \n",
            "  inflating: helmet_data/annotations/BikesHelmets391.xml  \n",
            "  inflating: helmet_data/annotations/BikesHelmets392.xml  \n",
            "  inflating: helmet_data/annotations/BikesHelmets393.xml  \n",
            "  inflating: helmet_data/annotations/BikesHelmets394.xml  \n",
            "  inflating: helmet_data/annotations/BikesHelmets395.xml  \n",
            "  inflating: helmet_data/annotations/BikesHelmets396.xml  \n",
            "  inflating: helmet_data/annotations/BikesHelmets397.xml  \n",
            "  inflating: helmet_data/annotations/BikesHelmets398.xml  \n",
            "  inflating: helmet_data/annotations/BikesHelmets399.xml  \n",
            "  inflating: helmet_data/annotations/BikesHelmets4.xml  \n",
            "  inflating: helmet_data/annotations/BikesHelmets40.xml  \n",
            "  inflating: helmet_data/annotations/BikesHelmets400.xml  \n",
            "  inflating: helmet_data/annotations/BikesHelmets401.xml  \n",
            "  inflating: helmet_data/annotations/BikesHelmets402.xml  \n",
            "  inflating: helmet_data/annotations/BikesHelmets403.xml  \n",
            "  inflating: helmet_data/annotations/BikesHelmets404.xml  \n",
            "  inflating: helmet_data/annotations/BikesHelmets405.xml  \n",
            "  inflating: helmet_data/annotations/BikesHelmets406.xml  \n",
            "  inflating: helmet_data/annotations/BikesHelmets407.xml  \n",
            "  inflating: helmet_data/annotations/BikesHelmets408.xml  \n",
            "  inflating: helmet_data/annotations/BikesHelmets409.xml  \n",
            "  inflating: helmet_data/annotations/BikesHelmets41.xml  \n",
            "  inflating: helmet_data/annotations/BikesHelmets410.xml  \n",
            "  inflating: helmet_data/annotations/BikesHelmets411.xml  \n",
            "  inflating: helmet_data/annotations/BikesHelmets412.xml  \n",
            "  inflating: helmet_data/annotations/BikesHelmets413.xml  \n",
            "  inflating: helmet_data/annotations/BikesHelmets414.xml  \n",
            "  inflating: helmet_data/annotations/BikesHelmets415.xml  \n",
            "  inflating: helmet_data/annotations/BikesHelmets416.xml  \n",
            "  inflating: helmet_data/annotations/BikesHelmets417.xml  \n",
            "  inflating: helmet_data/annotations/BikesHelmets418.xml  \n",
            "  inflating: helmet_data/annotations/BikesHelmets419.xml  \n",
            "  inflating: helmet_data/annotations/BikesHelmets42.xml  \n",
            "  inflating: helmet_data/annotations/BikesHelmets420.xml  \n",
            "  inflating: helmet_data/annotations/BikesHelmets421.xml  \n",
            "  inflating: helmet_data/annotations/BikesHelmets422.xml  \n",
            "  inflating: helmet_data/annotations/BikesHelmets423.xml  \n",
            "  inflating: helmet_data/annotations/BikesHelmets424.xml  \n",
            "  inflating: helmet_data/annotations/BikesHelmets425.xml  \n",
            "  inflating: helmet_data/annotations/BikesHelmets426.xml  \n",
            "  inflating: helmet_data/annotations/BikesHelmets427.xml  \n",
            "  inflating: helmet_data/annotations/BikesHelmets428.xml  \n",
            "  inflating: helmet_data/annotations/BikesHelmets429.xml  \n",
            "  inflating: helmet_data/annotations/BikesHelmets43.xml  \n",
            "  inflating: helmet_data/annotations/BikesHelmets430.xml  \n",
            "  inflating: helmet_data/annotations/BikesHelmets431.xml  \n",
            "  inflating: helmet_data/annotations/BikesHelmets432.xml  \n",
            "  inflating: helmet_data/annotations/BikesHelmets433.xml  \n",
            "  inflating: helmet_data/annotations/BikesHelmets434.xml  \n",
            "  inflating: helmet_data/annotations/BikesHelmets435.xml  \n",
            "  inflating: helmet_data/annotations/BikesHelmets436.xml  \n",
            "  inflating: helmet_data/annotations/BikesHelmets437.xml  \n",
            "  inflating: helmet_data/annotations/BikesHelmets438.xml  \n",
            "  inflating: helmet_data/annotations/BikesHelmets439.xml  \n",
            "  inflating: helmet_data/annotations/BikesHelmets44.xml  \n",
            "  inflating: helmet_data/annotations/BikesHelmets440.xml  \n",
            "  inflating: helmet_data/annotations/BikesHelmets441.xml  \n",
            "  inflating: helmet_data/annotations/BikesHelmets442.xml  \n",
            "  inflating: helmet_data/annotations/BikesHelmets443.xml  \n",
            "  inflating: helmet_data/annotations/BikesHelmets444.xml  \n",
            "  inflating: helmet_data/annotations/BikesHelmets445.xml  \n",
            "  inflating: helmet_data/annotations/BikesHelmets446.xml  \n",
            "  inflating: helmet_data/annotations/BikesHelmets447.xml  \n",
            "  inflating: helmet_data/annotations/BikesHelmets448.xml  \n",
            "  inflating: helmet_data/annotations/BikesHelmets449.xml  \n",
            "  inflating: helmet_data/annotations/BikesHelmets45.xml  \n",
            "  inflating: helmet_data/annotations/BikesHelmets450.xml  \n",
            "  inflating: helmet_data/annotations/BikesHelmets451.xml  \n",
            "  inflating: helmet_data/annotations/BikesHelmets452.xml  \n",
            "  inflating: helmet_data/annotations/BikesHelmets453.xml  \n",
            "  inflating: helmet_data/annotations/BikesHelmets454.xml  \n",
            "  inflating: helmet_data/annotations/BikesHelmets455.xml  \n",
            "  inflating: helmet_data/annotations/BikesHelmets456.xml  \n",
            "  inflating: helmet_data/annotations/BikesHelmets457.xml  \n",
            "  inflating: helmet_data/annotations/BikesHelmets458.xml  \n",
            "  inflating: helmet_data/annotations/BikesHelmets459.xml  \n",
            "  inflating: helmet_data/annotations/BikesHelmets46.xml  \n",
            "  inflating: helmet_data/annotations/BikesHelmets460.xml  \n",
            "  inflating: helmet_data/annotations/BikesHelmets461.xml  \n",
            "  inflating: helmet_data/annotations/BikesHelmets462.xml  \n",
            "  inflating: helmet_data/annotations/BikesHelmets463.xml  \n",
            "  inflating: helmet_data/annotations/BikesHelmets464.xml  \n",
            "  inflating: helmet_data/annotations/BikesHelmets465.xml  \n",
            "  inflating: helmet_data/annotations/BikesHelmets466.xml  \n",
            "  inflating: helmet_data/annotations/BikesHelmets467.xml  \n",
            "  inflating: helmet_data/annotations/BikesHelmets468.xml  \n",
            "  inflating: helmet_data/annotations/BikesHelmets469.xml  \n",
            "  inflating: helmet_data/annotations/BikesHelmets47.xml  \n",
            "  inflating: helmet_data/annotations/BikesHelmets470.xml  \n",
            "  inflating: helmet_data/annotations/BikesHelmets471.xml  \n",
            "  inflating: helmet_data/annotations/BikesHelmets472.xml  \n",
            "  inflating: helmet_data/annotations/BikesHelmets473.xml  \n",
            "  inflating: helmet_data/annotations/BikesHelmets474.xml  \n",
            "  inflating: helmet_data/annotations/BikesHelmets475.xml  \n",
            "  inflating: helmet_data/annotations/BikesHelmets476.xml  \n",
            "  inflating: helmet_data/annotations/BikesHelmets477.xml  \n",
            "  inflating: helmet_data/annotations/BikesHelmets478.xml  \n",
            "  inflating: helmet_data/annotations/BikesHelmets479.xml  \n",
            "  inflating: helmet_data/annotations/BikesHelmets48.xml  \n",
            "  inflating: helmet_data/annotations/BikesHelmets480.xml  \n",
            "  inflating: helmet_data/annotations/BikesHelmets481.xml  \n",
            "  inflating: helmet_data/annotations/BikesHelmets482.xml  \n",
            "  inflating: helmet_data/annotations/BikesHelmets483.xml  \n",
            "  inflating: helmet_data/annotations/BikesHelmets484.xml  \n",
            "  inflating: helmet_data/annotations/BikesHelmets485.xml  \n",
            "  inflating: helmet_data/annotations/BikesHelmets486.xml  \n",
            "  inflating: helmet_data/annotations/BikesHelmets487.xml  \n",
            "  inflating: helmet_data/annotations/BikesHelmets488.xml  \n",
            "  inflating: helmet_data/annotations/BikesHelmets489.xml  \n",
            "  inflating: helmet_data/annotations/BikesHelmets49.xml  \n",
            "  inflating: helmet_data/annotations/BikesHelmets490.xml  \n",
            "  inflating: helmet_data/annotations/BikesHelmets491.xml  \n",
            "  inflating: helmet_data/annotations/BikesHelmets492.xml  \n",
            "  inflating: helmet_data/annotations/BikesHelmets493.xml  \n",
            "  inflating: helmet_data/annotations/BikesHelmets494.xml  \n",
            "  inflating: helmet_data/annotations/BikesHelmets495.xml  \n",
            "  inflating: helmet_data/annotations/BikesHelmets496.xml  \n",
            "  inflating: helmet_data/annotations/BikesHelmets497.xml  \n",
            "  inflating: helmet_data/annotations/BikesHelmets498.xml  \n",
            "  inflating: helmet_data/annotations/BikesHelmets499.xml  \n",
            "  inflating: helmet_data/annotations/BikesHelmets5.xml  \n",
            "  inflating: helmet_data/annotations/BikesHelmets500.xml  \n",
            "  inflating: helmet_data/annotations/BikesHelmets501.xml  \n",
            "  inflating: helmet_data/annotations/BikesHelmets502.xml  \n",
            "  inflating: helmet_data/annotations/BikesHelmets503.xml  \n",
            "  inflating: helmet_data/annotations/BikesHelmets504.xml  \n",
            "  inflating: helmet_data/annotations/BikesHelmets505.xml  \n",
            "  inflating: helmet_data/annotations/BikesHelmets506.xml  \n",
            "  inflating: helmet_data/annotations/BikesHelmets507.xml  \n",
            "  inflating: helmet_data/annotations/BikesHelmets508.xml  \n",
            "  inflating: helmet_data/annotations/BikesHelmets509.xml  \n",
            "  inflating: helmet_data/annotations/BikesHelmets51.xml  \n",
            "  inflating: helmet_data/annotations/BikesHelmets510.xml  \n",
            "  inflating: helmet_data/annotations/BikesHelmets511.xml  \n",
            "  inflating: helmet_data/annotations/BikesHelmets512.xml  \n",
            "  inflating: helmet_data/annotations/BikesHelmets513.xml  \n",
            "  inflating: helmet_data/annotations/BikesHelmets514.xml  \n",
            "  inflating: helmet_data/annotations/BikesHelmets515.xml  \n",
            "  inflating: helmet_data/annotations/BikesHelmets516.xml  \n",
            "  inflating: helmet_data/annotations/BikesHelmets517.xml  \n",
            "  inflating: helmet_data/annotations/BikesHelmets518.xml  \n",
            "  inflating: helmet_data/annotations/BikesHelmets519.xml  \n",
            "  inflating: helmet_data/annotations/BikesHelmets52.xml  \n",
            "  inflating: helmet_data/annotations/BikesHelmets520.xml  \n",
            "  inflating: helmet_data/annotations/BikesHelmets521.xml  \n",
            "  inflating: helmet_data/annotations/BikesHelmets522.xml  \n",
            "  inflating: helmet_data/annotations/BikesHelmets523.xml  \n",
            "  inflating: helmet_data/annotations/BikesHelmets524.xml  \n",
            "  inflating: helmet_data/annotations/BikesHelmets525.xml  \n",
            "  inflating: helmet_data/annotations/BikesHelmets526.xml  \n",
            "  inflating: helmet_data/annotations/BikesHelmets527.xml  \n",
            "  inflating: helmet_data/annotations/BikesHelmets528.xml  \n",
            "  inflating: helmet_data/annotations/BikesHelmets529.xml  \n",
            "  inflating: helmet_data/annotations/BikesHelmets53.xml  \n",
            "  inflating: helmet_data/annotations/BikesHelmets530.xml  \n",
            "  inflating: helmet_data/annotations/BikesHelmets531.xml  \n",
            "  inflating: helmet_data/annotations/BikesHelmets532.xml  \n",
            "  inflating: helmet_data/annotations/BikesHelmets533.xml  \n",
            "  inflating: helmet_data/annotations/BikesHelmets534.xml  \n",
            "  inflating: helmet_data/annotations/BikesHelmets535.xml  \n",
            "  inflating: helmet_data/annotations/BikesHelmets536.xml  \n",
            "  inflating: helmet_data/annotations/BikesHelmets537.xml  \n",
            "  inflating: helmet_data/annotations/BikesHelmets538.xml  \n",
            "  inflating: helmet_data/annotations/BikesHelmets539.xml  \n",
            "  inflating: helmet_data/annotations/BikesHelmets540.xml  \n",
            "  inflating: helmet_data/annotations/BikesHelmets541.xml  \n",
            "  inflating: helmet_data/annotations/BikesHelmets542.xml  \n",
            "  inflating: helmet_data/annotations/BikesHelmets543.xml  \n",
            "  inflating: helmet_data/annotations/BikesHelmets544.xml  \n",
            "  inflating: helmet_data/annotations/BikesHelmets545.xml  \n",
            "  inflating: helmet_data/annotations/BikesHelmets546.xml  \n",
            "  inflating: helmet_data/annotations/BikesHelmets547.xml  \n",
            "  inflating: helmet_data/annotations/BikesHelmets548.xml  \n",
            "  inflating: helmet_data/annotations/BikesHelmets549.xml  \n",
            "  inflating: helmet_data/annotations/BikesHelmets55.xml  \n",
            "  inflating: helmet_data/annotations/BikesHelmets550.xml  \n",
            "  inflating: helmet_data/annotations/BikesHelmets551.xml  \n",
            "  inflating: helmet_data/annotations/BikesHelmets552.xml  \n",
            "  inflating: helmet_data/annotations/BikesHelmets553.xml  \n",
            "  inflating: helmet_data/annotations/BikesHelmets554.xml  \n",
            "  inflating: helmet_data/annotations/BikesHelmets555.xml  \n",
            "  inflating: helmet_data/annotations/BikesHelmets556.xml  \n",
            "  inflating: helmet_data/annotations/BikesHelmets557.xml  \n",
            "  inflating: helmet_data/annotations/BikesHelmets558.xml  \n",
            "  inflating: helmet_data/annotations/BikesHelmets559.xml  \n",
            "  inflating: helmet_data/annotations/BikesHelmets56.xml  \n",
            "  inflating: helmet_data/annotations/BikesHelmets560.xml  \n",
            "  inflating: helmet_data/annotations/BikesHelmets561.xml  \n",
            "  inflating: helmet_data/annotations/BikesHelmets562.xml  \n",
            "  inflating: helmet_data/annotations/BikesHelmets563.xml  \n",
            "  inflating: helmet_data/annotations/BikesHelmets564.xml  \n",
            "  inflating: helmet_data/annotations/BikesHelmets565.xml  \n",
            "  inflating: helmet_data/annotations/BikesHelmets566.xml  \n",
            "  inflating: helmet_data/annotations/BikesHelmets567.xml  \n",
            "  inflating: helmet_data/annotations/BikesHelmets568.xml  \n",
            "  inflating: helmet_data/annotations/BikesHelmets569.xml  \n",
            "  inflating: helmet_data/annotations/BikesHelmets57.xml  \n",
            "  inflating: helmet_data/annotations/BikesHelmets570.xml  \n",
            "  inflating: helmet_data/annotations/BikesHelmets571.xml  \n",
            "  inflating: helmet_data/annotations/BikesHelmets572.xml  \n",
            "  inflating: helmet_data/annotations/BikesHelmets573.xml  \n",
            "  inflating: helmet_data/annotations/BikesHelmets574.xml  \n",
            "  inflating: helmet_data/annotations/BikesHelmets575.xml  \n",
            "  inflating: helmet_data/annotations/BikesHelmets576.xml  \n",
            "  inflating: helmet_data/annotations/BikesHelmets577.xml  \n",
            "  inflating: helmet_data/annotations/BikesHelmets578.xml  \n",
            "  inflating: helmet_data/annotations/BikesHelmets579.xml  \n",
            "  inflating: helmet_data/annotations/BikesHelmets58.xml  \n",
            "  inflating: helmet_data/annotations/BikesHelmets580.xml  \n",
            "  inflating: helmet_data/annotations/BikesHelmets581.xml  \n",
            "  inflating: helmet_data/annotations/BikesHelmets582.xml  \n",
            "  inflating: helmet_data/annotations/BikesHelmets583.xml  \n",
            "  inflating: helmet_data/annotations/BikesHelmets584.xml  \n",
            "  inflating: helmet_data/annotations/BikesHelmets585.xml  \n",
            "  inflating: helmet_data/annotations/BikesHelmets586.xml  \n",
            "  inflating: helmet_data/annotations/BikesHelmets587.xml  \n",
            "  inflating: helmet_data/annotations/BikesHelmets588.xml  \n",
            "  inflating: helmet_data/annotations/BikesHelmets589.xml  \n",
            "  inflating: helmet_data/annotations/BikesHelmets59.xml  \n",
            "  inflating: helmet_data/annotations/BikesHelmets590.xml  \n",
            "  inflating: helmet_data/annotations/BikesHelmets591.xml  \n",
            "  inflating: helmet_data/annotations/BikesHelmets592.xml  \n",
            "  inflating: helmet_data/annotations/BikesHelmets593.xml  \n",
            "  inflating: helmet_data/annotations/BikesHelmets594.xml  \n",
            "  inflating: helmet_data/annotations/BikesHelmets595.xml  \n",
            "  inflating: helmet_data/annotations/BikesHelmets596.xml  \n",
            "  inflating: helmet_data/annotations/BikesHelmets597.xml  \n",
            "  inflating: helmet_data/annotations/BikesHelmets598.xml  \n",
            "  inflating: helmet_data/annotations/BikesHelmets599.xml  \n",
            "  inflating: helmet_data/annotations/BikesHelmets6.xml  \n",
            "  inflating: helmet_data/annotations/BikesHelmets60.xml  \n",
            "  inflating: helmet_data/annotations/BikesHelmets600.xml  \n",
            "  inflating: helmet_data/annotations/BikesHelmets601.xml  \n",
            "  inflating: helmet_data/annotations/BikesHelmets602.xml  \n",
            "  inflating: helmet_data/annotations/BikesHelmets603.xml  \n",
            "  inflating: helmet_data/annotations/BikesHelmets604.xml  \n",
            "  inflating: helmet_data/annotations/BikesHelmets605.xml  \n",
            "  inflating: helmet_data/annotations/BikesHelmets606.xml  \n",
            "  inflating: helmet_data/annotations/BikesHelmets607.xml  \n",
            "  inflating: helmet_data/annotations/BikesHelmets608.xml  \n",
            "  inflating: helmet_data/annotations/BikesHelmets609.xml  \n",
            "  inflating: helmet_data/annotations/BikesHelmets61.xml  \n",
            "  inflating: helmet_data/annotations/BikesHelmets610.xml  \n",
            "  inflating: helmet_data/annotations/BikesHelmets611.xml  \n",
            "  inflating: helmet_data/annotations/BikesHelmets612.xml  \n",
            "  inflating: helmet_data/annotations/BikesHelmets613.xml  \n",
            "  inflating: helmet_data/annotations/BikesHelmets614.xml  \n",
            "  inflating: helmet_data/annotations/BikesHelmets615.xml  \n",
            "  inflating: helmet_data/annotations/BikesHelmets616.xml  \n",
            "  inflating: helmet_data/annotations/BikesHelmets617.xml  \n",
            "  inflating: helmet_data/annotations/BikesHelmets618.xml  \n",
            "  inflating: helmet_data/annotations/BikesHelmets619.xml  \n",
            "  inflating: helmet_data/annotations/BikesHelmets62.xml  \n",
            "  inflating: helmet_data/annotations/BikesHelmets620.xml  \n",
            "  inflating: helmet_data/annotations/BikesHelmets621.xml  \n",
            "  inflating: helmet_data/annotations/BikesHelmets622.xml  \n",
            "  inflating: helmet_data/annotations/BikesHelmets623.xml  \n",
            "  inflating: helmet_data/annotations/BikesHelmets624.xml  \n",
            "  inflating: helmet_data/annotations/BikesHelmets625.xml  \n",
            "  inflating: helmet_data/annotations/BikesHelmets626.xml  \n",
            "  inflating: helmet_data/annotations/BikesHelmets627.xml  \n",
            "  inflating: helmet_data/annotations/BikesHelmets628.xml  \n",
            "  inflating: helmet_data/annotations/BikesHelmets629.xml  \n",
            "  inflating: helmet_data/annotations/BikesHelmets63.xml  \n",
            "  inflating: helmet_data/annotations/BikesHelmets630.xml  \n",
            "  inflating: helmet_data/annotations/BikesHelmets631.xml  \n",
            "  inflating: helmet_data/annotations/BikesHelmets632.xml  \n",
            "  inflating: helmet_data/annotations/BikesHelmets633.xml  \n",
            "  inflating: helmet_data/annotations/BikesHelmets634.xml  \n",
            "  inflating: helmet_data/annotations/BikesHelmets635.xml  \n",
            "  inflating: helmet_data/annotations/BikesHelmets636.xml  \n",
            "  inflating: helmet_data/annotations/BikesHelmets637.xml  \n",
            "  inflating: helmet_data/annotations/BikesHelmets638.xml  \n",
            "  inflating: helmet_data/annotations/BikesHelmets639.xml  \n",
            "  inflating: helmet_data/annotations/BikesHelmets64.xml  \n",
            "  inflating: helmet_data/annotations/BikesHelmets640.xml  \n",
            "  inflating: helmet_data/annotations/BikesHelmets641.xml  \n",
            "  inflating: helmet_data/annotations/BikesHelmets642.xml  \n",
            "  inflating: helmet_data/annotations/BikesHelmets643.xml  \n",
            "  inflating: helmet_data/annotations/BikesHelmets644.xml  \n",
            "  inflating: helmet_data/annotations/BikesHelmets645.xml  \n",
            "  inflating: helmet_data/annotations/BikesHelmets646.xml  \n",
            "  inflating: helmet_data/annotations/BikesHelmets647.xml  \n",
            "  inflating: helmet_data/annotations/BikesHelmets648.xml  \n",
            "  inflating: helmet_data/annotations/BikesHelmets649.xml  \n",
            "  inflating: helmet_data/annotations/BikesHelmets65.xml  \n",
            "  inflating: helmet_data/annotations/BikesHelmets650.xml  \n",
            "  inflating: helmet_data/annotations/BikesHelmets651.xml  \n",
            "  inflating: helmet_data/annotations/BikesHelmets652.xml  \n",
            "  inflating: helmet_data/annotations/BikesHelmets653.xml  \n",
            "  inflating: helmet_data/annotations/BikesHelmets654.xml  \n",
            "  inflating: helmet_data/annotations/BikesHelmets655.xml  \n",
            "  inflating: helmet_data/annotations/BikesHelmets656.xml  \n",
            "  inflating: helmet_data/annotations/BikesHelmets657.xml  \n",
            "  inflating: helmet_data/annotations/BikesHelmets658.xml  \n",
            "  inflating: helmet_data/annotations/BikesHelmets659.xml  \n",
            "  inflating: helmet_data/annotations/BikesHelmets66.xml  \n",
            "  inflating: helmet_data/annotations/BikesHelmets660.xml  \n",
            "  inflating: helmet_data/annotations/BikesHelmets661.xml  \n",
            "  inflating: helmet_data/annotations/BikesHelmets662.xml  \n",
            "  inflating: helmet_data/annotations/BikesHelmets663.xml  \n",
            "  inflating: helmet_data/annotations/BikesHelmets664.xml  \n",
            "  inflating: helmet_data/annotations/BikesHelmets665.xml  \n",
            "  inflating: helmet_data/annotations/BikesHelmets666.xml  \n",
            "  inflating: helmet_data/annotations/BikesHelmets667.xml  \n",
            "  inflating: helmet_data/annotations/BikesHelmets668.xml  \n",
            "  inflating: helmet_data/annotations/BikesHelmets669.xml  \n",
            "  inflating: helmet_data/annotations/BikesHelmets67.xml  \n",
            "  inflating: helmet_data/annotations/BikesHelmets670.xml  \n",
            "  inflating: helmet_data/annotations/BikesHelmets671.xml  \n",
            "  inflating: helmet_data/annotations/BikesHelmets672.xml  \n",
            "  inflating: helmet_data/annotations/BikesHelmets673.xml  \n",
            "  inflating: helmet_data/annotations/BikesHelmets674.xml  \n",
            "  inflating: helmet_data/annotations/BikesHelmets675.xml  \n",
            "  inflating: helmet_data/annotations/BikesHelmets676.xml  \n",
            "  inflating: helmet_data/annotations/BikesHelmets677.xml  \n",
            "  inflating: helmet_data/annotations/BikesHelmets678.xml  \n",
            "  inflating: helmet_data/annotations/BikesHelmets679.xml  \n",
            "  inflating: helmet_data/annotations/BikesHelmets68.xml  \n",
            "  inflating: helmet_data/annotations/BikesHelmets680.xml  \n",
            "  inflating: helmet_data/annotations/BikesHelmets681.xml  \n",
            "  inflating: helmet_data/annotations/BikesHelmets682.xml  \n",
            "  inflating: helmet_data/annotations/BikesHelmets683.xml  \n",
            "  inflating: helmet_data/annotations/BikesHelmets684.xml  \n",
            "  inflating: helmet_data/annotations/BikesHelmets685.xml  \n",
            "  inflating: helmet_data/annotations/BikesHelmets686.xml  \n",
            "  inflating: helmet_data/annotations/BikesHelmets687.xml  \n",
            "  inflating: helmet_data/annotations/BikesHelmets688.xml  \n",
            "  inflating: helmet_data/annotations/BikesHelmets689.xml  \n",
            "  inflating: helmet_data/annotations/BikesHelmets69.xml  \n",
            "  inflating: helmet_data/annotations/BikesHelmets690.xml  \n",
            "  inflating: helmet_data/annotations/BikesHelmets691.xml  \n",
            "  inflating: helmet_data/annotations/BikesHelmets692.xml  \n",
            "  inflating: helmet_data/annotations/BikesHelmets693.xml  \n",
            "  inflating: helmet_data/annotations/BikesHelmets694.xml  \n",
            "  inflating: helmet_data/annotations/BikesHelmets695.xml  \n",
            "  inflating: helmet_data/annotations/BikesHelmets696.xml  \n",
            "  inflating: helmet_data/annotations/BikesHelmets697.xml  \n",
            "  inflating: helmet_data/annotations/BikesHelmets698.xml  \n",
            "  inflating: helmet_data/annotations/BikesHelmets699.xml  \n",
            "  inflating: helmet_data/annotations/BikesHelmets7.xml  \n",
            "  inflating: helmet_data/annotations/BikesHelmets70.xml  \n",
            "  inflating: helmet_data/annotations/BikesHelmets700.xml  \n",
            "  inflating: helmet_data/annotations/BikesHelmets701.xml  \n",
            "  inflating: helmet_data/annotations/BikesHelmets702.xml  \n",
            "  inflating: helmet_data/annotations/BikesHelmets703.xml  \n",
            "  inflating: helmet_data/annotations/BikesHelmets704.xml  \n",
            "  inflating: helmet_data/annotations/BikesHelmets705.xml  \n",
            "  inflating: helmet_data/annotations/BikesHelmets706.xml  \n",
            "  inflating: helmet_data/annotations/BikesHelmets707.xml  \n",
            "  inflating: helmet_data/annotations/BikesHelmets708.xml  \n",
            "  inflating: helmet_data/annotations/BikesHelmets709.xml  \n",
            "  inflating: helmet_data/annotations/BikesHelmets71.xml  \n",
            "  inflating: helmet_data/annotations/BikesHelmets710.xml  \n",
            "  inflating: helmet_data/annotations/BikesHelmets711.xml  \n",
            "  inflating: helmet_data/annotations/BikesHelmets712.xml  \n",
            "  inflating: helmet_data/annotations/BikesHelmets713.xml  \n",
            "  inflating: helmet_data/annotations/BikesHelmets714.xml  \n",
            "  inflating: helmet_data/annotations/BikesHelmets715.xml  \n",
            "  inflating: helmet_data/annotations/BikesHelmets716.xml  \n",
            "  inflating: helmet_data/annotations/BikesHelmets717.xml  \n",
            "  inflating: helmet_data/annotations/BikesHelmets718.xml  \n",
            "  inflating: helmet_data/annotations/BikesHelmets719.xml  \n",
            "  inflating: helmet_data/annotations/BikesHelmets72.xml  \n",
            "  inflating: helmet_data/annotations/BikesHelmets720.xml  \n",
            "  inflating: helmet_data/annotations/BikesHelmets721.xml  \n",
            "  inflating: helmet_data/annotations/BikesHelmets722.xml  \n",
            "  inflating: helmet_data/annotations/BikesHelmets723.xml  \n",
            "  inflating: helmet_data/annotations/BikesHelmets724.xml  \n",
            "  inflating: helmet_data/annotations/BikesHelmets725.xml  \n",
            "  inflating: helmet_data/annotations/BikesHelmets726.xml  \n",
            "  inflating: helmet_data/annotations/BikesHelmets727.xml  \n",
            "  inflating: helmet_data/annotations/BikesHelmets728.xml  \n",
            "  inflating: helmet_data/annotations/BikesHelmets729.xml  \n",
            "  inflating: helmet_data/annotations/BikesHelmets73.xml  \n",
            "  inflating: helmet_data/annotations/BikesHelmets730.xml  \n",
            "  inflating: helmet_data/annotations/BikesHelmets731.xml  \n",
            "  inflating: helmet_data/annotations/BikesHelmets732.xml  \n",
            "  inflating: helmet_data/annotations/BikesHelmets733.xml  \n",
            "  inflating: helmet_data/annotations/BikesHelmets734.xml  \n",
            "  inflating: helmet_data/annotations/BikesHelmets735.xml  \n",
            "  inflating: helmet_data/annotations/BikesHelmets736.xml  \n",
            "  inflating: helmet_data/annotations/BikesHelmets737.xml  \n",
            "  inflating: helmet_data/annotations/BikesHelmets738.xml  \n",
            "  inflating: helmet_data/annotations/BikesHelmets739.xml  \n",
            "  inflating: helmet_data/annotations/BikesHelmets74.xml  \n",
            "  inflating: helmet_data/annotations/BikesHelmets740.xml  \n",
            "  inflating: helmet_data/annotations/BikesHelmets741.xml  \n",
            "  inflating: helmet_data/annotations/BikesHelmets742.xml  \n",
            "  inflating: helmet_data/annotations/BikesHelmets743.xml  \n",
            "  inflating: helmet_data/annotations/BikesHelmets744.xml  \n",
            "  inflating: helmet_data/annotations/BikesHelmets745.xml  \n",
            "  inflating: helmet_data/annotations/BikesHelmets746.xml  \n",
            "  inflating: helmet_data/annotations/BikesHelmets747.xml  \n",
            "  inflating: helmet_data/annotations/BikesHelmets748.xml  \n",
            "  inflating: helmet_data/annotations/BikesHelmets749.xml  \n",
            "  inflating: helmet_data/annotations/BikesHelmets75.xml  \n",
            "  inflating: helmet_data/annotations/BikesHelmets750.xml  \n",
            "  inflating: helmet_data/annotations/BikesHelmets751.xml  \n",
            "  inflating: helmet_data/annotations/BikesHelmets752.xml  \n",
            "  inflating: helmet_data/annotations/BikesHelmets753.xml  \n",
            "  inflating: helmet_data/annotations/BikesHelmets754.xml  \n",
            "  inflating: helmet_data/annotations/BikesHelmets755.xml  \n",
            "  inflating: helmet_data/annotations/BikesHelmets756.xml  \n",
            "  inflating: helmet_data/annotations/BikesHelmets757.xml  \n",
            "  inflating: helmet_data/annotations/BikesHelmets758.xml  \n",
            "  inflating: helmet_data/annotations/BikesHelmets759.xml  \n",
            "  inflating: helmet_data/annotations/BikesHelmets76.xml  \n",
            "  inflating: helmet_data/annotations/BikesHelmets760.xml  \n",
            "  inflating: helmet_data/annotations/BikesHelmets761.xml  \n",
            "  inflating: helmet_data/annotations/BikesHelmets762.xml  \n",
            "  inflating: helmet_data/annotations/BikesHelmets763.xml  \n",
            "  inflating: helmet_data/annotations/BikesHelmets764.xml  \n",
            "  inflating: helmet_data/annotations/BikesHelmets765.xml  \n",
            "  inflating: helmet_data/annotations/BikesHelmets77.xml  \n",
            "  inflating: helmet_data/annotations/BikesHelmets78.xml  \n",
            "  inflating: helmet_data/annotations/BikesHelmets79.xml  \n",
            "  inflating: helmet_data/annotations/BikesHelmets8.xml  \n",
            "  inflating: helmet_data/annotations/BikesHelmets80.xml  \n",
            "  inflating: helmet_data/annotations/BikesHelmets81.xml  \n",
            "  inflating: helmet_data/annotations/BikesHelmets82.xml  \n",
            "  inflating: helmet_data/annotations/BikesHelmets83.xml  \n",
            "  inflating: helmet_data/annotations/BikesHelmets84.xml  \n",
            "  inflating: helmet_data/annotations/BikesHelmets85.xml  \n",
            "  inflating: helmet_data/annotations/BikesHelmets86.xml  \n",
            "  inflating: helmet_data/annotations/BikesHelmets87.xml  \n",
            "  inflating: helmet_data/annotations/BikesHelmets88.xml  \n",
            "  inflating: helmet_data/annotations/BikesHelmets89.xml  \n",
            "  inflating: helmet_data/annotations/BikesHelmets9.xml  \n",
            "  inflating: helmet_data/annotations/BikesHelmets90.xml  \n",
            "  inflating: helmet_data/annotations/BikesHelmets91.xml  \n",
            "  inflating: helmet_data/annotations/BikesHelmets92.xml  \n",
            "  inflating: helmet_data/annotations/BikesHelmets93.xml  \n",
            "  inflating: helmet_data/annotations/BikesHelmets94.xml  \n",
            "  inflating: helmet_data/annotations/BikesHelmets95.xml  \n",
            "  inflating: helmet_data/annotations/BikesHelmets96.xml  \n",
            "  inflating: helmet_data/annotations/BikesHelmets97.xml  \n",
            "  inflating: helmet_data/annotations/BikesHelmets98.xml  \n",
            "  inflating: helmet_data/annotations/BikesHelmets99.xml  \n",
            "  inflating: helmet_data/images/BikesHelmets0.png  \n",
            "  inflating: helmet_data/images/BikesHelmets1.png  \n",
            "  inflating: helmet_data/images/BikesHelmets10.png  \n",
            "  inflating: helmet_data/images/BikesHelmets100.png  \n",
            "  inflating: helmet_data/images/BikesHelmets101.png  \n",
            "  inflating: helmet_data/images/BikesHelmets102.png  \n",
            "  inflating: helmet_data/images/BikesHelmets103.png  \n",
            "  inflating: helmet_data/images/BikesHelmets104.png  \n",
            "  inflating: helmet_data/images/BikesHelmets105.png  \n",
            "  inflating: helmet_data/images/BikesHelmets106.png  \n",
            "  inflating: helmet_data/images/BikesHelmets107.png  \n",
            "  inflating: helmet_data/images/BikesHelmets108.png  \n",
            "  inflating: helmet_data/images/BikesHelmets109.png  \n",
            "  inflating: helmet_data/images/BikesHelmets11.png  \n",
            "  inflating: helmet_data/images/BikesHelmets110.png  \n",
            "  inflating: helmet_data/images/BikesHelmets111.png  \n",
            "  inflating: helmet_data/images/BikesHelmets112.png  \n",
            "  inflating: helmet_data/images/BikesHelmets113.png  \n",
            "  inflating: helmet_data/images/BikesHelmets114.png  \n",
            "  inflating: helmet_data/images/BikesHelmets115.png  \n",
            "  inflating: helmet_data/images/BikesHelmets116.png  \n",
            "  inflating: helmet_data/images/BikesHelmets117.png  \n",
            "  inflating: helmet_data/images/BikesHelmets118.png  \n",
            "  inflating: helmet_data/images/BikesHelmets119.png  \n",
            "  inflating: helmet_data/images/BikesHelmets12.png  \n",
            "  inflating: helmet_data/images/BikesHelmets120.png  \n",
            "  inflating: helmet_data/images/BikesHelmets121.png  \n",
            "  inflating: helmet_data/images/BikesHelmets122.png  \n",
            "  inflating: helmet_data/images/BikesHelmets123.png  \n",
            "  inflating: helmet_data/images/BikesHelmets124.png  \n",
            "  inflating: helmet_data/images/BikesHelmets125.png  \n",
            "  inflating: helmet_data/images/BikesHelmets126.png  \n",
            "  inflating: helmet_data/images/BikesHelmets127.png  \n",
            "  inflating: helmet_data/images/BikesHelmets128.png  \n",
            "  inflating: helmet_data/images/BikesHelmets129.png  \n",
            "  inflating: helmet_data/images/BikesHelmets13.png  \n",
            "  inflating: helmet_data/images/BikesHelmets130.png  \n",
            "  inflating: helmet_data/images/BikesHelmets131.png  \n",
            "  inflating: helmet_data/images/BikesHelmets132.png  \n",
            "  inflating: helmet_data/images/BikesHelmets133.png  \n",
            "  inflating: helmet_data/images/BikesHelmets134.png  \n",
            "  inflating: helmet_data/images/BikesHelmets135.png  \n",
            "  inflating: helmet_data/images/BikesHelmets136.png  \n",
            "  inflating: helmet_data/images/BikesHelmets137.png  \n",
            "  inflating: helmet_data/images/BikesHelmets138.png  \n",
            "  inflating: helmet_data/images/BikesHelmets139.png  \n",
            "  inflating: helmet_data/images/BikesHelmets14.png  \n",
            "  inflating: helmet_data/images/BikesHelmets140.png  \n",
            "  inflating: helmet_data/images/BikesHelmets141.png  \n",
            "  inflating: helmet_data/images/BikesHelmets142.png  \n",
            "  inflating: helmet_data/images/BikesHelmets143.png  \n",
            "  inflating: helmet_data/images/BikesHelmets144.png  \n",
            "  inflating: helmet_data/images/BikesHelmets145.png  \n",
            "  inflating: helmet_data/images/BikesHelmets146.png  \n",
            "  inflating: helmet_data/images/BikesHelmets147.png  \n",
            "  inflating: helmet_data/images/BikesHelmets148.png  \n",
            "  inflating: helmet_data/images/BikesHelmets149.png  \n",
            "  inflating: helmet_data/images/BikesHelmets15.png  \n",
            "  inflating: helmet_data/images/BikesHelmets150.png  \n",
            "  inflating: helmet_data/images/BikesHelmets151.png  \n",
            "  inflating: helmet_data/images/BikesHelmets152.png  \n",
            "  inflating: helmet_data/images/BikesHelmets153.png  \n",
            "  inflating: helmet_data/images/BikesHelmets154.png  \n",
            "  inflating: helmet_data/images/BikesHelmets155.png  \n",
            "  inflating: helmet_data/images/BikesHelmets156.png  \n",
            "  inflating: helmet_data/images/BikesHelmets157.png  \n",
            "  inflating: helmet_data/images/BikesHelmets158.png  \n",
            "  inflating: helmet_data/images/BikesHelmets159.png  \n",
            "  inflating: helmet_data/images/BikesHelmets16.png  \n",
            "  inflating: helmet_data/images/BikesHelmets160.png  \n",
            "  inflating: helmet_data/images/BikesHelmets161.png  \n",
            "  inflating: helmet_data/images/BikesHelmets162.png  \n",
            "  inflating: helmet_data/images/BikesHelmets163.png  \n",
            "  inflating: helmet_data/images/BikesHelmets164.png  \n",
            "  inflating: helmet_data/images/BikesHelmets165.png  \n",
            "  inflating: helmet_data/images/BikesHelmets166.png  \n",
            "  inflating: helmet_data/images/BikesHelmets167.png  \n",
            "  inflating: helmet_data/images/BikesHelmets168.png  \n",
            "  inflating: helmet_data/images/BikesHelmets169.png  \n",
            "  inflating: helmet_data/images/BikesHelmets17.png  \n",
            "  inflating: helmet_data/images/BikesHelmets170.png  \n",
            "  inflating: helmet_data/images/BikesHelmets171.png  \n",
            "  inflating: helmet_data/images/BikesHelmets172.png  \n",
            "  inflating: helmet_data/images/BikesHelmets173.png  \n",
            "  inflating: helmet_data/images/BikesHelmets174.png  \n",
            "  inflating: helmet_data/images/BikesHelmets175.png  \n",
            "  inflating: helmet_data/images/BikesHelmets176.png  \n",
            "  inflating: helmet_data/images/BikesHelmets177.png  \n",
            "  inflating: helmet_data/images/BikesHelmets178.png  \n",
            "  inflating: helmet_data/images/BikesHelmets179.png  \n",
            "  inflating: helmet_data/images/BikesHelmets18.png  \n",
            "  inflating: helmet_data/images/BikesHelmets180.png  \n",
            "  inflating: helmet_data/images/BikesHelmets181.png  \n",
            "  inflating: helmet_data/images/BikesHelmets182.png  \n",
            "  inflating: helmet_data/images/BikesHelmets183.png  \n",
            "  inflating: helmet_data/images/BikesHelmets184.png  \n",
            "  inflating: helmet_data/images/BikesHelmets185.png  \n",
            "  inflating: helmet_data/images/BikesHelmets186.png  \n",
            "  inflating: helmet_data/images/BikesHelmets187.png  \n",
            "  inflating: helmet_data/images/BikesHelmets188.png  \n",
            "  inflating: helmet_data/images/BikesHelmets189.png  \n",
            "  inflating: helmet_data/images/BikesHelmets19.png  \n",
            "  inflating: helmet_data/images/BikesHelmets190.png  \n",
            "  inflating: helmet_data/images/BikesHelmets191.png  \n",
            "  inflating: helmet_data/images/BikesHelmets192.png  \n",
            "  inflating: helmet_data/images/BikesHelmets193.png  \n",
            "  inflating: helmet_data/images/BikesHelmets194.png  \n",
            "  inflating: helmet_data/images/BikesHelmets195.png  \n",
            "  inflating: helmet_data/images/BikesHelmets196.png  \n",
            "  inflating: helmet_data/images/BikesHelmets197.png  \n",
            "  inflating: helmet_data/images/BikesHelmets198.png  \n",
            "  inflating: helmet_data/images/BikesHelmets199.png  \n",
            "  inflating: helmet_data/images/BikesHelmets2.png  \n",
            "  inflating: helmet_data/images/BikesHelmets20.png  \n",
            "  inflating: helmet_data/images/BikesHelmets200.png  \n",
            "  inflating: helmet_data/images/BikesHelmets201.png  \n",
            "  inflating: helmet_data/images/BikesHelmets202.png  \n",
            "  inflating: helmet_data/images/BikesHelmets203.png  \n",
            "  inflating: helmet_data/images/BikesHelmets204.png  \n",
            "  inflating: helmet_data/images/BikesHelmets205.png  \n",
            "  inflating: helmet_data/images/BikesHelmets206.png  \n",
            "  inflating: helmet_data/images/BikesHelmets207.png  \n",
            "  inflating: helmet_data/images/BikesHelmets208.png  \n",
            "  inflating: helmet_data/images/BikesHelmets209.png  \n",
            "  inflating: helmet_data/images/BikesHelmets21.png  \n",
            "  inflating: helmet_data/images/BikesHelmets210.png  \n",
            "  inflating: helmet_data/images/BikesHelmets211.png  \n",
            "  inflating: helmet_data/images/BikesHelmets212.png  \n",
            "  inflating: helmet_data/images/BikesHelmets213.png  \n",
            "  inflating: helmet_data/images/BikesHelmets214.png  \n",
            "  inflating: helmet_data/images/BikesHelmets215.png  \n",
            "  inflating: helmet_data/images/BikesHelmets216.png  \n",
            "  inflating: helmet_data/images/BikesHelmets217.png  \n",
            "  inflating: helmet_data/images/BikesHelmets218.png  \n",
            "  inflating: helmet_data/images/BikesHelmets219.png  \n",
            "  inflating: helmet_data/images/BikesHelmets22.png  \n",
            "  inflating: helmet_data/images/BikesHelmets220.png  \n",
            "  inflating: helmet_data/images/BikesHelmets221.png  \n",
            "  inflating: helmet_data/images/BikesHelmets222.png  \n",
            "  inflating: helmet_data/images/BikesHelmets223.png  \n",
            "  inflating: helmet_data/images/BikesHelmets224.png  \n",
            "  inflating: helmet_data/images/BikesHelmets225.png  \n",
            "  inflating: helmet_data/images/BikesHelmets226.png  \n",
            "  inflating: helmet_data/images/BikesHelmets227.png  \n",
            "  inflating: helmet_data/images/BikesHelmets228.png  \n",
            "  inflating: helmet_data/images/BikesHelmets229.png  \n",
            "  inflating: helmet_data/images/BikesHelmets23.png  \n",
            "  inflating: helmet_data/images/BikesHelmets230.png  \n",
            "  inflating: helmet_data/images/BikesHelmets231.png  \n",
            "  inflating: helmet_data/images/BikesHelmets232.png  \n",
            "  inflating: helmet_data/images/BikesHelmets233.png  \n",
            "  inflating: helmet_data/images/BikesHelmets234.png  \n",
            "  inflating: helmet_data/images/BikesHelmets235.png  \n",
            "  inflating: helmet_data/images/BikesHelmets236.png  \n",
            "  inflating: helmet_data/images/BikesHelmets237.png  \n",
            "  inflating: helmet_data/images/BikesHelmets238.png  \n",
            "  inflating: helmet_data/images/BikesHelmets239.png  \n",
            "  inflating: helmet_data/images/BikesHelmets24.png  \n",
            "  inflating: helmet_data/images/BikesHelmets240.png  \n",
            "  inflating: helmet_data/images/BikesHelmets241.png  \n",
            "  inflating: helmet_data/images/BikesHelmets242.png  \n",
            "  inflating: helmet_data/images/BikesHelmets243.png  \n",
            "  inflating: helmet_data/images/BikesHelmets244.png  \n",
            "  inflating: helmet_data/images/BikesHelmets245.png  \n",
            "  inflating: helmet_data/images/BikesHelmets246.png  \n",
            "  inflating: helmet_data/images/BikesHelmets247.png  \n",
            "  inflating: helmet_data/images/BikesHelmets248.png  \n",
            "  inflating: helmet_data/images/BikesHelmets249.png  \n",
            "  inflating: helmet_data/images/BikesHelmets25.png  \n",
            "  inflating: helmet_data/images/BikesHelmets250.png  \n",
            "  inflating: helmet_data/images/BikesHelmets251.png  \n",
            "  inflating: helmet_data/images/BikesHelmets252.png  \n",
            "  inflating: helmet_data/images/BikesHelmets253.png  \n",
            "  inflating: helmet_data/images/BikesHelmets254.png  \n",
            "  inflating: helmet_data/images/BikesHelmets255.png  \n",
            "  inflating: helmet_data/images/BikesHelmets256.png  \n",
            "  inflating: helmet_data/images/BikesHelmets257.png  \n",
            "  inflating: helmet_data/images/BikesHelmets258.png  \n",
            "  inflating: helmet_data/images/BikesHelmets259.png  \n",
            "  inflating: helmet_data/images/BikesHelmets26.png  \n",
            "  inflating: helmet_data/images/BikesHelmets260.png  \n",
            "  inflating: helmet_data/images/BikesHelmets261.png  \n",
            "  inflating: helmet_data/images/BikesHelmets262.png  \n",
            "  inflating: helmet_data/images/BikesHelmets263.png  \n",
            "  inflating: helmet_data/images/BikesHelmets264.png  \n",
            "  inflating: helmet_data/images/BikesHelmets265.png  \n",
            "  inflating: helmet_data/images/BikesHelmets266.png  \n",
            "  inflating: helmet_data/images/BikesHelmets267.png  \n",
            "  inflating: helmet_data/images/BikesHelmets268.png  \n",
            "  inflating: helmet_data/images/BikesHelmets269.png  \n",
            "  inflating: helmet_data/images/BikesHelmets27.png  \n",
            "  inflating: helmet_data/images/BikesHelmets270.png  \n",
            "  inflating: helmet_data/images/BikesHelmets271.png  \n",
            "  inflating: helmet_data/images/BikesHelmets272.png  \n",
            "  inflating: helmet_data/images/BikesHelmets273.png  \n",
            "  inflating: helmet_data/images/BikesHelmets274.png  \n",
            "  inflating: helmet_data/images/BikesHelmets275.png  \n",
            "  inflating: helmet_data/images/BikesHelmets276.png  \n",
            "  inflating: helmet_data/images/BikesHelmets277.png  \n",
            "  inflating: helmet_data/images/BikesHelmets278.png  \n",
            "  inflating: helmet_data/images/BikesHelmets279.png  \n",
            "  inflating: helmet_data/images/BikesHelmets28.png  \n",
            "  inflating: helmet_data/images/BikesHelmets280.png  \n",
            "  inflating: helmet_data/images/BikesHelmets281.png  \n",
            "  inflating: helmet_data/images/BikesHelmets282.png  \n",
            "  inflating: helmet_data/images/BikesHelmets283.png  \n",
            "  inflating: helmet_data/images/BikesHelmets284.png  \n",
            "  inflating: helmet_data/images/BikesHelmets285.png  \n",
            "  inflating: helmet_data/images/BikesHelmets286.png  \n",
            "  inflating: helmet_data/images/BikesHelmets287.png  \n",
            "  inflating: helmet_data/images/BikesHelmets288.png  \n",
            "  inflating: helmet_data/images/BikesHelmets289.png  \n",
            "  inflating: helmet_data/images/BikesHelmets29.png  \n",
            "  inflating: helmet_data/images/BikesHelmets290.png  \n",
            "  inflating: helmet_data/images/BikesHelmets291.png  \n",
            "  inflating: helmet_data/images/BikesHelmets292.png  \n",
            "  inflating: helmet_data/images/BikesHelmets293.png  \n",
            "  inflating: helmet_data/images/BikesHelmets294.png  \n",
            "  inflating: helmet_data/images/BikesHelmets295.png  \n",
            "  inflating: helmet_data/images/BikesHelmets296.png  \n",
            "  inflating: helmet_data/images/BikesHelmets297.png  \n",
            "  inflating: helmet_data/images/BikesHelmets298.png  \n",
            "  inflating: helmet_data/images/BikesHelmets299.png  \n",
            "  inflating: helmet_data/images/BikesHelmets3.png  \n",
            "  inflating: helmet_data/images/BikesHelmets30.png  \n",
            "  inflating: helmet_data/images/BikesHelmets300.png  \n",
            "  inflating: helmet_data/images/BikesHelmets301.png  \n",
            "  inflating: helmet_data/images/BikesHelmets302.png  \n",
            "  inflating: helmet_data/images/BikesHelmets303.png  \n",
            "  inflating: helmet_data/images/BikesHelmets304.png  \n",
            "  inflating: helmet_data/images/BikesHelmets305.png  \n",
            "  inflating: helmet_data/images/BikesHelmets306.png  \n",
            "  inflating: helmet_data/images/BikesHelmets307.png  \n",
            "  inflating: helmet_data/images/BikesHelmets308.png  \n",
            "  inflating: helmet_data/images/BikesHelmets309.png  \n",
            "  inflating: helmet_data/images/BikesHelmets31.png  \n",
            "  inflating: helmet_data/images/BikesHelmets310.png  \n",
            "  inflating: helmet_data/images/BikesHelmets311.png  \n",
            "  inflating: helmet_data/images/BikesHelmets312.png  \n",
            "  inflating: helmet_data/images/BikesHelmets313.png  \n",
            "  inflating: helmet_data/images/BikesHelmets314.png  \n",
            "  inflating: helmet_data/images/BikesHelmets315.png  \n",
            "  inflating: helmet_data/images/BikesHelmets316.png  \n",
            "  inflating: helmet_data/images/BikesHelmets317.png  \n",
            "  inflating: helmet_data/images/BikesHelmets318.png  \n",
            "  inflating: helmet_data/images/BikesHelmets319.png  \n",
            "  inflating: helmet_data/images/BikesHelmets32.png  \n",
            "  inflating: helmet_data/images/BikesHelmets320.png  \n",
            "  inflating: helmet_data/images/BikesHelmets321.png  \n",
            "  inflating: helmet_data/images/BikesHelmets322.png  \n",
            "  inflating: helmet_data/images/BikesHelmets323.png  \n",
            "  inflating: helmet_data/images/BikesHelmets324.png  \n",
            "  inflating: helmet_data/images/BikesHelmets325.png  \n",
            "  inflating: helmet_data/images/BikesHelmets326.png  \n",
            "  inflating: helmet_data/images/BikesHelmets327.png  \n",
            "  inflating: helmet_data/images/BikesHelmets328.png  \n",
            "  inflating: helmet_data/images/BikesHelmets329.png  \n",
            "  inflating: helmet_data/images/BikesHelmets33.png  \n",
            "  inflating: helmet_data/images/BikesHelmets330.png  \n",
            "  inflating: helmet_data/images/BikesHelmets331.png  \n",
            "  inflating: helmet_data/images/BikesHelmets332.png  \n",
            "  inflating: helmet_data/images/BikesHelmets333.png  \n",
            "  inflating: helmet_data/images/BikesHelmets334.png  \n",
            "  inflating: helmet_data/images/BikesHelmets335.png  \n",
            "  inflating: helmet_data/images/BikesHelmets336.png  \n",
            "  inflating: helmet_data/images/BikesHelmets337.png  \n",
            "  inflating: helmet_data/images/BikesHelmets338.png  \n",
            "  inflating: helmet_data/images/BikesHelmets339.png  \n",
            "  inflating: helmet_data/images/BikesHelmets34.png  \n",
            "  inflating: helmet_data/images/BikesHelmets340.png  \n",
            "  inflating: helmet_data/images/BikesHelmets341.png  \n",
            "  inflating: helmet_data/images/BikesHelmets342.png  \n",
            "  inflating: helmet_data/images/BikesHelmets343.png  \n",
            "  inflating: helmet_data/images/BikesHelmets344.png  \n",
            "  inflating: helmet_data/images/BikesHelmets345.png  \n",
            "  inflating: helmet_data/images/BikesHelmets346.png  \n",
            "  inflating: helmet_data/images/BikesHelmets347.png  \n",
            "  inflating: helmet_data/images/BikesHelmets348.png  \n",
            "  inflating: helmet_data/images/BikesHelmets349.png  \n",
            "  inflating: helmet_data/images/BikesHelmets35.png  \n",
            "  inflating: helmet_data/images/BikesHelmets350.png  \n",
            "  inflating: helmet_data/images/BikesHelmets351.png  \n",
            "  inflating: helmet_data/images/BikesHelmets352.png  \n",
            "  inflating: helmet_data/images/BikesHelmets353.png  \n",
            "  inflating: helmet_data/images/BikesHelmets354.png  \n",
            "  inflating: helmet_data/images/BikesHelmets355.png  \n",
            "  inflating: helmet_data/images/BikesHelmets356.png  \n",
            "  inflating: helmet_data/images/BikesHelmets357.png  \n",
            "  inflating: helmet_data/images/BikesHelmets358.png  \n",
            "  inflating: helmet_data/images/BikesHelmets359.png  \n",
            "  inflating: helmet_data/images/BikesHelmets36.png  \n",
            "  inflating: helmet_data/images/BikesHelmets360.png  \n",
            "  inflating: helmet_data/images/BikesHelmets361.png  \n",
            "  inflating: helmet_data/images/BikesHelmets362.png  \n",
            "  inflating: helmet_data/images/BikesHelmets363.png  \n",
            "  inflating: helmet_data/images/BikesHelmets364.png  \n",
            "  inflating: helmet_data/images/BikesHelmets365.png  \n",
            "  inflating: helmet_data/images/BikesHelmets366.png  \n",
            "  inflating: helmet_data/images/BikesHelmets367.png  \n",
            "  inflating: helmet_data/images/BikesHelmets368.png  \n",
            "  inflating: helmet_data/images/BikesHelmets369.png  \n",
            "  inflating: helmet_data/images/BikesHelmets37.png  \n",
            "  inflating: helmet_data/images/BikesHelmets370.png  \n",
            "  inflating: helmet_data/images/BikesHelmets371.png  \n",
            "  inflating: helmet_data/images/BikesHelmets372.png  \n",
            "  inflating: helmet_data/images/BikesHelmets373.png  \n",
            "  inflating: helmet_data/images/BikesHelmets374.png  \n",
            "  inflating: helmet_data/images/BikesHelmets375.png  \n",
            "  inflating: helmet_data/images/BikesHelmets376.png  \n",
            "  inflating: helmet_data/images/BikesHelmets377.png  \n",
            "  inflating: helmet_data/images/BikesHelmets378.png  \n",
            "  inflating: helmet_data/images/BikesHelmets379.png  \n",
            "  inflating: helmet_data/images/BikesHelmets38.png  \n",
            "  inflating: helmet_data/images/BikesHelmets380.png  \n",
            "  inflating: helmet_data/images/BikesHelmets381.png  \n",
            "  inflating: helmet_data/images/BikesHelmets382.png  \n",
            "  inflating: helmet_data/images/BikesHelmets383.png  \n",
            "  inflating: helmet_data/images/BikesHelmets384.png  \n",
            "  inflating: helmet_data/images/BikesHelmets385.png  \n",
            "  inflating: helmet_data/images/BikesHelmets386.png  \n",
            "  inflating: helmet_data/images/BikesHelmets387.png  \n",
            "  inflating: helmet_data/images/BikesHelmets388.png  \n",
            "  inflating: helmet_data/images/BikesHelmets389.png  \n",
            "  inflating: helmet_data/images/BikesHelmets39.png  \n",
            "  inflating: helmet_data/images/BikesHelmets390.png  \n",
            "  inflating: helmet_data/images/BikesHelmets391.png  \n",
            "  inflating: helmet_data/images/BikesHelmets392.png  \n",
            "  inflating: helmet_data/images/BikesHelmets393.png  \n",
            "  inflating: helmet_data/images/BikesHelmets394.png  \n",
            "  inflating: helmet_data/images/BikesHelmets395.png  \n",
            "  inflating: helmet_data/images/BikesHelmets396.png  \n",
            "  inflating: helmet_data/images/BikesHelmets397.png  \n",
            "  inflating: helmet_data/images/BikesHelmets398.png  \n",
            "  inflating: helmet_data/images/BikesHelmets399.png  \n",
            "  inflating: helmet_data/images/BikesHelmets4.png  \n",
            "  inflating: helmet_data/images/BikesHelmets40.png  \n",
            "  inflating: helmet_data/images/BikesHelmets400.png  \n",
            "  inflating: helmet_data/images/BikesHelmets401.png  \n",
            "  inflating: helmet_data/images/BikesHelmets402.png  \n",
            "  inflating: helmet_data/images/BikesHelmets403.png  \n",
            "  inflating: helmet_data/images/BikesHelmets404.png  \n",
            "  inflating: helmet_data/images/BikesHelmets405.png  \n",
            "  inflating: helmet_data/images/BikesHelmets406.png  \n",
            "  inflating: helmet_data/images/BikesHelmets407.png  \n",
            "  inflating: helmet_data/images/BikesHelmets408.png  \n",
            "  inflating: helmet_data/images/BikesHelmets409.png  \n",
            "  inflating: helmet_data/images/BikesHelmets41.png  \n",
            "  inflating: helmet_data/images/BikesHelmets410.png  \n",
            "  inflating: helmet_data/images/BikesHelmets411.png  \n",
            "  inflating: helmet_data/images/BikesHelmets412.png  \n",
            "  inflating: helmet_data/images/BikesHelmets413.png  \n",
            "  inflating: helmet_data/images/BikesHelmets414.png  \n",
            "  inflating: helmet_data/images/BikesHelmets415.png  \n",
            "  inflating: helmet_data/images/BikesHelmets416.png  \n",
            "  inflating: helmet_data/images/BikesHelmets417.png  \n",
            "  inflating: helmet_data/images/BikesHelmets418.png  \n",
            "  inflating: helmet_data/images/BikesHelmets419.png  \n",
            "  inflating: helmet_data/images/BikesHelmets42.png  \n",
            "  inflating: helmet_data/images/BikesHelmets420.png  \n",
            "  inflating: helmet_data/images/BikesHelmets421.png  \n",
            "  inflating: helmet_data/images/BikesHelmets422.png  \n",
            "  inflating: helmet_data/images/BikesHelmets423.png  \n",
            "  inflating: helmet_data/images/BikesHelmets424.png  \n",
            "  inflating: helmet_data/images/BikesHelmets425.png  \n",
            "  inflating: helmet_data/images/BikesHelmets426.png  \n",
            "  inflating: helmet_data/images/BikesHelmets427.png  \n",
            "  inflating: helmet_data/images/BikesHelmets428.png  \n",
            "  inflating: helmet_data/images/BikesHelmets429.png  \n",
            "  inflating: helmet_data/images/BikesHelmets43.png  \n",
            "  inflating: helmet_data/images/BikesHelmets430.png  \n",
            "  inflating: helmet_data/images/BikesHelmets431.png  \n",
            "  inflating: helmet_data/images/BikesHelmets432.png  \n",
            "  inflating: helmet_data/images/BikesHelmets433.png  \n",
            "  inflating: helmet_data/images/BikesHelmets434.png  \n",
            "  inflating: helmet_data/images/BikesHelmets435.png  \n",
            "  inflating: helmet_data/images/BikesHelmets436.png  \n",
            "  inflating: helmet_data/images/BikesHelmets437.png  \n",
            "  inflating: helmet_data/images/BikesHelmets438.png  \n",
            "  inflating: helmet_data/images/BikesHelmets439.png  \n",
            "  inflating: helmet_data/images/BikesHelmets44.png  \n",
            "  inflating: helmet_data/images/BikesHelmets440.png  \n",
            "  inflating: helmet_data/images/BikesHelmets441.png  \n",
            "  inflating: helmet_data/images/BikesHelmets442.png  \n",
            "  inflating: helmet_data/images/BikesHelmets443.png  \n",
            "  inflating: helmet_data/images/BikesHelmets444.png  \n",
            "  inflating: helmet_data/images/BikesHelmets445.png  \n",
            "  inflating: helmet_data/images/BikesHelmets446.png  \n",
            "  inflating: helmet_data/images/BikesHelmets447.png  \n",
            "  inflating: helmet_data/images/BikesHelmets448.png  \n",
            "  inflating: helmet_data/images/BikesHelmets449.png  \n",
            "  inflating: helmet_data/images/BikesHelmets45.png  \n",
            "  inflating: helmet_data/images/BikesHelmets450.png  \n",
            "  inflating: helmet_data/images/BikesHelmets451.png  \n",
            "  inflating: helmet_data/images/BikesHelmets452.png  \n",
            "  inflating: helmet_data/images/BikesHelmets453.png  \n",
            "  inflating: helmet_data/images/BikesHelmets454.png  \n",
            "  inflating: helmet_data/images/BikesHelmets455.png  \n",
            "  inflating: helmet_data/images/BikesHelmets456.png  \n",
            "  inflating: helmet_data/images/BikesHelmets457.png  \n",
            "  inflating: helmet_data/images/BikesHelmets458.png  \n",
            "  inflating: helmet_data/images/BikesHelmets459.png  \n",
            "  inflating: helmet_data/images/BikesHelmets46.png  \n",
            "  inflating: helmet_data/images/BikesHelmets460.png  \n",
            "  inflating: helmet_data/images/BikesHelmets461.png  \n",
            "  inflating: helmet_data/images/BikesHelmets462.png  \n",
            "  inflating: helmet_data/images/BikesHelmets463.png  \n",
            "  inflating: helmet_data/images/BikesHelmets464.png  \n",
            "  inflating: helmet_data/images/BikesHelmets465.png  \n",
            "  inflating: helmet_data/images/BikesHelmets466.png  \n",
            "  inflating: helmet_data/images/BikesHelmets467.png  \n",
            "  inflating: helmet_data/images/BikesHelmets468.png  \n",
            "  inflating: helmet_data/images/BikesHelmets469.png  \n",
            "  inflating: helmet_data/images/BikesHelmets47.png  \n",
            "  inflating: helmet_data/images/BikesHelmets470.png  \n",
            "  inflating: helmet_data/images/BikesHelmets471.png  \n",
            "  inflating: helmet_data/images/BikesHelmets472.png  \n",
            "  inflating: helmet_data/images/BikesHelmets473.png  \n",
            "  inflating: helmet_data/images/BikesHelmets474.png  \n",
            "  inflating: helmet_data/images/BikesHelmets475.png  \n",
            "  inflating: helmet_data/images/BikesHelmets476.png  \n",
            "  inflating: helmet_data/images/BikesHelmets477.png  \n",
            "  inflating: helmet_data/images/BikesHelmets478.png  \n",
            "  inflating: helmet_data/images/BikesHelmets479.png  \n",
            "  inflating: helmet_data/images/BikesHelmets48.png  \n",
            "  inflating: helmet_data/images/BikesHelmets480.png  \n",
            "  inflating: helmet_data/images/BikesHelmets481.png  \n",
            "  inflating: helmet_data/images/BikesHelmets482.png  \n",
            "  inflating: helmet_data/images/BikesHelmets483.png  \n",
            "  inflating: helmet_data/images/BikesHelmets484.png  \n",
            "  inflating: helmet_data/images/BikesHelmets485.png  \n",
            "  inflating: helmet_data/images/BikesHelmets486.png  \n",
            "  inflating: helmet_data/images/BikesHelmets487.png  \n",
            "  inflating: helmet_data/images/BikesHelmets488.png  \n",
            "  inflating: helmet_data/images/BikesHelmets489.png  \n",
            "  inflating: helmet_data/images/BikesHelmets49.png  \n",
            "  inflating: helmet_data/images/BikesHelmets490.png  \n",
            "  inflating: helmet_data/images/BikesHelmets491.png  \n",
            "  inflating: helmet_data/images/BikesHelmets492.png  \n",
            "  inflating: helmet_data/images/BikesHelmets493.png  \n",
            "  inflating: helmet_data/images/BikesHelmets494.png  \n",
            "  inflating: helmet_data/images/BikesHelmets495.png  \n",
            "  inflating: helmet_data/images/BikesHelmets496.png  \n",
            "  inflating: helmet_data/images/BikesHelmets497.png  \n",
            "  inflating: helmet_data/images/BikesHelmets498.png  \n",
            "  inflating: helmet_data/images/BikesHelmets499.png  \n",
            "  inflating: helmet_data/images/BikesHelmets5.png  \n",
            "  inflating: helmet_data/images/BikesHelmets500.png  \n",
            "  inflating: helmet_data/images/BikesHelmets501.png  \n",
            "  inflating: helmet_data/images/BikesHelmets502.png  \n",
            "  inflating: helmet_data/images/BikesHelmets503.png  \n",
            "  inflating: helmet_data/images/BikesHelmets504.png  \n",
            "  inflating: helmet_data/images/BikesHelmets505.png  \n",
            "  inflating: helmet_data/images/BikesHelmets506.png  \n",
            "  inflating: helmet_data/images/BikesHelmets507.png  \n",
            "  inflating: helmet_data/images/BikesHelmets508.png  \n",
            "  inflating: helmet_data/images/BikesHelmets509.png  \n",
            "  inflating: helmet_data/images/BikesHelmets51.png  \n",
            "  inflating: helmet_data/images/BikesHelmets510.png  \n",
            "  inflating: helmet_data/images/BikesHelmets511.png  \n",
            "  inflating: helmet_data/images/BikesHelmets512.png  \n",
            "  inflating: helmet_data/images/BikesHelmets513.png  \n",
            "  inflating: helmet_data/images/BikesHelmets514.png  \n",
            "  inflating: helmet_data/images/BikesHelmets515.png  \n",
            "  inflating: helmet_data/images/BikesHelmets516.png  \n",
            "  inflating: helmet_data/images/BikesHelmets517.png  \n",
            "  inflating: helmet_data/images/BikesHelmets518.png  \n",
            "  inflating: helmet_data/images/BikesHelmets519.png  \n",
            "  inflating: helmet_data/images/BikesHelmets52.png  \n",
            "  inflating: helmet_data/images/BikesHelmets520.png  \n",
            "  inflating: helmet_data/images/BikesHelmets521.png  \n",
            "  inflating: helmet_data/images/BikesHelmets522.png  \n",
            "  inflating: helmet_data/images/BikesHelmets523.png  \n",
            "  inflating: helmet_data/images/BikesHelmets524.png  \n",
            "  inflating: helmet_data/images/BikesHelmets525.png  \n",
            "  inflating: helmet_data/images/BikesHelmets526.png  \n",
            "  inflating: helmet_data/images/BikesHelmets527.png  \n",
            "  inflating: helmet_data/images/BikesHelmets528.png  \n",
            "  inflating: helmet_data/images/BikesHelmets529.png  \n",
            "  inflating: helmet_data/images/BikesHelmets53.png  \n",
            "  inflating: helmet_data/images/BikesHelmets530.png  \n",
            "  inflating: helmet_data/images/BikesHelmets531.png  \n",
            "  inflating: helmet_data/images/BikesHelmets532.png  \n",
            "  inflating: helmet_data/images/BikesHelmets533.png  \n",
            "  inflating: helmet_data/images/BikesHelmets534.png  \n",
            "  inflating: helmet_data/images/BikesHelmets535.png  \n",
            "  inflating: helmet_data/images/BikesHelmets536.png  \n",
            "  inflating: helmet_data/images/BikesHelmets537.png  \n",
            "  inflating: helmet_data/images/BikesHelmets538.png  \n",
            "  inflating: helmet_data/images/BikesHelmets539.png  \n",
            "  inflating: helmet_data/images/BikesHelmets540.png  \n",
            "  inflating: helmet_data/images/BikesHelmets541.png  \n",
            "  inflating: helmet_data/images/BikesHelmets542.png  \n",
            "  inflating: helmet_data/images/BikesHelmets543.png  \n",
            "  inflating: helmet_data/images/BikesHelmets544.png  \n",
            "  inflating: helmet_data/images/BikesHelmets545.png  \n",
            "  inflating: helmet_data/images/BikesHelmets546.png  \n",
            "  inflating: helmet_data/images/BikesHelmets547.png  \n",
            "  inflating: helmet_data/images/BikesHelmets548.png  \n",
            "  inflating: helmet_data/images/BikesHelmets549.png  \n",
            "  inflating: helmet_data/images/BikesHelmets55.png  \n",
            "  inflating: helmet_data/images/BikesHelmets550.png  \n",
            "  inflating: helmet_data/images/BikesHelmets551.png  \n",
            "  inflating: helmet_data/images/BikesHelmets552.png  \n",
            "  inflating: helmet_data/images/BikesHelmets553.png  \n",
            "  inflating: helmet_data/images/BikesHelmets554.png  \n",
            "  inflating: helmet_data/images/BikesHelmets555.png  \n",
            "  inflating: helmet_data/images/BikesHelmets556.png  \n",
            "  inflating: helmet_data/images/BikesHelmets557.png  \n",
            "  inflating: helmet_data/images/BikesHelmets558.png  \n",
            "  inflating: helmet_data/images/BikesHelmets559.png  \n",
            "  inflating: helmet_data/images/BikesHelmets56.png  \n",
            "  inflating: helmet_data/images/BikesHelmets560.png  \n",
            "  inflating: helmet_data/images/BikesHelmets561.png  \n",
            "  inflating: helmet_data/images/BikesHelmets562.png  \n",
            "  inflating: helmet_data/images/BikesHelmets563.png  \n",
            "  inflating: helmet_data/images/BikesHelmets564.png  \n",
            "  inflating: helmet_data/images/BikesHelmets565.png  \n",
            "  inflating: helmet_data/images/BikesHelmets566.png  \n",
            "  inflating: helmet_data/images/BikesHelmets567.png  \n",
            "  inflating: helmet_data/images/BikesHelmets568.png  \n",
            "  inflating: helmet_data/images/BikesHelmets569.png  \n",
            "  inflating: helmet_data/images/BikesHelmets57.png  \n",
            "  inflating: helmet_data/images/BikesHelmets570.png  \n",
            "  inflating: helmet_data/images/BikesHelmets571.png  \n",
            "  inflating: helmet_data/images/BikesHelmets572.png  \n",
            "  inflating: helmet_data/images/BikesHelmets573.png  \n",
            "  inflating: helmet_data/images/BikesHelmets574.png  \n",
            "  inflating: helmet_data/images/BikesHelmets575.png  \n",
            "  inflating: helmet_data/images/BikesHelmets576.png  \n",
            "  inflating: helmet_data/images/BikesHelmets577.png  \n",
            "  inflating: helmet_data/images/BikesHelmets578.png  \n",
            "  inflating: helmet_data/images/BikesHelmets579.png  \n",
            "  inflating: helmet_data/images/BikesHelmets58.png  \n",
            "  inflating: helmet_data/images/BikesHelmets580.png  \n",
            "  inflating: helmet_data/images/BikesHelmets581.png  \n",
            "  inflating: helmet_data/images/BikesHelmets582.png  \n",
            "  inflating: helmet_data/images/BikesHelmets583.png  \n",
            "  inflating: helmet_data/images/BikesHelmets584.png  \n",
            "  inflating: helmet_data/images/BikesHelmets585.png  \n",
            "  inflating: helmet_data/images/BikesHelmets586.png  \n",
            "  inflating: helmet_data/images/BikesHelmets587.png  \n",
            "  inflating: helmet_data/images/BikesHelmets588.png  \n",
            "  inflating: helmet_data/images/BikesHelmets589.png  \n",
            "  inflating: helmet_data/images/BikesHelmets59.png  \n",
            "  inflating: helmet_data/images/BikesHelmets590.png  \n",
            "  inflating: helmet_data/images/BikesHelmets591.png  \n",
            "  inflating: helmet_data/images/BikesHelmets592.png  \n",
            "  inflating: helmet_data/images/BikesHelmets593.png  \n",
            "  inflating: helmet_data/images/BikesHelmets594.png  \n",
            "  inflating: helmet_data/images/BikesHelmets595.png  \n",
            "  inflating: helmet_data/images/BikesHelmets596.png  \n",
            "  inflating: helmet_data/images/BikesHelmets597.png  \n",
            "  inflating: helmet_data/images/BikesHelmets598.png  \n",
            "  inflating: helmet_data/images/BikesHelmets599.png  \n",
            "  inflating: helmet_data/images/BikesHelmets6.png  \n",
            "  inflating: helmet_data/images/BikesHelmets60.png  \n",
            "  inflating: helmet_data/images/BikesHelmets600.png  \n",
            "  inflating: helmet_data/images/BikesHelmets601.png  \n",
            "  inflating: helmet_data/images/BikesHelmets602.png  \n",
            "  inflating: helmet_data/images/BikesHelmets603.png  \n",
            "  inflating: helmet_data/images/BikesHelmets604.png  \n",
            "  inflating: helmet_data/images/BikesHelmets605.png  \n",
            "  inflating: helmet_data/images/BikesHelmets606.png  \n",
            "  inflating: helmet_data/images/BikesHelmets607.png  \n",
            "  inflating: helmet_data/images/BikesHelmets608.png  \n",
            "  inflating: helmet_data/images/BikesHelmets609.png  \n",
            "  inflating: helmet_data/images/BikesHelmets61.png  \n",
            "  inflating: helmet_data/images/BikesHelmets610.png  \n",
            "  inflating: helmet_data/images/BikesHelmets611.png  \n",
            "  inflating: helmet_data/images/BikesHelmets612.png  \n",
            "  inflating: helmet_data/images/BikesHelmets613.png  \n",
            "  inflating: helmet_data/images/BikesHelmets614.png  \n",
            "  inflating: helmet_data/images/BikesHelmets615.png  \n",
            "  inflating: helmet_data/images/BikesHelmets616.png  \n",
            "  inflating: helmet_data/images/BikesHelmets617.png  \n",
            "  inflating: helmet_data/images/BikesHelmets618.png  \n",
            "  inflating: helmet_data/images/BikesHelmets619.png  \n",
            "  inflating: helmet_data/images/BikesHelmets62.png  \n",
            "  inflating: helmet_data/images/BikesHelmets620.png  \n",
            "  inflating: helmet_data/images/BikesHelmets621.png  \n",
            "  inflating: helmet_data/images/BikesHelmets622.png  \n",
            "  inflating: helmet_data/images/BikesHelmets623.png  \n",
            "  inflating: helmet_data/images/BikesHelmets624.png  \n",
            "  inflating: helmet_data/images/BikesHelmets625.png  \n",
            "  inflating: helmet_data/images/BikesHelmets626.png  \n",
            "  inflating: helmet_data/images/BikesHelmets627.png  \n",
            "  inflating: helmet_data/images/BikesHelmets628.png  \n",
            "  inflating: helmet_data/images/BikesHelmets629.png  \n",
            "  inflating: helmet_data/images/BikesHelmets63.png  \n",
            "  inflating: helmet_data/images/BikesHelmets630.png  \n",
            "  inflating: helmet_data/images/BikesHelmets631.png  \n",
            "  inflating: helmet_data/images/BikesHelmets632.png  \n",
            "  inflating: helmet_data/images/BikesHelmets633.png  \n",
            "  inflating: helmet_data/images/BikesHelmets634.png  \n",
            "  inflating: helmet_data/images/BikesHelmets635.png  \n",
            "  inflating: helmet_data/images/BikesHelmets636.png  \n",
            "  inflating: helmet_data/images/BikesHelmets637.png  \n",
            "  inflating: helmet_data/images/BikesHelmets638.png  \n",
            "  inflating: helmet_data/images/BikesHelmets639.png  \n",
            "  inflating: helmet_data/images/BikesHelmets64.png  \n",
            "  inflating: helmet_data/images/BikesHelmets640.png  \n",
            "  inflating: helmet_data/images/BikesHelmets641.png  \n",
            "  inflating: helmet_data/images/BikesHelmets642.png  \n",
            "  inflating: helmet_data/images/BikesHelmets643.png  \n",
            "  inflating: helmet_data/images/BikesHelmets644.png  \n",
            "  inflating: helmet_data/images/BikesHelmets645.png  \n",
            "  inflating: helmet_data/images/BikesHelmets646.png  \n",
            "  inflating: helmet_data/images/BikesHelmets647.png  \n",
            "  inflating: helmet_data/images/BikesHelmets648.png  \n",
            "  inflating: helmet_data/images/BikesHelmets649.png  \n",
            "  inflating: helmet_data/images/BikesHelmets65.png  \n",
            "  inflating: helmet_data/images/BikesHelmets650.png  \n",
            "  inflating: helmet_data/images/BikesHelmets651.png  \n",
            "  inflating: helmet_data/images/BikesHelmets652.png  \n",
            "  inflating: helmet_data/images/BikesHelmets653.png  \n",
            "  inflating: helmet_data/images/BikesHelmets654.png  \n",
            "  inflating: helmet_data/images/BikesHelmets655.png  \n",
            "  inflating: helmet_data/images/BikesHelmets656.png  \n",
            "  inflating: helmet_data/images/BikesHelmets657.png  \n",
            "  inflating: helmet_data/images/BikesHelmets658.png  \n",
            "  inflating: helmet_data/images/BikesHelmets659.png  \n",
            "  inflating: helmet_data/images/BikesHelmets66.png  \n",
            "  inflating: helmet_data/images/BikesHelmets660.png  \n",
            "  inflating: helmet_data/images/BikesHelmets661.png  \n",
            "  inflating: helmet_data/images/BikesHelmets662.png  \n",
            "  inflating: helmet_data/images/BikesHelmets663.png  \n",
            "  inflating: helmet_data/images/BikesHelmets664.png  \n",
            "  inflating: helmet_data/images/BikesHelmets665.png  \n",
            "  inflating: helmet_data/images/BikesHelmets666.png  \n",
            "  inflating: helmet_data/images/BikesHelmets667.png  \n",
            "  inflating: helmet_data/images/BikesHelmets668.png  \n",
            "  inflating: helmet_data/images/BikesHelmets669.png  \n",
            "  inflating: helmet_data/images/BikesHelmets67.png  \n",
            "  inflating: helmet_data/images/BikesHelmets670.png  \n",
            "  inflating: helmet_data/images/BikesHelmets671.png  \n",
            "  inflating: helmet_data/images/BikesHelmets672.png  \n",
            "  inflating: helmet_data/images/BikesHelmets673.png  \n",
            "  inflating: helmet_data/images/BikesHelmets674.png  \n",
            "  inflating: helmet_data/images/BikesHelmets675.png  \n",
            "  inflating: helmet_data/images/BikesHelmets676.png  \n",
            "  inflating: helmet_data/images/BikesHelmets677.png  \n",
            "  inflating: helmet_data/images/BikesHelmets678.png  \n",
            "  inflating: helmet_data/images/BikesHelmets679.png  \n",
            "  inflating: helmet_data/images/BikesHelmets68.png  \n",
            "  inflating: helmet_data/images/BikesHelmets680.png  \n",
            "  inflating: helmet_data/images/BikesHelmets681.png  \n",
            "  inflating: helmet_data/images/BikesHelmets682.png  \n",
            "  inflating: helmet_data/images/BikesHelmets683.png  \n",
            "  inflating: helmet_data/images/BikesHelmets684.png  \n",
            "  inflating: helmet_data/images/BikesHelmets685.png  \n",
            "  inflating: helmet_data/images/BikesHelmets686.png  \n",
            "  inflating: helmet_data/images/BikesHelmets687.png  \n",
            "  inflating: helmet_data/images/BikesHelmets688.png  \n",
            "  inflating: helmet_data/images/BikesHelmets689.png  \n",
            "  inflating: helmet_data/images/BikesHelmets69.png  \n",
            "  inflating: helmet_data/images/BikesHelmets690.png  \n",
            "  inflating: helmet_data/images/BikesHelmets691.png  \n",
            "  inflating: helmet_data/images/BikesHelmets692.png  \n",
            "  inflating: helmet_data/images/BikesHelmets693.png  \n",
            "  inflating: helmet_data/images/BikesHelmets694.png  \n",
            "  inflating: helmet_data/images/BikesHelmets695.png  \n",
            "  inflating: helmet_data/images/BikesHelmets696.png  \n",
            "  inflating: helmet_data/images/BikesHelmets697.png  \n",
            "  inflating: helmet_data/images/BikesHelmets698.png  \n",
            "  inflating: helmet_data/images/BikesHelmets699.png  \n",
            "  inflating: helmet_data/images/BikesHelmets7.png  \n",
            "  inflating: helmet_data/images/BikesHelmets70.png  \n",
            "  inflating: helmet_data/images/BikesHelmets700.png  \n",
            "  inflating: helmet_data/images/BikesHelmets701.png  \n",
            "  inflating: helmet_data/images/BikesHelmets702.png  \n",
            "  inflating: helmet_data/images/BikesHelmets703.png  \n",
            "  inflating: helmet_data/images/BikesHelmets704.png  \n",
            "  inflating: helmet_data/images/BikesHelmets705.png  \n",
            "  inflating: helmet_data/images/BikesHelmets706.png  \n",
            "  inflating: helmet_data/images/BikesHelmets707.png  \n",
            "  inflating: helmet_data/images/BikesHelmets708.png  \n",
            "  inflating: helmet_data/images/BikesHelmets709.png  \n",
            "  inflating: helmet_data/images/BikesHelmets71.png  \n",
            "  inflating: helmet_data/images/BikesHelmets710.png  \n",
            "  inflating: helmet_data/images/BikesHelmets711.png  \n",
            "  inflating: helmet_data/images/BikesHelmets712.png  \n",
            "  inflating: helmet_data/images/BikesHelmets713.png  \n",
            "  inflating: helmet_data/images/BikesHelmets714.png  \n",
            "  inflating: helmet_data/images/BikesHelmets715.png  \n",
            "  inflating: helmet_data/images/BikesHelmets716.png  \n",
            "  inflating: helmet_data/images/BikesHelmets717.png  \n",
            "  inflating: helmet_data/images/BikesHelmets718.png  \n",
            "  inflating: helmet_data/images/BikesHelmets719.png  \n",
            "  inflating: helmet_data/images/BikesHelmets72.png  \n",
            "  inflating: helmet_data/images/BikesHelmets720.png  \n",
            "  inflating: helmet_data/images/BikesHelmets721.png  \n",
            "  inflating: helmet_data/images/BikesHelmets722.png  \n",
            "  inflating: helmet_data/images/BikesHelmets723.png  \n",
            "  inflating: helmet_data/images/BikesHelmets724.png  \n",
            "  inflating: helmet_data/images/BikesHelmets725.png  \n",
            "  inflating: helmet_data/images/BikesHelmets726.png  \n",
            "  inflating: helmet_data/images/BikesHelmets727.png  \n",
            "  inflating: helmet_data/images/BikesHelmets728.png  \n",
            "  inflating: helmet_data/images/BikesHelmets729.png  \n",
            "  inflating: helmet_data/images/BikesHelmets73.png  \n",
            "  inflating: helmet_data/images/BikesHelmets730.png  \n",
            "  inflating: helmet_data/images/BikesHelmets731.png  \n",
            "  inflating: helmet_data/images/BikesHelmets732.png  \n",
            "  inflating: helmet_data/images/BikesHelmets733.png  \n",
            "  inflating: helmet_data/images/BikesHelmets734.png  \n",
            "  inflating: helmet_data/images/BikesHelmets735.png  \n",
            "  inflating: helmet_data/images/BikesHelmets736.png  \n",
            "  inflating: helmet_data/images/BikesHelmets737.png  \n",
            "  inflating: helmet_data/images/BikesHelmets738.png  \n",
            "  inflating: helmet_data/images/BikesHelmets739.png  \n",
            "  inflating: helmet_data/images/BikesHelmets74.png  \n",
            "  inflating: helmet_data/images/BikesHelmets740.png  \n",
            "  inflating: helmet_data/images/BikesHelmets741.png  \n",
            "  inflating: helmet_data/images/BikesHelmets742.png  \n",
            "  inflating: helmet_data/images/BikesHelmets743.png  \n",
            "  inflating: helmet_data/images/BikesHelmets744.png  \n",
            "  inflating: helmet_data/images/BikesHelmets745.png  \n",
            "  inflating: helmet_data/images/BikesHelmets746.png  \n",
            "  inflating: helmet_data/images/BikesHelmets747.png  \n",
            "  inflating: helmet_data/images/BikesHelmets748.png  \n",
            "  inflating: helmet_data/images/BikesHelmets749.png  \n",
            "  inflating: helmet_data/images/BikesHelmets75.png  \n",
            "  inflating: helmet_data/images/BikesHelmets750.png  \n",
            "  inflating: helmet_data/images/BikesHelmets751.png  \n",
            "  inflating: helmet_data/images/BikesHelmets752.png  \n",
            "  inflating: helmet_data/images/BikesHelmets753.png  \n",
            "  inflating: helmet_data/images/BikesHelmets754.png  \n",
            "  inflating: helmet_data/images/BikesHelmets755.png  \n",
            "  inflating: helmet_data/images/BikesHelmets756.png  \n",
            "  inflating: helmet_data/images/BikesHelmets757.png  \n",
            "  inflating: helmet_data/images/BikesHelmets758.png  \n",
            "  inflating: helmet_data/images/BikesHelmets759.png  \n",
            "  inflating: helmet_data/images/BikesHelmets76.png  \n",
            "  inflating: helmet_data/images/BikesHelmets760.png  \n",
            "  inflating: helmet_data/images/BikesHelmets761.png  \n",
            "  inflating: helmet_data/images/BikesHelmets762.png  \n",
            "  inflating: helmet_data/images/BikesHelmets763.png  \n",
            "  inflating: helmet_data/images/BikesHelmets764.png  \n",
            "  inflating: helmet_data/images/BikesHelmets765.png  \n",
            "  inflating: helmet_data/images/BikesHelmets77.png  \n",
            "  inflating: helmet_data/images/BikesHelmets78.png  \n",
            "  inflating: helmet_data/images/BikesHelmets79.png  \n",
            "  inflating: helmet_data/images/BikesHelmets8.png  \n",
            "  inflating: helmet_data/images/BikesHelmets80.png  \n",
            "  inflating: helmet_data/images/BikesHelmets81.png  \n",
            "  inflating: helmet_data/images/BikesHelmets82.png  \n",
            "  inflating: helmet_data/images/BikesHelmets83.png  \n",
            "  inflating: helmet_data/images/BikesHelmets84.png  \n",
            "  inflating: helmet_data/images/BikesHelmets85.png  \n",
            "  inflating: helmet_data/images/BikesHelmets86.png  \n",
            "  inflating: helmet_data/images/BikesHelmets87.png  \n",
            "  inflating: helmet_data/images/BikesHelmets88.png  \n",
            "  inflating: helmet_data/images/BikesHelmets89.png  \n",
            "  inflating: helmet_data/images/BikesHelmets9.png  \n",
            "  inflating: helmet_data/images/BikesHelmets90.png  \n",
            "  inflating: helmet_data/images/BikesHelmets91.png  \n",
            "  inflating: helmet_data/images/BikesHelmets92.png  \n",
            "  inflating: helmet_data/images/BikesHelmets93.png  \n",
            "  inflating: helmet_data/images/BikesHelmets94.png  \n",
            "  inflating: helmet_data/images/BikesHelmets95.png  \n",
            "  inflating: helmet_data/images/BikesHelmets96.png  \n",
            "  inflating: helmet_data/images/BikesHelmets97.png  \n",
            "  inflating: helmet_data/images/BikesHelmets98.png  \n",
            "  inflating: helmet_data/images/BikesHelmets99.png  \n"
          ]
        }
      ],
      "source": [
        "!kaggle datasets download -d andrewmvd/helmet-detection\n",
        "!unzip helmet-detection.zip -d helmet_data"
      ]
    },
    {
      "cell_type": "markdown",
      "metadata": {
        "id": "3q0BDvltVevK"
      },
      "source": [
        "# Dividing dataset for training and test set"
      ]
    },
    {
      "cell_type": "code",
      "execution_count": 6,
      "metadata": {
        "colab": {
          "base_uri": "https://localhost:8080/"
        },
        "id": "aKUWro4KyyoF",
        "outputId": "7bfbd34a-ccc6-4f99-9a1d-5a1caf9861b8"
      },
      "outputs": [
        {
          "name": "stdout",
          "output_type": "stream",
          "text": [
            "Total valid images with annotations: 764\n",
            "✅ Full dataset with train/val split prepared successfully!\n"
          ]
        }
      ],
      "source": [
        "import os\n",
        "import random\n",
        "import shutil\n",
        "import xml.etree.ElementTree as ET\n",
        "from sklearn.model_selection import train_test_split\n",
        "\n",
        "# Paths\n",
        "base_path = '/content/helmet_data'\n",
        "images_path = os.path.join(base_path, 'images')\n",
        "annotations_path = os.path.join(base_path, 'annotations')\n",
        "output_path = '/content/helmet_data_split'  # New base folder\n",
        "\n",
        "# Create output folders\n",
        "for split in ['train', 'val']:\n",
        "    os.makedirs(os.path.join(output_path, split, 'images'), exist_ok=True)\n",
        "    os.makedirs(os.path.join(output_path, split, 'labels'), exist_ok=True)\n",
        "\n",
        "# Step 1: Find all images that have corresponding annotations\n",
        "image_files = [f for f in os.listdir(images_path) if f.endswith('.png')]\n",
        "annotation_files = [f.replace('.xml', '') for f in os.listdir(annotations_path) if f.endswith('.xml')]\n",
        "\n",
        "# Keep only images that have annotations\n",
        "valid_images = [f for f in image_files if f.replace('.png', '') in annotation_files]\n",
        "\n",
        "print(f\"Total valid images with annotations: {len(valid_images)}\")\n",
        "\n",
        "# Step 2: Split into train and val\n",
        "train_imgs, val_imgs = train_test_split(valid_images, test_size=0.2, random_state=42)  # 80% train, 20% val\n",
        "splits = {'train': train_imgs, 'val': val_imgs}\n",
        "\n",
        "# Helper: XML to YOLO TXT converter\n",
        "def convert_annotation(xml_file, txt_file):\n",
        "    tree = ET.parse(xml_file)\n",
        "    root = tree.getroot()\n",
        "\n",
        "    size = root.find('size')\n",
        "    width = int(size.find('width').text)\n",
        "    height = int(size.find('height').text)\n",
        "\n",
        "    with open(txt_file, 'w') as f:\n",
        "        for obj in root.findall('object'):\n",
        "            cls = obj.find('name').text\n",
        "            # Assuming 'plate' is class 0, adjust if multiple classes later\n",
        "            cls_id = 0\n",
        "            xmlbox = obj.find('bndbox')\n",
        "            xmin = int(xmlbox.find('xmin').text)\n",
        "            xmax = int(xmlbox.find('xmax').text)\n",
        "            ymin = int(xmlbox.find('ymin').text)\n",
        "            ymax = int(xmlbox.find('ymax').text)\n",
        "\n",
        "            # Convert to YOLO format\n",
        "            x_center = (xmin + xmax) / 2 / width\n",
        "            y_center = (ymin + ymax) / 2 / height\n",
        "            w = (xmax - xmin) / width\n",
        "            h = (ymax - ymin) / height\n",
        "\n",
        "            f.write(f\"{cls_id} {x_center:.6f} {y_center:.6f} {w:.6f} {h:.6f}\\n\")\n",
        "\n",
        "# Step 3: Move and convert\n",
        "for split_name, img_list in splits.items():\n",
        "    for img_file in img_list:\n",
        "        img_src = os.path.join(images_path, img_file)\n",
        "        img_dst = os.path.join(output_path, split_name, 'images', img_file)\n",
        "        shutil.copy(img_src, img_dst)\n",
        "\n",
        "        # Convert annotation\n",
        "        xml_file = os.path.join(annotations_path, img_file.replace('.png', '.xml'))\n",
        "        txt_file = os.path.join(output_path, split_name, 'labels', img_file.replace('.png', '.txt'))\n",
        "        convert_annotation(xml_file, txt_file)\n",
        "\n",
        "print(\"✅ Full dataset with train/val split prepared successfully!\")\n"
      ]
    },
    {
      "cell_type": "markdown",
      "metadata": {
        "id": "76wVNFBZVjkd"
      },
      "source": [
        "# Adding Yaml file for YOLO"
      ]
    },
    {
      "cell_type": "code",
      "execution_count": null,
      "metadata": {
        "colab": {
          "base_uri": "https://localhost:8080/"
        },
        "id": "WRfLrZ2Uyzf9",
        "outputId": "b782ad86-5b38-4475-f49b-2c03823b8771"
      },
      "outputs": [
        {
          "name": "stdout",
          "output_type": "stream",
          "text": [
            "✅ dataset.yaml updated correctly with val field!\n"
          ]
        }
      ],
      "source": [
        "dataset_yaml = \"\"\"\n",
        "path: ../helmet_data_split\n",
        "train: train/images\n",
        "val: train/images\n",
        "\n",
        "names:\n",
        "  0: Helmet\n",
        "\"\"\"\n",
        "\n",
        "with open('/content/helmet_data_split/dataset.yaml', 'w') as f:\n",
        "    f.write(dataset_yaml)\n",
        "\n",
        "print(\"✅ dataset.yaml updated correctly with val field!\")\n"
      ]
    },
    {
      "cell_type": "markdown",
      "metadata": {
        "id": "2At7dPXjVp6T"
      },
      "source": [
        "# Training model with more epochs + Early Stopping + more training images"
      ]
    },
    {
      "cell_type": "code",
      "execution_count": 10,
      "metadata": {
        "colab": {
          "base_uri": "https://localhost:8080/"
        },
        "id": "EY53weA7aqeZ",
        "outputId": "b166b16c-57c6-420d-ad44-b76f33de4d8a"
      },
      "outputs": [
        {
          "name": "stdout",
          "output_type": "stream",
          "text": [
            "Collecting ultralytics\n",
            "  Downloading ultralytics-8.3.119-py3-none-any.whl.metadata (37 kB)\n",
            "Requirement already satisfied: numpy>=1.23.0 in /usr/local/lib/python3.11/dist-packages (from ultralytics) (2.0.2)\n",
            "Requirement already satisfied: matplotlib>=3.3.0 in /usr/local/lib/python3.11/dist-packages (from ultralytics) (3.10.0)\n",
            "Requirement already satisfied: opencv-python>=4.6.0 in /usr/local/lib/python3.11/dist-packages (from ultralytics) (4.11.0.86)\n",
            "Requirement already satisfied: pillow>=7.1.2 in /usr/local/lib/python3.11/dist-packages (from ultralytics) (11.2.1)\n",
            "Requirement already satisfied: pyyaml>=5.3.1 in /usr/local/lib/python3.11/dist-packages (from ultralytics) (6.0.2)\n",
            "Requirement already satisfied: requests>=2.23.0 in /usr/local/lib/python3.11/dist-packages (from ultralytics) (2.32.3)\n",
            "Requirement already satisfied: scipy>=1.4.1 in /usr/local/lib/python3.11/dist-packages (from ultralytics) (1.15.2)\n",
            "Requirement already satisfied: torch>=1.8.0 in /usr/local/lib/python3.11/dist-packages (from ultralytics) (2.6.0+cu124)\n",
            "Requirement already satisfied: torchvision>=0.9.0 in /usr/local/lib/python3.11/dist-packages (from ultralytics) (0.21.0+cu124)\n",
            "Requirement already satisfied: tqdm>=4.64.0 in /usr/local/lib/python3.11/dist-packages (from ultralytics) (4.67.1)\n",
            "Requirement already satisfied: psutil in /usr/local/lib/python3.11/dist-packages (from ultralytics) (5.9.5)\n",
            "Requirement already satisfied: py-cpuinfo in /usr/local/lib/python3.11/dist-packages (from ultralytics) (9.0.0)\n",
            "Requirement already satisfied: pandas>=1.1.4 in /usr/local/lib/python3.11/dist-packages (from ultralytics) (2.2.2)\n",
            "Requirement already satisfied: seaborn>=0.11.0 in /usr/local/lib/python3.11/dist-packages (from ultralytics) (0.13.2)\n",
            "Collecting ultralytics-thop>=2.0.0 (from ultralytics)\n",
            "  Downloading ultralytics_thop-2.0.14-py3-none-any.whl.metadata (9.4 kB)\n",
            "Requirement already satisfied: contourpy>=1.0.1 in /usr/local/lib/python3.11/dist-packages (from matplotlib>=3.3.0->ultralytics) (1.3.2)\n",
            "Requirement already satisfied: cycler>=0.10 in /usr/local/lib/python3.11/dist-packages (from matplotlib>=3.3.0->ultralytics) (0.12.1)\n",
            "Requirement already satisfied: fonttools>=4.22.0 in /usr/local/lib/python3.11/dist-packages (from matplotlib>=3.3.0->ultralytics) (4.57.0)\n",
            "Requirement already satisfied: kiwisolver>=1.3.1 in /usr/local/lib/python3.11/dist-packages (from matplotlib>=3.3.0->ultralytics) (1.4.8)\n",
            "Requirement already satisfied: packaging>=20.0 in /usr/local/lib/python3.11/dist-packages (from matplotlib>=3.3.0->ultralytics) (24.2)\n",
            "Requirement already satisfied: pyparsing>=2.3.1 in /usr/local/lib/python3.11/dist-packages (from matplotlib>=3.3.0->ultralytics) (3.2.3)\n",
            "Requirement already satisfied: python-dateutil>=2.7 in /usr/local/lib/python3.11/dist-packages (from matplotlib>=3.3.0->ultralytics) (2.9.0.post0)\n",
            "Requirement already satisfied: pytz>=2020.1 in /usr/local/lib/python3.11/dist-packages (from pandas>=1.1.4->ultralytics) (2025.2)\n",
            "Requirement already satisfied: tzdata>=2022.7 in /usr/local/lib/python3.11/dist-packages (from pandas>=1.1.4->ultralytics) (2025.2)\n",
            "Requirement already satisfied: charset-normalizer<4,>=2 in /usr/local/lib/python3.11/dist-packages (from requests>=2.23.0->ultralytics) (3.4.1)\n",
            "Requirement already satisfied: idna<4,>=2.5 in /usr/local/lib/python3.11/dist-packages (from requests>=2.23.0->ultralytics) (3.10)\n",
            "Requirement already satisfied: urllib3<3,>=1.21.1 in /usr/local/lib/python3.11/dist-packages (from requests>=2.23.0->ultralytics) (2.4.0)\n",
            "Requirement already satisfied: certifi>=2017.4.17 in /usr/local/lib/python3.11/dist-packages (from requests>=2.23.0->ultralytics) (2025.1.31)\n",
            "Requirement already satisfied: filelock in /usr/local/lib/python3.11/dist-packages (from torch>=1.8.0->ultralytics) (3.18.0)\n",
            "Requirement already satisfied: typing-extensions>=4.10.0 in /usr/local/lib/python3.11/dist-packages (from torch>=1.8.0->ultralytics) (4.13.2)\n",
            "Requirement already satisfied: networkx in /usr/local/lib/python3.11/dist-packages (from torch>=1.8.0->ultralytics) (3.4.2)\n",
            "Requirement already satisfied: jinja2 in /usr/local/lib/python3.11/dist-packages (from torch>=1.8.0->ultralytics) (3.1.6)\n",
            "Requirement already satisfied: fsspec in /usr/local/lib/python3.11/dist-packages (from torch>=1.8.0->ultralytics) (2025.3.2)\n",
            "Collecting nvidia-cuda-nvrtc-cu12==12.4.127 (from torch>=1.8.0->ultralytics)\n",
            "  Downloading nvidia_cuda_nvrtc_cu12-12.4.127-py3-none-manylinux2014_x86_64.whl.metadata (1.5 kB)\n",
            "Collecting nvidia-cuda-runtime-cu12==12.4.127 (from torch>=1.8.0->ultralytics)\n",
            "  Downloading nvidia_cuda_runtime_cu12-12.4.127-py3-none-manylinux2014_x86_64.whl.metadata (1.5 kB)\n",
            "Collecting nvidia-cuda-cupti-cu12==12.4.127 (from torch>=1.8.0->ultralytics)\n",
            "  Downloading nvidia_cuda_cupti_cu12-12.4.127-py3-none-manylinux2014_x86_64.whl.metadata (1.6 kB)\n",
            "Collecting nvidia-cudnn-cu12==9.1.0.70 (from torch>=1.8.0->ultralytics)\n",
            "  Downloading nvidia_cudnn_cu12-9.1.0.70-py3-none-manylinux2014_x86_64.whl.metadata (1.6 kB)\n",
            "Collecting nvidia-cublas-cu12==12.4.5.8 (from torch>=1.8.0->ultralytics)\n",
            "  Downloading nvidia_cublas_cu12-12.4.5.8-py3-none-manylinux2014_x86_64.whl.metadata (1.5 kB)\n",
            "Collecting nvidia-cufft-cu12==11.2.1.3 (from torch>=1.8.0->ultralytics)\n",
            "  Downloading nvidia_cufft_cu12-11.2.1.3-py3-none-manylinux2014_x86_64.whl.metadata (1.5 kB)\n",
            "Collecting nvidia-curand-cu12==10.3.5.147 (from torch>=1.8.0->ultralytics)\n",
            "  Downloading nvidia_curand_cu12-10.3.5.147-py3-none-manylinux2014_x86_64.whl.metadata (1.5 kB)\n",
            "Collecting nvidia-cusolver-cu12==11.6.1.9 (from torch>=1.8.0->ultralytics)\n",
            "  Downloading nvidia_cusolver_cu12-11.6.1.9-py3-none-manylinux2014_x86_64.whl.metadata (1.6 kB)\n",
            "Collecting nvidia-cusparse-cu12==12.3.1.170 (from torch>=1.8.0->ultralytics)\n",
            "  Downloading nvidia_cusparse_cu12-12.3.1.170-py3-none-manylinux2014_x86_64.whl.metadata (1.6 kB)\n",
            "Requirement already satisfied: nvidia-cusparselt-cu12==0.6.2 in /usr/local/lib/python3.11/dist-packages (from torch>=1.8.0->ultralytics) (0.6.2)\n",
            "Requirement already satisfied: nvidia-nccl-cu12==2.21.5 in /usr/local/lib/python3.11/dist-packages (from torch>=1.8.0->ultralytics) (2.21.5)\n",
            "Requirement already satisfied: nvidia-nvtx-cu12==12.4.127 in /usr/local/lib/python3.11/dist-packages (from torch>=1.8.0->ultralytics) (12.4.127)\n",
            "Collecting nvidia-nvjitlink-cu12==12.4.127 (from torch>=1.8.0->ultralytics)\n",
            "  Downloading nvidia_nvjitlink_cu12-12.4.127-py3-none-manylinux2014_x86_64.whl.metadata (1.5 kB)\n",
            "Requirement already satisfied: triton==3.2.0 in /usr/local/lib/python3.11/dist-packages (from torch>=1.8.0->ultralytics) (3.2.0)\n",
            "Requirement already satisfied: sympy==1.13.1 in /usr/local/lib/python3.11/dist-packages (from torch>=1.8.0->ultralytics) (1.13.1)\n",
            "Requirement already satisfied: mpmath<1.4,>=1.1.0 in /usr/local/lib/python3.11/dist-packages (from sympy==1.13.1->torch>=1.8.0->ultralytics) (1.3.0)\n",
            "Requirement already satisfied: six>=1.5 in /usr/local/lib/python3.11/dist-packages (from python-dateutil>=2.7->matplotlib>=3.3.0->ultralytics) (1.17.0)\n",
            "Requirement already satisfied: MarkupSafe>=2.0 in /usr/local/lib/python3.11/dist-packages (from jinja2->torch>=1.8.0->ultralytics) (3.0.2)\n",
            "Downloading ultralytics-8.3.119-py3-none-any.whl (1.0 MB)\n",
            "\u001b[2K   \u001b[90m━━━━━━━━━━━━━━━━━━━━━━━━━━━━━━━━━━━━━━━━\u001b[0m \u001b[32m1.0/1.0 MB\u001b[0m \u001b[31m22.6 MB/s\u001b[0m eta \u001b[36m0:00:00\u001b[0m\n",
            "\u001b[?25hDownloading nvidia_cublas_cu12-12.4.5.8-py3-none-manylinux2014_x86_64.whl (363.4 MB)\n",
            "\u001b[2K   \u001b[90m━━━━━━━━━━━━━━━━━━━━━━━━━━━━━━━━━━━━━━━━\u001b[0m \u001b[32m363.4/363.4 MB\u001b[0m \u001b[31m4.0 MB/s\u001b[0m eta \u001b[36m0:00:00\u001b[0m\n",
            "\u001b[?25hDownloading nvidia_cuda_cupti_cu12-12.4.127-py3-none-manylinux2014_x86_64.whl (13.8 MB)\n",
            "\u001b[2K   \u001b[90m━━━━━━━━━━━━━━━━━━━━━━━━━━━━━━━━━━━━━━━━\u001b[0m \u001b[32m13.8/13.8 MB\u001b[0m \u001b[31m127.7 MB/s\u001b[0m eta \u001b[36m0:00:00\u001b[0m\n",
            "\u001b[?25hDownloading nvidia_cuda_nvrtc_cu12-12.4.127-py3-none-manylinux2014_x86_64.whl (24.6 MB)\n",
            "\u001b[2K   \u001b[90m━━━━━━━━━━━━━━━━━━━━━━━━━━━━━━━━━━━━━━━━\u001b[0m \u001b[32m24.6/24.6 MB\u001b[0m \u001b[31m30.3 MB/s\u001b[0m eta \u001b[36m0:00:00\u001b[0m\n",
            "\u001b[?25hDownloading nvidia_cuda_runtime_cu12-12.4.127-py3-none-manylinux2014_x86_64.whl (883 kB)\n",
            "\u001b[2K   \u001b[90m━━━━━━━━━━━━━━━━━━━━━━━━━━━━━━━━━━━━━━━━\u001b[0m \u001b[32m883.7/883.7 kB\u001b[0m \u001b[31m53.7 MB/s\u001b[0m eta \u001b[36m0:00:00\u001b[0m\n",
            "\u001b[?25hDownloading nvidia_cudnn_cu12-9.1.0.70-py3-none-manylinux2014_x86_64.whl (664.8 MB)\n",
            "\u001b[2K   \u001b[90m━━━━━━━━━━━━━━━━━━━━━━━━━━━━━━━━━━━━━━━━\u001b[0m \u001b[32m664.8/664.8 MB\u001b[0m \u001b[31m2.1 MB/s\u001b[0m eta \u001b[36m0:00:00\u001b[0m\n",
            "\u001b[?25hDownloading nvidia_cufft_cu12-11.2.1.3-py3-none-manylinux2014_x86_64.whl (211.5 MB)\n",
            "\u001b[2K   \u001b[90m━━━━━━━━━━━━━━━━━━━━━━━━━━━━━━━━━━━━━━━━\u001b[0m \u001b[32m211.5/211.5 MB\u001b[0m \u001b[31m5.4 MB/s\u001b[0m eta \u001b[36m0:00:00\u001b[0m\n",
            "\u001b[?25hDownloading nvidia_curand_cu12-10.3.5.147-py3-none-manylinux2014_x86_64.whl (56.3 MB)\n",
            "\u001b[2K   \u001b[90m━━━━━━━━━━━━━━━━━━━━━━━━━━━━━━━━━━━━━━━━\u001b[0m \u001b[32m56.3/56.3 MB\u001b[0m \u001b[31m15.3 MB/s\u001b[0m eta \u001b[36m0:00:00\u001b[0m\n",
            "\u001b[?25hDownloading nvidia_cusolver_cu12-11.6.1.9-py3-none-manylinux2014_x86_64.whl (127.9 MB)\n",
            "\u001b[2K   \u001b[90m━━━━━━━━━━━━━━━━━━━━━━━━━━━━━━━━━━━━━━━━\u001b[0m \u001b[32m127.9/127.9 MB\u001b[0m \u001b[31m7.5 MB/s\u001b[0m eta \u001b[36m0:00:00\u001b[0m\n",
            "\u001b[?25hDownloading nvidia_cusparse_cu12-12.3.1.170-py3-none-manylinux2014_x86_64.whl (207.5 MB)\n",
            "\u001b[2K   \u001b[90m━━━━━━━━━━━━━━━━━━━━━━━━━━━━━━━━━━━━━━━━\u001b[0m \u001b[32m207.5/207.5 MB\u001b[0m \u001b[31m5.6 MB/s\u001b[0m eta \u001b[36m0:00:00\u001b[0m\n",
            "\u001b[?25hDownloading nvidia_nvjitlink_cu12-12.4.127-py3-none-manylinux2014_x86_64.whl (21.1 MB)\n",
            "\u001b[2K   \u001b[90m━━━━━━━━━━━━━━━━━━━━━━━━━━━━━━━━━━━━━━━━\u001b[0m \u001b[32m21.1/21.1 MB\u001b[0m \u001b[31m80.5 MB/s\u001b[0m eta \u001b[36m0:00:00\u001b[0m\n",
            "\u001b[?25hDownloading ultralytics_thop-2.0.14-py3-none-any.whl (26 kB)\n",
            "Installing collected packages: nvidia-nvjitlink-cu12, nvidia-curand-cu12, nvidia-cufft-cu12, nvidia-cuda-runtime-cu12, nvidia-cuda-nvrtc-cu12, nvidia-cuda-cupti-cu12, nvidia-cublas-cu12, nvidia-cusparse-cu12, nvidia-cudnn-cu12, nvidia-cusolver-cu12, ultralytics-thop, ultralytics\n",
            "  Attempting uninstall: nvidia-nvjitlink-cu12\n",
            "    Found existing installation: nvidia-nvjitlink-cu12 12.5.82\n",
            "    Uninstalling nvidia-nvjitlink-cu12-12.5.82:\n",
            "      Successfully uninstalled nvidia-nvjitlink-cu12-12.5.82\n",
            "  Attempting uninstall: nvidia-curand-cu12\n",
            "    Found existing installation: nvidia-curand-cu12 10.3.6.82\n",
            "    Uninstalling nvidia-curand-cu12-10.3.6.82:\n",
            "      Successfully uninstalled nvidia-curand-cu12-10.3.6.82\n",
            "  Attempting uninstall: nvidia-cufft-cu12\n",
            "    Found existing installation: nvidia-cufft-cu12 11.2.3.61\n",
            "    Uninstalling nvidia-cufft-cu12-11.2.3.61:\n",
            "      Successfully uninstalled nvidia-cufft-cu12-11.2.3.61\n",
            "  Attempting uninstall: nvidia-cuda-runtime-cu12\n",
            "    Found existing installation: nvidia-cuda-runtime-cu12 12.5.82\n",
            "    Uninstalling nvidia-cuda-runtime-cu12-12.5.82:\n",
            "      Successfully uninstalled nvidia-cuda-runtime-cu12-12.5.82\n",
            "  Attempting uninstall: nvidia-cuda-nvrtc-cu12\n",
            "    Found existing installation: nvidia-cuda-nvrtc-cu12 12.5.82\n",
            "    Uninstalling nvidia-cuda-nvrtc-cu12-12.5.82:\n",
            "      Successfully uninstalled nvidia-cuda-nvrtc-cu12-12.5.82\n",
            "  Attempting uninstall: nvidia-cuda-cupti-cu12\n",
            "    Found existing installation: nvidia-cuda-cupti-cu12 12.5.82\n",
            "    Uninstalling nvidia-cuda-cupti-cu12-12.5.82:\n",
            "      Successfully uninstalled nvidia-cuda-cupti-cu12-12.5.82\n",
            "  Attempting uninstall: nvidia-cublas-cu12\n",
            "    Found existing installation: nvidia-cublas-cu12 12.5.3.2\n",
            "    Uninstalling nvidia-cublas-cu12-12.5.3.2:\n",
            "      Successfully uninstalled nvidia-cublas-cu12-12.5.3.2\n",
            "  Attempting uninstall: nvidia-cusparse-cu12\n",
            "    Found existing installation: nvidia-cusparse-cu12 12.5.1.3\n",
            "    Uninstalling nvidia-cusparse-cu12-12.5.1.3:\n",
            "      Successfully uninstalled nvidia-cusparse-cu12-12.5.1.3\n",
            "  Attempting uninstall: nvidia-cudnn-cu12\n",
            "    Found existing installation: nvidia-cudnn-cu12 9.3.0.75\n",
            "    Uninstalling nvidia-cudnn-cu12-9.3.0.75:\n",
            "      Successfully uninstalled nvidia-cudnn-cu12-9.3.0.75\n",
            "  Attempting uninstall: nvidia-cusolver-cu12\n",
            "    Found existing installation: nvidia-cusolver-cu12 11.6.3.83\n",
            "    Uninstalling nvidia-cusolver-cu12-11.6.3.83:\n",
            "      Successfully uninstalled nvidia-cusolver-cu12-11.6.3.83\n",
            "Successfully installed nvidia-cublas-cu12-12.4.5.8 nvidia-cuda-cupti-cu12-12.4.127 nvidia-cuda-nvrtc-cu12-12.4.127 nvidia-cuda-runtime-cu12-12.4.127 nvidia-cudnn-cu12-9.1.0.70 nvidia-cufft-cu12-11.2.1.3 nvidia-curand-cu12-10.3.5.147 nvidia-cusolver-cu12-11.6.1.9 nvidia-cusparse-cu12-12.3.1.170 nvidia-nvjitlink-cu12-12.4.127 ultralytics-8.3.119 ultralytics-thop-2.0.14\n"
          ]
        }
      ],
      "source": [
        "!pip install ultralytics"
      ]
    },
    {
      "cell_type": "code",
      "execution_count": 14,
      "metadata": {
        "colab": {
          "base_uri": "https://localhost:8080/"
        },
        "id": "aXohKj5SyASW",
        "outputId": "1ba4210e-27b7-414a-f9bf-f45799f71c50"
      },
      "outputs": [
        {
          "name": "stdout",
          "output_type": "stream",
          "text": [
            "Ultralytics 8.3.119 🚀 Python-3.11.12 torch-2.6.0+cu124 CUDA:0 (Tesla T4, 15095MiB)\n",
            "\u001b[34m\u001b[1mengine/trainer: \u001b[0mtask=detect, mode=train, model=yolov8m.pt, data=/content/helmet_data_split/dataset.yaml, epochs=60, time=None, patience=20, batch=16, imgsz=800, save=True, save_period=10, cache=True, device=0, workers=4, project=/content/yolo_helmet_final, name=yolov8m_imgsz800_ep60_final, exist_ok=True, pretrained=True, optimizer=SGD, verbose=True, seed=0, deterministic=True, single_cls=False, rect=False, cos_lr=False, close_mosaic=10, resume=False, amp=True, fraction=1.0, profile=False, freeze=None, multi_scale=False, overlap_mask=True, mask_ratio=4, dropout=0.0, val=True, split=val, save_json=False, conf=0.5, iou=0.5, max_det=300, half=False, dnn=False, plots=True, source=None, vid_stride=1, stream_buffer=False, visualize=False, augment=True, agnostic_nms=False, classes=None, retina_masks=False, embed=None, show=False, save_frames=False, save_txt=False, save_conf=False, save_crop=False, show_labels=True, show_conf=True, show_boxes=True, line_width=None, format=torchscript, keras=False, optimize=False, int8=False, dynamic=False, simplify=True, opset=None, workspace=None, nms=False, lr0=0.001, lrf=0.1, momentum=0.937, weight_decay=0.0005, warmup_epochs=3.0, warmup_momentum=0.8, warmup_bias_lr=0.1, box=7.5, cls=0.5, dfl=1.5, pose=12.0, kobj=1.0, nbs=64, hsv_h=0.01, hsv_s=0.3, hsv_v=0.2, degrees=3.0, translate=0.05, scale=0.1, shear=0.05, perspective=0.0, flipud=0.0, fliplr=0.3, bgr=0.0, mosaic=0.3, mixup=0.1, cutmix=0.0, copy_paste=0.0, copy_paste_mode=flip, auto_augment=randaugment, erasing=0.4, cfg=None, tracker=botsort.yaml, save_dir=/content/yolo_helmet_final/yolov8m_imgsz800_ep60_final\n",
            "Overriding model.yaml nc=80 with nc=1\n",
            "\n",
            "                   from  n    params  module                                       arguments                     \n",
            "  0                  -1  1      1392  ultralytics.nn.modules.conv.Conv             [3, 48, 3, 2]                 \n",
            "  1                  -1  1     41664  ultralytics.nn.modules.conv.Conv             [48, 96, 3, 2]                \n",
            "  2                  -1  2    111360  ultralytics.nn.modules.block.C2f             [96, 96, 2, True]             \n",
            "  3                  -1  1    166272  ultralytics.nn.modules.conv.Conv             [96, 192, 3, 2]               \n",
            "  4                  -1  4    813312  ultralytics.nn.modules.block.C2f             [192, 192, 4, True]           \n",
            "  5                  -1  1    664320  ultralytics.nn.modules.conv.Conv             [192, 384, 3, 2]              \n",
            "  6                  -1  4   3248640  ultralytics.nn.modules.block.C2f             [384, 384, 4, True]           \n",
            "  7                  -1  1   1991808  ultralytics.nn.modules.conv.Conv             [384, 576, 3, 2]              \n",
            "  8                  -1  2   3985920  ultralytics.nn.modules.block.C2f             [576, 576, 2, True]           \n",
            "  9                  -1  1    831168  ultralytics.nn.modules.block.SPPF            [576, 576, 5]                 \n",
            " 10                  -1  1         0  torch.nn.modules.upsampling.Upsample         [None, 2, 'nearest']          \n",
            " 11             [-1, 6]  1         0  ultralytics.nn.modules.conv.Concat           [1]                           \n",
            " 12                  -1  2   1993728  ultralytics.nn.modules.block.C2f             [960, 384, 2]                 \n",
            " 13                  -1  1         0  torch.nn.modules.upsampling.Upsample         [None, 2, 'nearest']          \n",
            " 14             [-1, 4]  1         0  ultralytics.nn.modules.conv.Concat           [1]                           \n",
            " 15                  -1  2    517632  ultralytics.nn.modules.block.C2f             [576, 192, 2]                 \n",
            " 16                  -1  1    332160  ultralytics.nn.modules.conv.Conv             [192, 192, 3, 2]              \n",
            " 17            [-1, 12]  1         0  ultralytics.nn.modules.conv.Concat           [1]                           \n",
            " 18                  -1  2   1846272  ultralytics.nn.modules.block.C2f             [576, 384, 2]                 \n",
            " 19                  -1  1   1327872  ultralytics.nn.modules.conv.Conv             [384, 384, 3, 2]              \n",
            " 20             [-1, 9]  1         0  ultralytics.nn.modules.conv.Concat           [1]                           \n",
            " 21                  -1  2   4207104  ultralytics.nn.modules.block.C2f             [960, 576, 2]                 \n",
            " 22        [15, 18, 21]  1   3776275  ultralytics.nn.modules.head.Detect           [1, [192, 384, 576]]          \n",
            "Model summary: 169 layers, 25,856,899 parameters, 25,856,883 gradients, 79.1 GFLOPs\n",
            "\n",
            "Transferred 469/475 items from pretrained weights\n",
            "Freezing layer 'model.22.dfl.conv.weight'\n",
            "\u001b[34m\u001b[1mAMP: \u001b[0mrunning Automatic Mixed Precision (AMP) checks...\n",
            "\u001b[34m\u001b[1mAMP: \u001b[0mchecks passed ✅\n",
            "\u001b[34m\u001b[1mtrain: \u001b[0mFast image access ✅ (ping: 0.0±0.0 ms, read: 2891.7±486.4 MB/s, size: 505.1 KB)\n"
          ]
        },
        {
          "name": "stderr",
          "output_type": "stream",
          "text": [
            "\u001b[34m\u001b[1mtrain: \u001b[0mScanning /content/helmet_data_split/train/labels.cache... 611 images, 3 backgrounds, 12 corrupt: 100%|██████████| 611/611 [00:00<?, ?it/s]"
          ]
        },
        {
          "name": "stdout",
          "output_type": "stream",
          "text": [
            "\u001b[34m\u001b[1mtrain: \u001b[0m/content/helmet_data_split/train/images/BikesHelmets103.png: ignoring corrupt image/label: non-normalized or out of bounds coordinates [     408.72      81.502      71.037      83.004]\n",
            "\u001b[34m\u001b[1mtrain: \u001b[0m/content/helmet_data_split/train/images/BikesHelmets279.png: ignoring corrupt image/label: non-normalized or out of bounds coordinates [      194.5          56         103         100]\n",
            "\u001b[34m\u001b[1mtrain: \u001b[0m/content/helmet_data_split/train/images/BikesHelmets326.png: ignoring corrupt image/label: non-normalized or out of bounds coordinates [        157        56.5          86          97]\n",
            "\u001b[34m\u001b[1mtrain: \u001b[0m/content/helmet_data_split/train/images/BikesHelmets441.png: ignoring corrupt image/label: non-normalized or out of bounds coordinates [      310.5        41.5          61          63]\n",
            "\u001b[34m\u001b[1mtrain: \u001b[0m/content/helmet_data_split/train/images/BikesHelmets444.png: ignoring corrupt image/label: non-normalized or out of bounds coordinates [        299          48          78          80]\n",
            "\u001b[34m\u001b[1mtrain: \u001b[0m/content/helmet_data_split/train/images/BikesHelmets530.png: ignoring corrupt image/label: non-normalized or out of bounds coordinates [     313.35          74      102.11         116]\n",
            "\u001b[34m\u001b[1mtrain: \u001b[0m/content/helmet_data_split/train/images/BikesHelmets616.png: ignoring corrupt image/label: non-normalized or out of bounds coordinates [        750       297.5          68          91]\n",
            "\u001b[34m\u001b[1mtrain: \u001b[0m/content/helmet_data_split/train/images/BikesHelmets671.png: ignoring corrupt image/label: non-normalized or out of bounds coordinates [        863         251          52          52]\n",
            "\u001b[34m\u001b[1mtrain: \u001b[0m/content/helmet_data_split/train/images/BikesHelmets706.png: ignoring corrupt image/label: non-normalized or out of bounds coordinates [      379.5        82.5          61          65]\n",
            "\u001b[34m\u001b[1mtrain: \u001b[0m/content/helmet_data_split/train/images/BikesHelmets75.png: ignoring corrupt image/label: non-normalized or out of bounds coordinates [        471       290.5          82         109         761       291.5          84          97       466.5         297         109         118]\n",
            "\u001b[34m\u001b[1mtrain: \u001b[0m/content/helmet_data_split/train/images/BikesHelmets764.png: ignoring corrupt image/label: non-normalized or out of bounds coordinates [        219          91          80          82]\n",
            "\u001b[34m\u001b[1mtrain: \u001b[0m/content/helmet_data_split/train/images/BikesHelmets80.png: ignoring corrupt image/label: non-normalized or out of bounds coordinates [      424.5      45.298          71      82.631]\n"
          ]
        },
        {
          "name": "stderr",
          "output_type": "stream",
          "text": [
            "\n"
          ]
        },
        {
          "name": "stdout",
          "output_type": "stream",
          "text": [
            "WARNING ⚠️ cache='ram' may produce non-deterministic training results. Consider cache='disk' as a deterministic alternative if your disk space allows.\n"
          ]
        },
        {
          "name": "stderr",
          "output_type": "stream",
          "text": [
            "\u001b[34m\u001b[1mtrain: \u001b[0mCaching images (0.7GB RAM): 100%|██████████| 599/599 [00:08<00:00, 71.53it/s]"
          ]
        },
        {
          "name": "stdout",
          "output_type": "stream",
          "text": [
            "\u001b[34m\u001b[1malbumentations: \u001b[0mBlur(p=0.01, blur_limit=(3, 7)), MedianBlur(p=0.01, blur_limit=(3, 7)), ToGray(p=0.01, num_output_channels=3, method='weighted_average'), CLAHE(p=0.01, clip_limit=(1.0, 4.0), tile_grid_size=(8, 8))\n"
          ]
        },
        {
          "name": "stderr",
          "output_type": "stream",
          "text": [
            "\n"
          ]
        },
        {
          "name": "stdout",
          "output_type": "stream",
          "text": [
            "\u001b[34m\u001b[1mval: \u001b[0mFast image access ✅ (ping: 0.0±0.0 ms, read: 1112.1±1408.5 MB/s, size: 532.6 KB)\n"
          ]
        },
        {
          "name": "stderr",
          "output_type": "stream",
          "text": [
            "\u001b[34m\u001b[1mval: \u001b[0mScanning /content/helmet_data_split/train/labels.cache... 611 images, 3 backgrounds, 12 corrupt: 100%|██████████| 611/611 [00:00<?, ?it/s]"
          ]
        },
        {
          "name": "stdout",
          "output_type": "stream",
          "text": [
            "\u001b[34m\u001b[1mtrain: \u001b[0m/content/helmet_data_split/train/images/BikesHelmets103.png: ignoring corrupt image/label: non-normalized or out of bounds coordinates [     408.72      81.502      71.037      83.004]\n",
            "\u001b[34m\u001b[1mtrain: \u001b[0m/content/helmet_data_split/train/images/BikesHelmets279.png: ignoring corrupt image/label: non-normalized or out of bounds coordinates [      194.5          56         103         100]\n",
            "\u001b[34m\u001b[1mtrain: \u001b[0m/content/helmet_data_split/train/images/BikesHelmets326.png: ignoring corrupt image/label: non-normalized or out of bounds coordinates [        157        56.5          86          97]\n",
            "\u001b[34m\u001b[1mtrain: \u001b[0m/content/helmet_data_split/train/images/BikesHelmets441.png: ignoring corrupt image/label: non-normalized or out of bounds coordinates [      310.5        41.5          61          63]\n",
            "\u001b[34m\u001b[1mtrain: \u001b[0m/content/helmet_data_split/train/images/BikesHelmets444.png: ignoring corrupt image/label: non-normalized or out of bounds coordinates [        299          48          78          80]\n",
            "\u001b[34m\u001b[1mtrain: \u001b[0m/content/helmet_data_split/train/images/BikesHelmets530.png: ignoring corrupt image/label: non-normalized or out of bounds coordinates [     313.35          74      102.11         116]\n",
            "\u001b[34m\u001b[1mtrain: \u001b[0m/content/helmet_data_split/train/images/BikesHelmets616.png: ignoring corrupt image/label: non-normalized or out of bounds coordinates [        750       297.5          68          91]\n",
            "\u001b[34m\u001b[1mtrain: \u001b[0m/content/helmet_data_split/train/images/BikesHelmets671.png: ignoring corrupt image/label: non-normalized or out of bounds coordinates [        863         251          52          52]\n",
            "\u001b[34m\u001b[1mtrain: \u001b[0m/content/helmet_data_split/train/images/BikesHelmets706.png: ignoring corrupt image/label: non-normalized or out of bounds coordinates [      379.5        82.5          61          65]\n",
            "\u001b[34m\u001b[1mtrain: \u001b[0m/content/helmet_data_split/train/images/BikesHelmets75.png: ignoring corrupt image/label: non-normalized or out of bounds coordinates [        471       290.5          82         109         761       291.5          84          97       466.5         297         109         118]\n",
            "\u001b[34m\u001b[1mtrain: \u001b[0m/content/helmet_data_split/train/images/BikesHelmets764.png: ignoring corrupt image/label: non-normalized or out of bounds coordinates [        219          91          80          82]\n",
            "\u001b[34m\u001b[1mtrain: \u001b[0m/content/helmet_data_split/train/images/BikesHelmets80.png: ignoring corrupt image/label: non-normalized or out of bounds coordinates [      424.5      45.298          71      82.631]\n"
          ]
        },
        {
          "name": "stderr",
          "output_type": "stream",
          "text": [
            "\n"
          ]
        },
        {
          "name": "stdout",
          "output_type": "stream",
          "text": [
            "WARNING ⚠️ cache='ram' may produce non-deterministic training results. Consider cache='disk' as a deterministic alternative if your disk space allows.\n"
          ]
        },
        {
          "name": "stderr",
          "output_type": "stream",
          "text": [
            "\u001b[34m\u001b[1mval: \u001b[0mCaching images (0.7GB RAM): 100%|██████████| 599/599 [00:09<00:00, 61.90it/s]\n"
          ]
        },
        {
          "name": "stdout",
          "output_type": "stream",
          "text": [
            "Plotting labels to /content/yolo_helmet_final/yolov8m_imgsz800_ep60_final/labels.jpg... \n",
            "\u001b[34m\u001b[1moptimizer:\u001b[0m SGD(lr=0.001, momentum=0.937) with parameter groups 77 weight(decay=0.0), 84 weight(decay=0.0005), 83 bias(decay=0.0)\n",
            "Image sizes 800 train, 800 val\n",
            "Using 2 dataloader workers\n",
            "Logging results to \u001b[1m/content/yolo_helmet_final/yolov8m_imgsz800_ep60_final\u001b[0m\n",
            "Starting training for 60 epochs...\n",
            "\n",
            "      Epoch    GPU_mem   box_loss   cls_loss   dfl_loss  Instances       Size\n"
          ]
        },
        {
          "name": "stderr",
          "output_type": "stream",
          "text": [
            "       1/60      9.68G      1.847      3.733      1.856         16        800: 100%|██████████| 38/38 [00:32<00:00,  1.17it/s]\n",
            "                 Class     Images  Instances      Box(P          R      mAP50  mAP50-95): 100%|██████████| 19/19 [00:09<00:00,  2.10it/s]"
          ]
        },
        {
          "name": "stdout",
          "output_type": "stream",
          "text": [
            "                   all        599       1135      0.748      0.653      0.675      0.398\n"
          ]
        },
        {
          "name": "stderr",
          "output_type": "stream",
          "text": [
            "\n"
          ]
        },
        {
          "name": "stdout",
          "output_type": "stream",
          "text": [
            "\n",
            "      Epoch    GPU_mem   box_loss   cls_loss   dfl_loss  Instances       Size\n"
          ]
        },
        {
          "name": "stderr",
          "output_type": "stream",
          "text": [
            "       2/60      10.1G      1.471      1.324      1.556         21        800: 100%|██████████| 38/38 [00:31<00:00,  1.21it/s]\n",
            "                 Class     Images  Instances      Box(P          R      mAP50  mAP50-95): 100%|██████████| 19/19 [00:08<00:00,  2.17it/s]"
          ]
        },
        {
          "name": "stdout",
          "output_type": "stream",
          "text": [
            "                   all        599       1135      0.806      0.752      0.777      0.538\n"
          ]
        },
        {
          "name": "stderr",
          "output_type": "stream",
          "text": [
            "\n"
          ]
        },
        {
          "name": "stdout",
          "output_type": "stream",
          "text": [
            "\n",
            "      Epoch    GPU_mem   box_loss   cls_loss   dfl_loss  Instances       Size\n"
          ]
        },
        {
          "name": "stderr",
          "output_type": "stream",
          "text": [
            "       3/60      10.1G      1.309     0.9486      1.415         10        800: 100%|██████████| 38/38 [00:31<00:00,  1.22it/s]\n",
            "                 Class     Images  Instances      Box(P          R      mAP50  mAP50-95): 100%|██████████| 19/19 [00:09<00:00,  2.09it/s]"
          ]
        },
        {
          "name": "stdout",
          "output_type": "stream",
          "text": [
            "                   all        599       1135      0.794      0.858       0.84      0.579\n"
          ]
        },
        {
          "name": "stderr",
          "output_type": "stream",
          "text": [
            "\n"
          ]
        },
        {
          "name": "stdout",
          "output_type": "stream",
          "text": [
            "\n",
            "      Epoch    GPU_mem   box_loss   cls_loss   dfl_loss  Instances       Size\n"
          ]
        },
        {
          "name": "stderr",
          "output_type": "stream",
          "text": [
            "       4/60      10.1G      1.259     0.8539      1.352         12        800: 100%|██████████| 38/38 [00:31<00:00,  1.21it/s]\n",
            "                 Class     Images  Instances      Box(P          R      mAP50  mAP50-95): 100%|██████████| 19/19 [00:08<00:00,  2.13it/s]"
          ]
        },
        {
          "name": "stdout",
          "output_type": "stream",
          "text": [
            "                   all        599       1135      0.855      0.727      0.802      0.578\n"
          ]
        },
        {
          "name": "stderr",
          "output_type": "stream",
          "text": [
            "\n"
          ]
        },
        {
          "name": "stdout",
          "output_type": "stream",
          "text": [
            "\n",
            "      Epoch    GPU_mem   box_loss   cls_loss   dfl_loss  Instances       Size\n"
          ]
        },
        {
          "name": "stderr",
          "output_type": "stream",
          "text": [
            "       5/60      10.1G      1.222     0.7413      1.317         18        800: 100%|██████████| 38/38 [00:31<00:00,  1.22it/s]\n",
            "                 Class     Images  Instances      Box(P          R      mAP50  mAP50-95): 100%|██████████| 19/19 [00:09<00:00,  2.10it/s]"
          ]
        },
        {
          "name": "stdout",
          "output_type": "stream",
          "text": [
            "                   all        599       1135      0.883      0.821      0.863      0.632\n"
          ]
        },
        {
          "name": "stderr",
          "output_type": "stream",
          "text": [
            "\n"
          ]
        },
        {
          "name": "stdout",
          "output_type": "stream",
          "text": [
            "\n",
            "      Epoch    GPU_mem   box_loss   cls_loss   dfl_loss  Instances       Size\n"
          ]
        },
        {
          "name": "stderr",
          "output_type": "stream",
          "text": [
            "       6/60      10.1G      1.207      0.705      1.316         17        800: 100%|██████████| 38/38 [00:31<00:00,  1.21it/s]\n",
            "                 Class     Images  Instances      Box(P          R      mAP50  mAP50-95): 100%|██████████| 19/19 [00:08<00:00,  2.12it/s]"
          ]
        },
        {
          "name": "stdout",
          "output_type": "stream",
          "text": [
            "                   all        599       1135       0.91      0.833      0.884       0.65\n"
          ]
        },
        {
          "name": "stderr",
          "output_type": "stream",
          "text": [
            "\n"
          ]
        },
        {
          "name": "stdout",
          "output_type": "stream",
          "text": [
            "\n",
            "      Epoch    GPU_mem   box_loss   cls_loss   dfl_loss  Instances       Size\n"
          ]
        },
        {
          "name": "stderr",
          "output_type": "stream",
          "text": [
            "       7/60      10.1G      1.172     0.6503      1.305         18        800: 100%|██████████| 38/38 [00:31<00:00,  1.22it/s]\n",
            "                 Class     Images  Instances      Box(P          R      mAP50  mAP50-95): 100%|██████████| 19/19 [00:09<00:00,  2.10it/s]"
          ]
        },
        {
          "name": "stdout",
          "output_type": "stream",
          "text": [
            "                   all        599       1135      0.934      0.832      0.889       0.66\n"
          ]
        },
        {
          "name": "stderr",
          "output_type": "stream",
          "text": [
            "\n"
          ]
        },
        {
          "name": "stdout",
          "output_type": "stream",
          "text": [
            "\n",
            "      Epoch    GPU_mem   box_loss   cls_loss   dfl_loss  Instances       Size\n"
          ]
        },
        {
          "name": "stderr",
          "output_type": "stream",
          "text": [
            "       8/60      10.1G      1.139     0.6176      1.276         18        800: 100%|██████████| 38/38 [00:31<00:00,  1.21it/s]\n",
            "                 Class     Images  Instances      Box(P          R      mAP50  mAP50-95): 100%|██████████| 19/19 [00:09<00:00,  2.09it/s]"
          ]
        },
        {
          "name": "stdout",
          "output_type": "stream",
          "text": [
            "                   all        599       1135      0.938      0.845        0.9      0.682\n"
          ]
        },
        {
          "name": "stderr",
          "output_type": "stream",
          "text": [
            "\n"
          ]
        },
        {
          "name": "stdout",
          "output_type": "stream",
          "text": [
            "\n",
            "      Epoch    GPU_mem   box_loss   cls_loss   dfl_loss  Instances       Size\n"
          ]
        },
        {
          "name": "stderr",
          "output_type": "stream",
          "text": [
            "       9/60      10.1G      1.121     0.6108      1.237         19        800: 100%|██████████| 38/38 [00:31<00:00,  1.22it/s]\n",
            "                 Class     Images  Instances      Box(P          R      mAP50  mAP50-95): 100%|██████████| 19/19 [00:09<00:00,  2.09it/s]"
          ]
        },
        {
          "name": "stdout",
          "output_type": "stream",
          "text": [
            "                   all        599       1135      0.915      0.925      0.939      0.707\n"
          ]
        },
        {
          "name": "stderr",
          "output_type": "stream",
          "text": [
            "\n"
          ]
        },
        {
          "name": "stdout",
          "output_type": "stream",
          "text": [
            "\n",
            "      Epoch    GPU_mem   box_loss   cls_loss   dfl_loss  Instances       Size\n"
          ]
        },
        {
          "name": "stderr",
          "output_type": "stream",
          "text": [
            "      10/60      10.1G      1.076     0.5551      1.199         13        800: 100%|██████████| 38/38 [00:31<00:00,  1.21it/s]\n",
            "                 Class     Images  Instances      Box(P          R      mAP50  mAP50-95): 100%|██████████| 19/19 [00:09<00:00,  2.10it/s]"
          ]
        },
        {
          "name": "stdout",
          "output_type": "stream",
          "text": [
            "                   all        599       1135      0.943      0.897      0.931      0.707\n"
          ]
        },
        {
          "name": "stderr",
          "output_type": "stream",
          "text": [
            "\n"
          ]
        },
        {
          "name": "stdout",
          "output_type": "stream",
          "text": [
            "\n",
            "      Epoch    GPU_mem   box_loss   cls_loss   dfl_loss  Instances       Size\n"
          ]
        },
        {
          "name": "stderr",
          "output_type": "stream",
          "text": [
            "      11/60      10.1G      1.011      0.536      1.169         16        800: 100%|██████████| 38/38 [00:31<00:00,  1.22it/s]\n",
            "                 Class     Images  Instances      Box(P          R      mAP50  mAP50-95): 100%|██████████| 19/19 [00:08<00:00,  2.11it/s]"
          ]
        },
        {
          "name": "stdout",
          "output_type": "stream",
          "text": [
            "                   all        599       1135      0.942      0.928      0.947       0.73\n"
          ]
        },
        {
          "name": "stderr",
          "output_type": "stream",
          "text": [
            "\n"
          ]
        },
        {
          "name": "stdout",
          "output_type": "stream",
          "text": [
            "\n",
            "      Epoch    GPU_mem   box_loss   cls_loss   dfl_loss  Instances       Size\n"
          ]
        },
        {
          "name": "stderr",
          "output_type": "stream",
          "text": [
            "      12/60      10.1G      1.017     0.5438      1.168         13        800: 100%|██████████| 38/38 [00:31<00:00,  1.21it/s]\n",
            "                 Class     Images  Instances      Box(P          R      mAP50  mAP50-95): 100%|██████████| 19/19 [00:09<00:00,  2.06it/s]"
          ]
        },
        {
          "name": "stdout",
          "output_type": "stream",
          "text": [
            "                   all        599       1135       0.96      0.892      0.933      0.722\n"
          ]
        },
        {
          "name": "stderr",
          "output_type": "stream",
          "text": [
            "\n"
          ]
        },
        {
          "name": "stdout",
          "output_type": "stream",
          "text": [
            "\n",
            "      Epoch    GPU_mem   box_loss   cls_loss   dfl_loss  Instances       Size\n"
          ]
        },
        {
          "name": "stderr",
          "output_type": "stream",
          "text": [
            "      13/60      10.1G     0.9558     0.5144      1.141         14        800: 100%|██████████| 38/38 [00:31<00:00,  1.22it/s]\n",
            "                 Class     Images  Instances      Box(P          R      mAP50  mAP50-95): 100%|██████████| 19/19 [00:09<00:00,  2.10it/s]"
          ]
        },
        {
          "name": "stdout",
          "output_type": "stream",
          "text": [
            "                   all        599       1135      0.949      0.928      0.949      0.736\n"
          ]
        },
        {
          "name": "stderr",
          "output_type": "stream",
          "text": [
            "\n"
          ]
        },
        {
          "name": "stdout",
          "output_type": "stream",
          "text": [
            "\n",
            "      Epoch    GPU_mem   box_loss   cls_loss   dfl_loss  Instances       Size\n"
          ]
        },
        {
          "name": "stderr",
          "output_type": "stream",
          "text": [
            "      14/60      10.1G      0.968     0.5024      1.141         17        800: 100%|██████████| 38/38 [00:31<00:00,  1.20it/s]\n",
            "                 Class     Images  Instances      Box(P          R      mAP50  mAP50-95): 100%|██████████| 19/19 [00:09<00:00,  2.09it/s]"
          ]
        },
        {
          "name": "stdout",
          "output_type": "stream",
          "text": [
            "                   all        599       1135      0.942      0.947      0.963      0.751\n"
          ]
        },
        {
          "name": "stderr",
          "output_type": "stream",
          "text": [
            "\n"
          ]
        },
        {
          "name": "stdout",
          "output_type": "stream",
          "text": [
            "\n",
            "      Epoch    GPU_mem   box_loss   cls_loss   dfl_loss  Instances       Size\n"
          ]
        },
        {
          "name": "stderr",
          "output_type": "stream",
          "text": [
            "      15/60      10.1G     0.9034     0.4736      1.105         18        800: 100%|██████████| 38/38 [00:31<00:00,  1.22it/s]\n",
            "                 Class     Images  Instances      Box(P          R      mAP50  mAP50-95): 100%|██████████| 19/19 [00:08<00:00,  2.15it/s]"
          ]
        },
        {
          "name": "stdout",
          "output_type": "stream",
          "text": [
            "                   all        599       1135      0.946      0.959      0.971      0.775\n"
          ]
        },
        {
          "name": "stderr",
          "output_type": "stream",
          "text": [
            "\n"
          ]
        },
        {
          "name": "stdout",
          "output_type": "stream",
          "text": [
            "\n",
            "      Epoch    GPU_mem   box_loss   cls_loss   dfl_loss  Instances       Size\n"
          ]
        },
        {
          "name": "stderr",
          "output_type": "stream",
          "text": [
            "      16/60      10.2G     0.9466     0.4832      1.134         23        800: 100%|██████████| 38/38 [00:31<00:00,  1.21it/s]\n",
            "                 Class     Images  Instances      Box(P          R      mAP50  mAP50-95): 100%|██████████| 19/19 [00:09<00:00,  2.08it/s]"
          ]
        },
        {
          "name": "stdout",
          "output_type": "stream",
          "text": [
            "                   all        599       1135      0.964      0.916      0.951      0.769\n"
          ]
        },
        {
          "name": "stderr",
          "output_type": "stream",
          "text": [
            "\n"
          ]
        },
        {
          "name": "stdout",
          "output_type": "stream",
          "text": [
            "\n",
            "      Epoch    GPU_mem   box_loss   cls_loss   dfl_loss  Instances       Size\n"
          ]
        },
        {
          "name": "stderr",
          "output_type": "stream",
          "text": [
            "      17/60      10.1G     0.9074     0.4591      1.096         16        800: 100%|██████████| 38/38 [00:31<00:00,  1.22it/s]\n",
            "                 Class     Images  Instances      Box(P          R      mAP50  mAP50-95): 100%|██████████| 19/19 [00:09<00:00,  2.08it/s]"
          ]
        },
        {
          "name": "stdout",
          "output_type": "stream",
          "text": [
            "                   all        599       1135      0.969      0.939      0.964      0.789\n"
          ]
        },
        {
          "name": "stderr",
          "output_type": "stream",
          "text": [
            "\n"
          ]
        },
        {
          "name": "stdout",
          "output_type": "stream",
          "text": [
            "\n",
            "      Epoch    GPU_mem   box_loss   cls_loss   dfl_loss  Instances       Size\n"
          ]
        },
        {
          "name": "stderr",
          "output_type": "stream",
          "text": [
            "      18/60      10.1G     0.8821     0.4474      1.071          9        800: 100%|██████████| 38/38 [00:31<00:00,  1.21it/s]\n",
            "                 Class     Images  Instances      Box(P          R      mAP50  mAP50-95): 100%|██████████| 19/19 [00:09<00:00,  2.06it/s]"
          ]
        },
        {
          "name": "stdout",
          "output_type": "stream",
          "text": [
            "                   all        599       1135      0.957      0.951      0.968      0.776\n"
          ]
        },
        {
          "name": "stderr",
          "output_type": "stream",
          "text": [
            "\n"
          ]
        },
        {
          "name": "stdout",
          "output_type": "stream",
          "text": [
            "\n",
            "      Epoch    GPU_mem   box_loss   cls_loss   dfl_loss  Instances       Size\n"
          ]
        },
        {
          "name": "stderr",
          "output_type": "stream",
          "text": [
            "      19/60      10.1G     0.8587     0.4475      1.069         11        800: 100%|██████████| 38/38 [00:31<00:00,  1.22it/s]\n",
            "                 Class     Images  Instances      Box(P          R      mAP50  mAP50-95): 100%|██████████| 19/19 [00:09<00:00,  2.09it/s]"
          ]
        },
        {
          "name": "stdout",
          "output_type": "stream",
          "text": [
            "                   all        599       1135       0.96       0.96      0.974       0.79\n"
          ]
        },
        {
          "name": "stderr",
          "output_type": "stream",
          "text": [
            "\n"
          ]
        },
        {
          "name": "stdout",
          "output_type": "stream",
          "text": [
            "\n",
            "      Epoch    GPU_mem   box_loss   cls_loss   dfl_loss  Instances       Size\n"
          ]
        },
        {
          "name": "stderr",
          "output_type": "stream",
          "text": [
            "      20/60      10.1G     0.8457       0.44      1.065         12        800: 100%|██████████| 38/38 [00:31<00:00,  1.21it/s]\n",
            "                 Class     Images  Instances      Box(P          R      mAP50  mAP50-95): 100%|██████████| 19/19 [00:08<00:00,  2.13it/s]"
          ]
        },
        {
          "name": "stdout",
          "output_type": "stream",
          "text": [
            "                   all        599       1135      0.965      0.958      0.974      0.802\n"
          ]
        },
        {
          "name": "stderr",
          "output_type": "stream",
          "text": [
            "\n"
          ]
        },
        {
          "name": "stdout",
          "output_type": "stream",
          "text": [
            "\n",
            "      Epoch    GPU_mem   box_loss   cls_loss   dfl_loss  Instances       Size\n"
          ]
        },
        {
          "name": "stderr",
          "output_type": "stream",
          "text": [
            "      21/60      10.1G     0.8246     0.4328      1.057         18        800: 100%|██████████| 38/38 [00:31<00:00,  1.21it/s]\n",
            "                 Class     Images  Instances      Box(P          R      mAP50  mAP50-95): 100%|██████████| 19/19 [00:09<00:00,  2.10it/s]"
          ]
        },
        {
          "name": "stdout",
          "output_type": "stream",
          "text": [
            "                   all        599       1135      0.979      0.934      0.963      0.808\n"
          ]
        },
        {
          "name": "stderr",
          "output_type": "stream",
          "text": [
            "\n"
          ]
        },
        {
          "name": "stdout",
          "output_type": "stream",
          "text": [
            "\n",
            "      Epoch    GPU_mem   box_loss   cls_loss   dfl_loss  Instances       Size\n"
          ]
        },
        {
          "name": "stderr",
          "output_type": "stream",
          "text": [
            "      22/60      10.1G     0.8295     0.4274      1.045         14        800: 100%|██████████| 38/38 [00:31<00:00,  1.21it/s]\n",
            "                 Class     Images  Instances      Box(P          R      mAP50  mAP50-95): 100%|██████████| 19/19 [00:09<00:00,  2.02it/s]"
          ]
        },
        {
          "name": "stdout",
          "output_type": "stream",
          "text": [
            "                   all        599       1135       0.97      0.959      0.975       0.81\n"
          ]
        },
        {
          "name": "stderr",
          "output_type": "stream",
          "text": [
            "\n"
          ]
        },
        {
          "name": "stdout",
          "output_type": "stream",
          "text": [
            "\n",
            "      Epoch    GPU_mem   box_loss   cls_loss   dfl_loss  Instances       Size\n"
          ]
        },
        {
          "name": "stderr",
          "output_type": "stream",
          "text": [
            "      23/60      10.1G     0.8107     0.4367      1.037         14        800: 100%|██████████| 38/38 [00:31<00:00,  1.21it/s]\n",
            "                 Class     Images  Instances      Box(P          R      mAP50  mAP50-95): 100%|██████████| 19/19 [00:08<00:00,  2.15it/s]"
          ]
        },
        {
          "name": "stdout",
          "output_type": "stream",
          "text": [
            "                   all        599       1135      0.962      0.968       0.98      0.818\n"
          ]
        },
        {
          "name": "stderr",
          "output_type": "stream",
          "text": [
            "\n"
          ]
        },
        {
          "name": "stdout",
          "output_type": "stream",
          "text": [
            "\n",
            "      Epoch    GPU_mem   box_loss   cls_loss   dfl_loss  Instances       Size\n"
          ]
        },
        {
          "name": "stderr",
          "output_type": "stream",
          "text": [
            "      24/60      10.1G     0.8081     0.4091      1.043         13        800: 100%|██████████| 38/38 [00:31<00:00,  1.20it/s]\n",
            "                 Class     Images  Instances      Box(P          R      mAP50  mAP50-95): 100%|██████████| 19/19 [00:09<00:00,  1.97it/s]"
          ]
        },
        {
          "name": "stdout",
          "output_type": "stream",
          "text": [
            "                   all        599       1135      0.971      0.956      0.974      0.815\n"
          ]
        },
        {
          "name": "stderr",
          "output_type": "stream",
          "text": [
            "\n"
          ]
        },
        {
          "name": "stdout",
          "output_type": "stream",
          "text": [
            "\n",
            "      Epoch    GPU_mem   box_loss   cls_loss   dfl_loss  Instances       Size\n"
          ]
        },
        {
          "name": "stderr",
          "output_type": "stream",
          "text": [
            "      25/60      10.1G     0.7774     0.4063      1.033         13        800: 100%|██████████| 38/38 [00:31<00:00,  1.22it/s]\n",
            "                 Class     Images  Instances      Box(P          R      mAP50  mAP50-95): 100%|██████████| 19/19 [00:09<00:00,  2.11it/s]"
          ]
        },
        {
          "name": "stdout",
          "output_type": "stream",
          "text": [
            "                   all        599       1135      0.966      0.961      0.978      0.817\n"
          ]
        },
        {
          "name": "stderr",
          "output_type": "stream",
          "text": [
            "\n"
          ]
        },
        {
          "name": "stdout",
          "output_type": "stream",
          "text": [
            "\n",
            "      Epoch    GPU_mem   box_loss   cls_loss   dfl_loss  Instances       Size\n"
          ]
        },
        {
          "name": "stderr",
          "output_type": "stream",
          "text": [
            "      26/60      10.1G      0.784     0.4248      1.036         17        800: 100%|██████████| 38/38 [00:31<00:00,  1.21it/s]\n",
            "                 Class     Images  Instances      Box(P          R      mAP50  mAP50-95): 100%|██████████| 19/19 [00:09<00:00,  2.07it/s]"
          ]
        },
        {
          "name": "stdout",
          "output_type": "stream",
          "text": [
            "                   all        599       1135      0.966      0.963      0.978      0.831\n"
          ]
        },
        {
          "name": "stderr",
          "output_type": "stream",
          "text": [
            "\n"
          ]
        },
        {
          "name": "stdout",
          "output_type": "stream",
          "text": [
            "\n",
            "      Epoch    GPU_mem   box_loss   cls_loss   dfl_loss  Instances       Size\n"
          ]
        },
        {
          "name": "stderr",
          "output_type": "stream",
          "text": [
            "      27/60      10.1G     0.7721     0.3904      1.019         22        800: 100%|██████████| 38/38 [00:31<00:00,  1.22it/s]\n",
            "                 Class     Images  Instances      Box(P          R      mAP50  mAP50-95): 100%|██████████| 19/19 [00:09<00:00,  2.03it/s]"
          ]
        },
        {
          "name": "stdout",
          "output_type": "stream",
          "text": [
            "                   all        599       1135      0.973      0.961      0.977      0.828\n"
          ]
        },
        {
          "name": "stderr",
          "output_type": "stream",
          "text": [
            "\n"
          ]
        },
        {
          "name": "stdout",
          "output_type": "stream",
          "text": [
            "\n",
            "      Epoch    GPU_mem   box_loss   cls_loss   dfl_loss  Instances       Size\n"
          ]
        },
        {
          "name": "stderr",
          "output_type": "stream",
          "text": [
            "      28/60      10.1G     0.7587     0.3836      1.002         29        800: 100%|██████████| 38/38 [00:31<00:00,  1.22it/s]\n",
            "                 Class     Images  Instances      Box(P          R      mAP50  mAP50-95): 100%|██████████| 19/19 [00:09<00:00,  2.07it/s]"
          ]
        },
        {
          "name": "stdout",
          "output_type": "stream",
          "text": [
            "                   all        599       1135      0.961      0.974      0.984      0.832\n"
          ]
        },
        {
          "name": "stderr",
          "output_type": "stream",
          "text": [
            "\n"
          ]
        },
        {
          "name": "stdout",
          "output_type": "stream",
          "text": [
            "\n",
            "      Epoch    GPU_mem   box_loss   cls_loss   dfl_loss  Instances       Size\n"
          ]
        },
        {
          "name": "stderr",
          "output_type": "stream",
          "text": [
            "      29/60      10.1G     0.7665     0.3984      1.016         21        800: 100%|██████████| 38/38 [00:31<00:00,  1.20it/s]\n",
            "                 Class     Images  Instances      Box(P          R      mAP50  mAP50-95): 100%|██████████| 19/19 [00:09<00:00,  2.06it/s]"
          ]
        },
        {
          "name": "stdout",
          "output_type": "stream",
          "text": [
            "                   all        599       1135      0.972      0.966      0.981      0.826\n"
          ]
        },
        {
          "name": "stderr",
          "output_type": "stream",
          "text": [
            "\n"
          ]
        },
        {
          "name": "stdout",
          "output_type": "stream",
          "text": [
            "\n",
            "      Epoch    GPU_mem   box_loss   cls_loss   dfl_loss  Instances       Size\n"
          ]
        },
        {
          "name": "stderr",
          "output_type": "stream",
          "text": [
            "      30/60      10.1G     0.7586      0.394      1.015         15        800: 100%|██████████| 38/38 [00:31<00:00,  1.22it/s]\n",
            "                 Class     Images  Instances      Box(P          R      mAP50  mAP50-95): 100%|██████████| 19/19 [00:09<00:00,  2.00it/s]"
          ]
        },
        {
          "name": "stdout",
          "output_type": "stream",
          "text": [
            "                   all        599       1135      0.974      0.967      0.981      0.846\n"
          ]
        },
        {
          "name": "stderr",
          "output_type": "stream",
          "text": [
            "\n"
          ]
        },
        {
          "name": "stdout",
          "output_type": "stream",
          "text": [
            "\n",
            "      Epoch    GPU_mem   box_loss   cls_loss   dfl_loss  Instances       Size\n"
          ]
        },
        {
          "name": "stderr",
          "output_type": "stream",
          "text": [
            "      31/60      10.1G     0.7291     0.3788      1.004         15        800: 100%|██████████| 38/38 [00:31<00:00,  1.21it/s]\n",
            "                 Class     Images  Instances      Box(P          R      mAP50  mAP50-95): 100%|██████████| 19/19 [00:09<00:00,  2.01it/s]"
          ]
        },
        {
          "name": "stdout",
          "output_type": "stream",
          "text": [
            "                   all        599       1135      0.968      0.974      0.984      0.849\n"
          ]
        },
        {
          "name": "stderr",
          "output_type": "stream",
          "text": [
            "\n"
          ]
        },
        {
          "name": "stdout",
          "output_type": "stream",
          "text": [
            "\n",
            "      Epoch    GPU_mem   box_loss   cls_loss   dfl_loss  Instances       Size\n"
          ]
        },
        {
          "name": "stderr",
          "output_type": "stream",
          "text": [
            "      32/60      10.2G     0.7184     0.3684     0.9968         24        800: 100%|██████████| 38/38 [00:31<00:00,  1.21it/s]\n",
            "                 Class     Images  Instances      Box(P          R      mAP50  mAP50-95): 100%|██████████| 19/19 [00:08<00:00,  2.13it/s]"
          ]
        },
        {
          "name": "stdout",
          "output_type": "stream",
          "text": [
            "                   all        599       1135      0.972      0.972      0.983      0.838\n"
          ]
        },
        {
          "name": "stderr",
          "output_type": "stream",
          "text": [
            "\n"
          ]
        },
        {
          "name": "stdout",
          "output_type": "stream",
          "text": [
            "\n",
            "      Epoch    GPU_mem   box_loss   cls_loss   dfl_loss  Instances       Size\n"
          ]
        },
        {
          "name": "stderr",
          "output_type": "stream",
          "text": [
            "      33/60      10.1G     0.6889     0.3636     0.9904          7        800: 100%|██████████| 38/38 [00:31<00:00,  1.21it/s]\n",
            "                 Class     Images  Instances      Box(P          R      mAP50  mAP50-95): 100%|██████████| 19/19 [00:09<00:00,  2.10it/s]"
          ]
        },
        {
          "name": "stdout",
          "output_type": "stream",
          "text": [
            "                   all        599       1135      0.976       0.97      0.982      0.854\n"
          ]
        },
        {
          "name": "stderr",
          "output_type": "stream",
          "text": [
            "\n"
          ]
        },
        {
          "name": "stdout",
          "output_type": "stream",
          "text": [
            "\n",
            "      Epoch    GPU_mem   box_loss   cls_loss   dfl_loss  Instances       Size\n"
          ]
        },
        {
          "name": "stderr",
          "output_type": "stream",
          "text": [
            "      34/60      10.1G     0.7034     0.3694     0.9972         11        800: 100%|██████████| 38/38 [00:31<00:00,  1.21it/s]\n",
            "                 Class     Images  Instances      Box(P          R      mAP50  mAP50-95): 100%|██████████| 19/19 [00:09<00:00,  2.05it/s]"
          ]
        },
        {
          "name": "stdout",
          "output_type": "stream",
          "text": [
            "                   all        599       1135      0.977      0.971      0.985      0.851\n"
          ]
        },
        {
          "name": "stderr",
          "output_type": "stream",
          "text": [
            "\n"
          ]
        },
        {
          "name": "stdout",
          "output_type": "stream",
          "text": [
            "\n",
            "      Epoch    GPU_mem   box_loss   cls_loss   dfl_loss  Instances       Size\n"
          ]
        },
        {
          "name": "stderr",
          "output_type": "stream",
          "text": [
            "      35/60      10.1G     0.6839     0.3725     0.9893         15        800: 100%|██████████| 38/38 [00:31<00:00,  1.22it/s]\n",
            "                 Class     Images  Instances      Box(P          R      mAP50  mAP50-95): 100%|██████████| 19/19 [00:08<00:00,  2.14it/s]"
          ]
        },
        {
          "name": "stdout",
          "output_type": "stream",
          "text": [
            "                   all        599       1135      0.982      0.967      0.986      0.858\n"
          ]
        },
        {
          "name": "stderr",
          "output_type": "stream",
          "text": [
            "\n"
          ]
        },
        {
          "name": "stdout",
          "output_type": "stream",
          "text": [
            "\n",
            "      Epoch    GPU_mem   box_loss   cls_loss   dfl_loss  Instances       Size\n"
          ]
        },
        {
          "name": "stderr",
          "output_type": "stream",
          "text": [
            "      36/60      10.2G     0.7105     0.3789          1         28        800: 100%|██████████| 38/38 [00:31<00:00,  1.21it/s]\n",
            "                 Class     Images  Instances      Box(P          R      mAP50  mAP50-95): 100%|██████████| 19/19 [00:09<00:00,  2.07it/s]"
          ]
        },
        {
          "name": "stdout",
          "output_type": "stream",
          "text": [
            "                   all        599       1135      0.968      0.974      0.984      0.867\n"
          ]
        },
        {
          "name": "stderr",
          "output_type": "stream",
          "text": [
            "\n"
          ]
        },
        {
          "name": "stdout",
          "output_type": "stream",
          "text": [
            "\n",
            "      Epoch    GPU_mem   box_loss   cls_loss   dfl_loss  Instances       Size\n"
          ]
        },
        {
          "name": "stderr",
          "output_type": "stream",
          "text": [
            "      37/60      10.1G     0.6755     0.3597     0.9812          9        800: 100%|██████████| 38/38 [00:31<00:00,  1.22it/s]\n",
            "                 Class     Images  Instances      Box(P          R      mAP50  mAP50-95): 100%|██████████| 19/19 [00:09<00:00,  2.07it/s]"
          ]
        },
        {
          "name": "stdout",
          "output_type": "stream",
          "text": [
            "                   all        599       1135      0.969      0.974      0.988       0.86\n"
          ]
        },
        {
          "name": "stderr",
          "output_type": "stream",
          "text": [
            "\n"
          ]
        },
        {
          "name": "stdout",
          "output_type": "stream",
          "text": [
            "\n",
            "      Epoch    GPU_mem   box_loss   cls_loss   dfl_loss  Instances       Size\n"
          ]
        },
        {
          "name": "stderr",
          "output_type": "stream",
          "text": [
            "      38/60      10.1G     0.6654      0.356     0.9669         13        800: 100%|██████████| 38/38 [00:31<00:00,  1.22it/s]\n",
            "                 Class     Images  Instances      Box(P          R      mAP50  mAP50-95): 100%|██████████| 19/19 [00:08<00:00,  2.15it/s]"
          ]
        },
        {
          "name": "stdout",
          "output_type": "stream",
          "text": [
            "                   all        599       1135      0.972      0.975      0.986      0.857\n"
          ]
        },
        {
          "name": "stderr",
          "output_type": "stream",
          "text": [
            "\n"
          ]
        },
        {
          "name": "stdout",
          "output_type": "stream",
          "text": [
            "\n",
            "      Epoch    GPU_mem   box_loss   cls_loss   dfl_loss  Instances       Size\n"
          ]
        },
        {
          "name": "stderr",
          "output_type": "stream",
          "text": [
            "      39/60      10.1G     0.6753     0.3589     0.9894         17        800: 100%|██████████| 38/38 [00:31<00:00,  1.22it/s]\n",
            "                 Class     Images  Instances      Box(P          R      mAP50  mAP50-95): 100%|██████████| 19/19 [00:08<00:00,  2.11it/s]"
          ]
        },
        {
          "name": "stdout",
          "output_type": "stream",
          "text": [
            "                   all        599       1135      0.974      0.972      0.984       0.87\n"
          ]
        },
        {
          "name": "stderr",
          "output_type": "stream",
          "text": [
            "\n"
          ]
        },
        {
          "name": "stdout",
          "output_type": "stream",
          "text": [
            "\n",
            "      Epoch    GPU_mem   box_loss   cls_loss   dfl_loss  Instances       Size\n"
          ]
        },
        {
          "name": "stderr",
          "output_type": "stream",
          "text": [
            "      40/60      10.1G     0.6551      0.349     0.9639         10        800: 100%|██████████| 38/38 [00:31<00:00,  1.21it/s]\n",
            "                 Class     Images  Instances      Box(P          R      mAP50  mAP50-95): 100%|██████████| 19/19 [00:09<00:00,  2.05it/s]"
          ]
        },
        {
          "name": "stdout",
          "output_type": "stream",
          "text": [
            "                   all        599       1135      0.975      0.969      0.983      0.875\n"
          ]
        },
        {
          "name": "stderr",
          "output_type": "stream",
          "text": [
            "\n"
          ]
        },
        {
          "name": "stdout",
          "output_type": "stream",
          "text": [
            "\n",
            "      Epoch    GPU_mem   box_loss   cls_loss   dfl_loss  Instances       Size\n"
          ]
        },
        {
          "name": "stderr",
          "output_type": "stream",
          "text": [
            "      41/60      10.1G     0.6921     0.3659     0.9839         17        800: 100%|██████████| 38/38 [00:31<00:00,  1.22it/s]\n",
            "                 Class     Images  Instances      Box(P          R      mAP50  mAP50-95): 100%|██████████| 19/19 [00:09<00:00,  2.06it/s]"
          ]
        },
        {
          "name": "stdout",
          "output_type": "stream",
          "text": [
            "                   all        599       1135      0.976      0.966      0.981      0.872\n"
          ]
        },
        {
          "name": "stderr",
          "output_type": "stream",
          "text": [
            "\n"
          ]
        },
        {
          "name": "stdout",
          "output_type": "stream",
          "text": [
            "\n",
            "      Epoch    GPU_mem   box_loss   cls_loss   dfl_loss  Instances       Size\n"
          ]
        },
        {
          "name": "stderr",
          "output_type": "stream",
          "text": [
            "      42/60      10.1G      0.657     0.3531     0.9661         36        800: 100%|██████████| 38/38 [00:31<00:00,  1.21it/s]\n",
            "                 Class     Images  Instances      Box(P          R      mAP50  mAP50-95): 100%|██████████| 19/19 [00:09<00:00,  2.07it/s]"
          ]
        },
        {
          "name": "stdout",
          "output_type": "stream",
          "text": [
            "                   all        599       1135      0.966      0.975      0.986      0.862\n"
          ]
        },
        {
          "name": "stderr",
          "output_type": "stream",
          "text": [
            "\n"
          ]
        },
        {
          "name": "stdout",
          "output_type": "stream",
          "text": [
            "\n",
            "      Epoch    GPU_mem   box_loss   cls_loss   dfl_loss  Instances       Size\n"
          ]
        },
        {
          "name": "stderr",
          "output_type": "stream",
          "text": [
            "      43/60      10.1G     0.6692     0.3527     0.9713         18        800: 100%|██████████| 38/38 [00:31<00:00,  1.21it/s]\n",
            "                 Class     Images  Instances      Box(P          R      mAP50  mAP50-95): 100%|██████████| 19/19 [00:09<00:00,  2.10it/s]"
          ]
        },
        {
          "name": "stdout",
          "output_type": "stream",
          "text": [
            "                   all        599       1135       0.96      0.983      0.989      0.872\n"
          ]
        },
        {
          "name": "stderr",
          "output_type": "stream",
          "text": [
            "\n"
          ]
        },
        {
          "name": "stdout",
          "output_type": "stream",
          "text": [
            "\n",
            "      Epoch    GPU_mem   box_loss   cls_loss   dfl_loss  Instances       Size\n"
          ]
        },
        {
          "name": "stderr",
          "output_type": "stream",
          "text": [
            "      44/60      10.2G     0.6387     0.3484     0.9542         10        800: 100%|██████████| 38/38 [00:31<00:00,  1.22it/s]\n",
            "                 Class     Images  Instances      Box(P          R      mAP50  mAP50-95): 100%|██████████| 19/19 [00:09<00:00,  2.06it/s]"
          ]
        },
        {
          "name": "stdout",
          "output_type": "stream",
          "text": [
            "                   all        599       1135      0.963      0.981      0.989       0.88\n"
          ]
        },
        {
          "name": "stderr",
          "output_type": "stream",
          "text": [
            "\n"
          ]
        },
        {
          "name": "stdout",
          "output_type": "stream",
          "text": [
            "\n",
            "      Epoch    GPU_mem   box_loss   cls_loss   dfl_loss  Instances       Size\n"
          ]
        },
        {
          "name": "stderr",
          "output_type": "stream",
          "text": [
            "      45/60      10.1G     0.6402     0.3486     0.9519         22        800: 100%|██████████| 38/38 [00:31<00:00,  1.21it/s]\n",
            "                 Class     Images  Instances      Box(P          R      mAP50  mAP50-95): 100%|██████████| 19/19 [00:09<00:00,  2.09it/s]"
          ]
        },
        {
          "name": "stdout",
          "output_type": "stream",
          "text": [
            "                   all        599       1135      0.968      0.972      0.984      0.874\n"
          ]
        },
        {
          "name": "stderr",
          "output_type": "stream",
          "text": [
            "\n"
          ]
        },
        {
          "name": "stdout",
          "output_type": "stream",
          "text": [
            "\n",
            "      Epoch    GPU_mem   box_loss   cls_loss   dfl_loss  Instances       Size\n"
          ]
        },
        {
          "name": "stderr",
          "output_type": "stream",
          "text": [
            "      46/60      10.1G     0.6571     0.3545      0.966         21        800: 100%|██████████| 38/38 [00:31<00:00,  1.21it/s]\n",
            "                 Class     Images  Instances      Box(P          R      mAP50  mAP50-95): 100%|██████████| 19/19 [00:09<00:00,  2.08it/s]"
          ]
        },
        {
          "name": "stdout",
          "output_type": "stream",
          "text": [
            "                   all        599       1135      0.968      0.974      0.986      0.882\n"
          ]
        },
        {
          "name": "stderr",
          "output_type": "stream",
          "text": [
            "\n"
          ]
        },
        {
          "name": "stdout",
          "output_type": "stream",
          "text": [
            "\n",
            "      Epoch    GPU_mem   box_loss   cls_loss   dfl_loss  Instances       Size\n"
          ]
        },
        {
          "name": "stderr",
          "output_type": "stream",
          "text": [
            "      47/60      10.1G     0.6259     0.3368       0.96         16        800: 100%|██████████| 38/38 [00:31<00:00,  1.21it/s]\n",
            "                 Class     Images  Instances      Box(P          R      mAP50  mAP50-95): 100%|██████████| 19/19 [00:09<00:00,  2.06it/s]"
          ]
        },
        {
          "name": "stdout",
          "output_type": "stream",
          "text": [
            "                   all        599       1135      0.977      0.967      0.982      0.877\n"
          ]
        },
        {
          "name": "stderr",
          "output_type": "stream",
          "text": [
            "\n"
          ]
        },
        {
          "name": "stdout",
          "output_type": "stream",
          "text": [
            "\n",
            "      Epoch    GPU_mem   box_loss   cls_loss   dfl_loss  Instances       Size\n"
          ]
        },
        {
          "name": "stderr",
          "output_type": "stream",
          "text": [
            "      48/60      10.1G     0.6267     0.3376     0.9611         14        800: 100%|██████████| 38/38 [00:31<00:00,  1.21it/s]\n",
            "                 Class     Images  Instances      Box(P          R      mAP50  mAP50-95): 100%|██████████| 19/19 [00:09<00:00,  2.06it/s]"
          ]
        },
        {
          "name": "stdout",
          "output_type": "stream",
          "text": [
            "                   all        599       1135      0.973       0.97      0.984      0.878\n"
          ]
        },
        {
          "name": "stderr",
          "output_type": "stream",
          "text": [
            "\n"
          ]
        },
        {
          "name": "stdout",
          "output_type": "stream",
          "text": [
            "\n",
            "      Epoch    GPU_mem   box_loss   cls_loss   dfl_loss  Instances       Size\n"
          ]
        },
        {
          "name": "stderr",
          "output_type": "stream",
          "text": [
            "      49/60      10.1G      0.645     0.3422     0.9673         10        800: 100%|██████████| 38/38 [00:31<00:00,  1.22it/s]\n",
            "                 Class     Images  Instances      Box(P          R      mAP50  mAP50-95): 100%|██████████| 19/19 [00:09<00:00,  2.11it/s]"
          ]
        },
        {
          "name": "stdout",
          "output_type": "stream",
          "text": [
            "                   all        599       1135      0.972      0.974      0.987      0.886\n"
          ]
        },
        {
          "name": "stderr",
          "output_type": "stream",
          "text": [
            "\n"
          ]
        },
        {
          "name": "stdout",
          "output_type": "stream",
          "text": [
            "\n",
            "      Epoch    GPU_mem   box_loss   cls_loss   dfl_loss  Instances       Size\n"
          ]
        },
        {
          "name": "stderr",
          "output_type": "stream",
          "text": [
            "      50/60      10.1G     0.6449     0.3405     0.9703         15        800: 100%|██████████| 38/38 [00:31<00:00,  1.21it/s]\n",
            "                 Class     Images  Instances      Box(P          R      mAP50  mAP50-95): 100%|██████████| 19/19 [00:08<00:00,  2.12it/s]"
          ]
        },
        {
          "name": "stdout",
          "output_type": "stream",
          "text": [
            "                   all        599       1135      0.976      0.971      0.984      0.884\n"
          ]
        },
        {
          "name": "stderr",
          "output_type": "stream",
          "text": [
            "\n"
          ]
        },
        {
          "name": "stdout",
          "output_type": "stream",
          "text": [
            "Closing dataloader mosaic\n",
            "\u001b[34m\u001b[1malbumentations: \u001b[0mBlur(p=0.01, blur_limit=(3, 7)), MedianBlur(p=0.01, blur_limit=(3, 7)), ToGray(p=0.01, num_output_channels=3, method='weighted_average'), CLAHE(p=0.01, clip_limit=(1.0, 4.0), tile_grid_size=(8, 8))\n",
            "\n",
            "      Epoch    GPU_mem   box_loss   cls_loss   dfl_loss  Instances       Size\n"
          ]
        },
        {
          "name": "stderr",
          "output_type": "stream",
          "text": [
            "      51/60      10.1G     0.5714     0.2784       0.93         15        800: 100%|██████████| 38/38 [00:31<00:00,  1.19it/s]\n",
            "                 Class     Images  Instances      Box(P          R      mAP50  mAP50-95): 100%|██████████| 19/19 [00:09<00:00,  2.08it/s]"
          ]
        },
        {
          "name": "stdout",
          "output_type": "stream",
          "text": [
            "                   all        599       1135       0.97       0.98      0.988      0.889\n"
          ]
        },
        {
          "name": "stderr",
          "output_type": "stream",
          "text": [
            "\n"
          ]
        },
        {
          "name": "stdout",
          "output_type": "stream",
          "text": [
            "\n",
            "      Epoch    GPU_mem   box_loss   cls_loss   dfl_loss  Instances       Size\n"
          ]
        },
        {
          "name": "stderr",
          "output_type": "stream",
          "text": [
            "      52/60      10.1G     0.5823     0.2763     0.9258         14        800: 100%|██████████| 38/38 [00:31<00:00,  1.21it/s]\n",
            "                 Class     Images  Instances      Box(P          R      mAP50  mAP50-95): 100%|██████████| 19/19 [00:09<00:00,  2.03it/s]"
          ]
        },
        {
          "name": "stdout",
          "output_type": "stream",
          "text": [
            "                   all        599       1135      0.974      0.974      0.986      0.892\n"
          ]
        },
        {
          "name": "stderr",
          "output_type": "stream",
          "text": [
            "\n"
          ]
        },
        {
          "name": "stdout",
          "output_type": "stream",
          "text": [
            "\n",
            "      Epoch    GPU_mem   box_loss   cls_loss   dfl_loss  Instances       Size\n"
          ]
        },
        {
          "name": "stderr",
          "output_type": "stream",
          "text": [
            "      53/60      10.1G     0.5699     0.2741     0.9202         11        800: 100%|██████████| 38/38 [00:31<00:00,  1.22it/s]\n",
            "                 Class     Images  Instances      Box(P          R      mAP50  mAP50-95): 100%|██████████| 19/19 [00:09<00:00,  2.08it/s]"
          ]
        },
        {
          "name": "stdout",
          "output_type": "stream",
          "text": [
            "                   all        599       1135      0.969      0.981       0.99       0.89\n"
          ]
        },
        {
          "name": "stderr",
          "output_type": "stream",
          "text": [
            "\n"
          ]
        },
        {
          "name": "stdout",
          "output_type": "stream",
          "text": [
            "\n",
            "      Epoch    GPU_mem   box_loss   cls_loss   dfl_loss  Instances       Size\n"
          ]
        },
        {
          "name": "stderr",
          "output_type": "stream",
          "text": [
            "      54/60      10.1G     0.5592     0.2735     0.9164         12        800: 100%|██████████| 38/38 [00:31<00:00,  1.21it/s]\n",
            "                 Class     Images  Instances      Box(P          R      mAP50  mAP50-95): 100%|██████████| 19/19 [00:09<00:00,  2.06it/s]"
          ]
        },
        {
          "name": "stdout",
          "output_type": "stream",
          "text": [
            "                   all        599       1135      0.969       0.98      0.989      0.894\n"
          ]
        },
        {
          "name": "stderr",
          "output_type": "stream",
          "text": [
            "\n"
          ]
        },
        {
          "name": "stdout",
          "output_type": "stream",
          "text": [
            "\n",
            "      Epoch    GPU_mem   box_loss   cls_loss   dfl_loss  Instances       Size\n"
          ]
        },
        {
          "name": "stderr",
          "output_type": "stream",
          "text": [
            "      55/60      10.1G     0.5559     0.2728     0.9124         10        800: 100%|██████████| 38/38 [00:31<00:00,  1.22it/s]\n",
            "                 Class     Images  Instances      Box(P          R      mAP50  mAP50-95): 100%|██████████| 19/19 [00:09<00:00,  2.10it/s]"
          ]
        },
        {
          "name": "stdout",
          "output_type": "stream",
          "text": [
            "                   all        599       1135      0.961      0.987      0.991        0.9\n"
          ]
        },
        {
          "name": "stderr",
          "output_type": "stream",
          "text": [
            "\n"
          ]
        },
        {
          "name": "stdout",
          "output_type": "stream",
          "text": [
            "\n",
            "      Epoch    GPU_mem   box_loss   cls_loss   dfl_loss  Instances       Size\n"
          ]
        },
        {
          "name": "stderr",
          "output_type": "stream",
          "text": [
            "      56/60      10.1G     0.5612     0.2764      0.922         12        800: 100%|██████████| 38/38 [00:31<00:00,  1.20it/s]\n",
            "                 Class     Images  Instances      Box(P          R      mAP50  mAP50-95): 100%|██████████| 19/19 [00:09<00:00,  2.01it/s]"
          ]
        },
        {
          "name": "stdout",
          "output_type": "stream",
          "text": [
            "                   all        599       1135       0.97      0.981      0.989      0.897\n"
          ]
        },
        {
          "name": "stderr",
          "output_type": "stream",
          "text": [
            "\n"
          ]
        },
        {
          "name": "stdout",
          "output_type": "stream",
          "text": [
            "\n",
            "      Epoch    GPU_mem   box_loss   cls_loss   dfl_loss  Instances       Size\n"
          ]
        },
        {
          "name": "stderr",
          "output_type": "stream",
          "text": [
            "      57/60      10.1G     0.5498     0.2677     0.9048         11        800: 100%|██████████| 38/38 [00:31<00:00,  1.22it/s]\n",
            "                 Class     Images  Instances      Box(P          R      mAP50  mAP50-95): 100%|██████████| 19/19 [00:09<00:00,  2.06it/s]"
          ]
        },
        {
          "name": "stdout",
          "output_type": "stream",
          "text": [
            "                   all        599       1135      0.972      0.978      0.988      0.901\n"
          ]
        },
        {
          "name": "stderr",
          "output_type": "stream",
          "text": [
            "\n"
          ]
        },
        {
          "name": "stdout",
          "output_type": "stream",
          "text": [
            "\n",
            "      Epoch    GPU_mem   box_loss   cls_loss   dfl_loss  Instances       Size\n"
          ]
        },
        {
          "name": "stderr",
          "output_type": "stream",
          "text": [
            "      58/60      10.1G     0.5375     0.2625     0.9018         16        800: 100%|██████████| 38/38 [00:31<00:00,  1.21it/s]\n",
            "                 Class     Images  Instances      Box(P          R      mAP50  mAP50-95): 100%|██████████| 19/19 [00:09<00:00,  2.05it/s]"
          ]
        },
        {
          "name": "stdout",
          "output_type": "stream",
          "text": [
            "                   all        599       1135      0.971      0.979      0.988      0.902\n"
          ]
        },
        {
          "name": "stderr",
          "output_type": "stream",
          "text": [
            "\n"
          ]
        },
        {
          "name": "stdout",
          "output_type": "stream",
          "text": [
            "\n",
            "      Epoch    GPU_mem   box_loss   cls_loss   dfl_loss  Instances       Size\n"
          ]
        },
        {
          "name": "stderr",
          "output_type": "stream",
          "text": [
            "      59/60      10.1G     0.5497      0.264     0.9091         15        800: 100%|██████████| 38/38 [00:31<00:00,  1.22it/s]\n",
            "                 Class     Images  Instances      Box(P          R      mAP50  mAP50-95): 100%|██████████| 19/19 [00:09<00:00,  2.03it/s]"
          ]
        },
        {
          "name": "stdout",
          "output_type": "stream",
          "text": [
            "                   all        599       1135      0.971      0.979      0.988      0.902\n"
          ]
        },
        {
          "name": "stderr",
          "output_type": "stream",
          "text": [
            "\n"
          ]
        },
        {
          "name": "stdout",
          "output_type": "stream",
          "text": [
            "\n",
            "      Epoch    GPU_mem   box_loss   cls_loss   dfl_loss  Instances       Size\n"
          ]
        },
        {
          "name": "stderr",
          "output_type": "stream",
          "text": [
            "      60/60      10.1G     0.5409     0.2604     0.8983         16        800: 100%|██████████| 38/38 [00:31<00:00,  1.21it/s]\n",
            "                 Class     Images  Instances      Box(P          R      mAP50  mAP50-95): 100%|██████████| 19/19 [00:09<00:00,  2.06it/s]"
          ]
        },
        {
          "name": "stdout",
          "output_type": "stream",
          "text": [
            "                   all        599       1135      0.966      0.984       0.99      0.904\n"
          ]
        },
        {
          "name": "stderr",
          "output_type": "stream",
          "text": [
            "\n"
          ]
        },
        {
          "name": "stdout",
          "output_type": "stream",
          "text": [
            "\n",
            "60 epochs completed in 0.772 hours.\n",
            "Optimizer stripped from /content/yolo_helmet_final/yolov8m_imgsz800_ep60_final/weights/last.pt, 52.0MB\n",
            "Optimizer stripped from /content/yolo_helmet_final/yolov8m_imgsz800_ep60_final/weights/best.pt, 52.0MB\n",
            "\n",
            "Validating /content/yolo_helmet_final/yolov8m_imgsz800_ep60_final/weights/best.pt...\n",
            "Ultralytics 8.3.119 🚀 Python-3.11.12 torch-2.6.0+cu124 CUDA:0 (Tesla T4, 15095MiB)\n",
            "Model summary (fused): 92 layers, 25,840,339 parameters, 0 gradients, 78.7 GFLOPs\n"
          ]
        },
        {
          "name": "stderr",
          "output_type": "stream",
          "text": [
            "                 Class     Images  Instances      Box(P          R      mAP50  mAP50-95): 100%|██████████| 19/19 [00:19<00:00,  1.01s/it]\n"
          ]
        },
        {
          "name": "stdout",
          "output_type": "stream",
          "text": [
            "                   all        599       1135      0.961      0.975       0.99      0.864\n",
            "Speed: 0.2ms preprocess, 26.7ms inference, 0.0ms loss, 1.2ms postprocess per image\n",
            "Results saved to \u001b[1m/content/yolo_helmet_final/yolov8m_imgsz800_ep60_final\u001b[0m\n",
            "✅ Final training completed!\n"
          ]
        }
      ],
      "source": [
        "from ultralytics import YOLO\n",
        "import os\n",
        "\n",
        "# --------------- Settings ----------------\n",
        "model_type = 'yolov8m.pt'\n",
        "imgsz = 800\n",
        "epochs = 60                     # More than 20 for longer training\n",
        "patience = 20                    # Early stopping patience\n",
        "batch_size = 16\n",
        "data_path = '/content/helmet_data_split/dataset.yaml'\n",
        "save_dir = '/content/yolo_helmet_final'\n",
        "run_name = f\"{model_type.replace('.pt','')}_imgsz{imgsz}_ep{epochs}_final\"\n",
        "\n",
        "# --------------- Training ----------------\n",
        "model = YOLO(model_type)\n",
        "\n",
        "results = model.train(\n",
        "    data=data_path,\n",
        "    epochs=epochs,\n",
        "    imgsz=imgsz,\n",
        "    save=True,\n",
        "    project=save_dir,\n",
        "    name=run_name,\n",
        "    batch=batch_size,\n",
        "    device=0,\n",
        "    workers=4,\n",
        "    optimizer='SGD',\n",
        "    lr0=0.001,\n",
        "    lrf=0.1,\n",
        "    weight_decay=0.0005,\n",
        "    momentum=0.937,\n",
        "    patience=patience,\n",
        "    cache=True,\n",
        "    save_period=10,\n",
        "    exist_ok=True,\n",
        "\n",
        "    # Augmentations\n",
        "    augment=True,\n",
        "    conf=0.5,\n",
        "    iou=0.5,\n",
        "    mosaic=0.3,\n",
        "    mixup=0.1,\n",
        "    hsv_h=0.01,\n",
        "    hsv_s=0.3,\n",
        "    hsv_v=0.2,\n",
        "    flipud=0.0,\n",
        "    fliplr=0.3,\n",
        "    degrees=3.0,\n",
        "    translate=0.05,\n",
        "    scale=0.1,\n",
        "    shear=0.05,\n",
        "    perspective=0.0,\n",
        "    amp=True,\n",
        "    agnostic_nms=False,\n",
        ")\n",
        "\n",
        "print(\"✅ Final training completed!\")\n"
      ]
    },
    {
      "cell_type": "code",
      "execution_count": 16,
      "metadata": {
        "colab": {
          "base_uri": "https://localhost:8080/"
        },
        "id": "pNxdenzg92_J",
        "outputId": "d5532ace-0eb4-4744-80cf-83b72335d8f2"
      },
      "outputs": [
        {
          "name": "stdout",
          "output_type": "stream",
          "text": [
            "✅ Helmet model weights saved to /content/saved_helmet_model/\n",
            "✅ Training plots saved (if available).\n"
          ]
        }
      ],
      "source": [
        "import shutil\n",
        "import os\n",
        "\n",
        "# ----------- Define paths ------------\n",
        "save_dir = '/content/yolo_helmet_final/yolov8m_imgsz800_ep60_final/weights'\n",
        "destination_dir = '/content/saved_helmet_model'\n",
        "\n",
        "# Create destination directory\n",
        "os.makedirs(destination_dir, exist_ok=True)\n",
        "\n",
        "# ----------- Save best.pt and last.pt ------------\n",
        "shutil.copy(os.path.join(save_dir, 'best.pt'), os.path.join(destination_dir, 'best.pt'))\n",
        "shutil.copy(os.path.join(save_dir, 'last.pt'), os.path.join(destination_dir, 'last.pt'))\n",
        "\n",
        "print(\"✅ Helmet model weights saved to /content/saved_helmet_model/\")\n",
        "\n",
        "# ----------- Optional: Save training plots ------------\n",
        "plots_dir = '/content/helmet_data_split/yolov8m_imgsz800_ep100_final/'\n",
        "plot_files = ['results.png', 'results.csv']  # Standard YOLO outputs\n",
        "\n",
        "for plot_file in plot_files:\n",
        "    plot_path = os.path.join(plots_dir, plot_file)\n",
        "    if os.path.exists(plot_path):\n",
        "        shutil.copy(plot_path, os.path.join(destination_dir, plot_file))\n",
        "\n",
        "print(\"✅ Training plots saved (if available).\")\n"
      ]
    },
    {
      "cell_type": "code",
      "execution_count": 19,
      "metadata": {
        "colab": {
          "base_uri": "https://localhost:8080/"
        },
        "id": "WjyT0XcK-KLc",
        "outputId": "dd1d711b-8471-43fa-b20e-99b37088f1f0"
      },
      "outputs": [
        {
          "name": "stdout",
          "output_type": "stream",
          "text": [
            "  adding: content/yolo_helmet_final/yolov8m_imgsz800_ep60_final/ (stored 0%)\n",
            "  adding: content/yolo_helmet_final/yolov8m_imgsz800_ep60_final/F1_curve.png (deflated 19%)\n",
            "  adding: content/yolo_helmet_final/yolov8m_imgsz800_ep60_final/results.csv (deflated 61%)\n",
            "  adding: content/yolo_helmet_final/yolov8m_imgsz800_ep60_final/train_batch0.jpg (deflated 4%)\n",
            "  adding: content/yolo_helmet_final/yolov8m_imgsz800_ep60_final/val_batch1_pred.jpg (deflated 6%)\n",
            "  adding: content/yolo_helmet_final/yolov8m_imgsz800_ep60_final/weights/ (stored 0%)\n",
            "  adding: content/yolo_helmet_final/yolov8m_imgsz800_ep60_final/weights/epoch50.pt (deflated 8%)\n",
            "  adding: content/yolo_helmet_final/yolov8m_imgsz800_ep60_final/weights/last.pt (deflated 8%)\n",
            "  adding: content/yolo_helmet_final/yolov8m_imgsz800_ep60_final/weights/epoch0.pt (deflated 7%)\n",
            "  adding: content/yolo_helmet_final/yolov8m_imgsz800_ep60_final/weights/best.pt (deflated 8%)\n",
            "  adding: content/yolo_helmet_final/yolov8m_imgsz800_ep60_final/weights/epoch10.pt (deflated 8%)\n",
            "  adding: content/yolo_helmet_final/yolov8m_imgsz800_ep60_final/weights/epoch20.pt (deflated 8%)\n",
            "  adding: content/yolo_helmet_final/yolov8m_imgsz800_ep60_final/weights/epoch40.pt (deflated 8%)\n",
            "  adding: content/yolo_helmet_final/yolov8m_imgsz800_ep60_final/weights/epoch30.pt (deflated 8%)\n",
            "  adding: content/yolo_helmet_final/yolov8m_imgsz800_ep60_final/confusion_matrix_normalized.png (deflated 38%)\n",
            "  adding: content/yolo_helmet_final/yolov8m_imgsz800_ep60_final/train_batch2.jpg (deflated 6%)\n",
            "  adding: content/yolo_helmet_final/yolov8m_imgsz800_ep60_final/PR_curve.png (deflated 27%)\n",
            "  adding: content/yolo_helmet_final/yolov8m_imgsz800_ep60_final/val_batch2_pred.jpg (deflated 6%)\n",
            "  adding: content/yolo_helmet_final/yolov8m_imgsz800_ep60_final/val_batch1_labels.jpg (deflated 6%)\n",
            "  adding: content/yolo_helmet_final/yolov8m_imgsz800_ep60_final/R_curve.png (deflated 17%)\n",
            "  adding: content/yolo_helmet_final/yolov8m_imgsz800_ep60_final/train_batch1.jpg (deflated 6%)\n",
            "  adding: content/yolo_helmet_final/yolov8m_imgsz800_ep60_final/P_curve.png (deflated 28%)\n",
            "  adding: content/yolo_helmet_final/yolov8m_imgsz800_ep60_final/train_batch1902.jpg (deflated 8%)\n",
            "  adding: content/yolo_helmet_final/yolov8m_imgsz800_ep60_final/confusion_matrix.png (deflated 39%)\n",
            "  adding: content/yolo_helmet_final/yolov8m_imgsz800_ep60_final/val_batch2_labels.jpg (deflated 7%)\n",
            "  adding: content/yolo_helmet_final/yolov8m_imgsz800_ep60_final/val_batch0_pred.jpg (deflated 9%)\n",
            "  adding: content/yolo_helmet_final/yolov8m_imgsz800_ep60_final/train_batch1900.jpg (deflated 9%)\n",
            "  adding: content/yolo_helmet_final/yolov8m_imgsz800_ep60_final/labels_correlogram.jpg (deflated 41%)\n",
            "  adding: content/yolo_helmet_final/yolov8m_imgsz800_ep60_final/labels.jpg (deflated 34%)\n",
            "  adding: content/yolo_helmet_final/yolov8m_imgsz800_ep60_final/train_batch1901.jpg (deflated 6%)\n",
            "  adding: content/yolo_helmet_final/yolov8m_imgsz800_ep60_final/results.png (deflated 9%)\n",
            "  adding: content/yolo_helmet_final/yolov8m_imgsz800_ep60_final/val_batch0_labels.jpg (deflated 9%)\n",
            "  adding: content/yolo_helmet_final/yolov8m_imgsz800_ep60_final/args.yaml (deflated 53%)\n"
          ]
        }
      ],
      "source": [
        "# Zip it\n",
        "!zip -r /content/saved_model.zip /content/yolo_helmet_final/yolov8m_imgsz800_ep60_final\n",
        "\n",
        "# Now manually download /content/saved_model.zip from the sidebar!"
      ]
    }
  ],
  "metadata": {
    "accelerator": "GPU",
    "colab": {
      "gpuType": "T4",
      "provenance": []
    },
    "kernelspec": {
      "display_name": "Python 3",
      "name": "python3"
    },
    "language_info": {
      "name": "python"
    }
  },
  "nbformat": 4,
  "nbformat_minor": 0
}
